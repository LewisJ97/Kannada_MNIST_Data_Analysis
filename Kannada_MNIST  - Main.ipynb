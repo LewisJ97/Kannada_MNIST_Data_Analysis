{
 "cells": [
  {
   "cell_type": "markdown",
   "metadata": {
    "colab_type": "text",
    "id": "uvK4EcyrZ_0A"
   },
   "source": [
    "# Kannada MNIST Classification Problem - Group S"
   ]
  },
  {
   "cell_type": "markdown",
   "metadata": {
    "colab_type": "text",
    "id": "cs-HZoXrbbVw"
   },
   "source": [
    "# Team Members"
   ]
  },
  {
   "cell_type": "markdown",
   "metadata": {
    "colab_type": "text",
    "id": "LJem0ci3beKw"
   },
   "source": [
    "1. Stewart Anderson - 201994184\n",
    "2. Lewis Johnston - 201979646\n",
    "3. Scott Davies - 201988979\n",
    "4. Annie Benzie - 201971007"
   ]
  },
  {
   "cell_type": "markdown",
   "metadata": {
    "colab_type": "text",
    "id": "otWs6J-1T-le"
   },
   "source": [
    "# 1. Introduction"
   ]
  },
  {
   "cell_type": "markdown",
   "metadata": {
    "colab_type": "text",
    "id": "ZMsso5NoUEIn"
   },
   "source": [
    "The Kaggle dataset that we will be using is the Kannada MNIST dataset which consists of 70,000 images of digits (60,000 for training and 10,000 for testing). Furthermore, every image in the dataset is labelled with it's corresponding digit. The digits range from 0 to 9 and have been handwritten by volunteers in India. The language of Kannada is one of 22 languages in India and is the official language of the Karnataka state. \n",
    "\n",
    "With respect to the Kannada MNIST dataset we are using, there are only 3 variables: Id, Label and Pixels. However, there are 786 columns due to these pixels. Each image contains 784 features because an image is represented by 28 x 28 pixels. Therefore, each feature is a representation of a single pixels intensity, ranging from 0 (white) to 255 (black).\n",
    "\n",
    "The main aim of this assignment is to use machine learning in the form of deep neural networks (DNN) to be able to classify each digit in the test dataset correctly. Firstly, we tried to implement an original artificial neural network (ANN) and then moved to more complex models in the form of convolutional neural networks (CNN) and convolutional recurrent neural networks (CRNN).\n",
    "\n",
    "With reference to the CNN model, CNN's are known for performing very well in image analysis and classification and so choosing to implement this method was an obvious choice. In addition, the CRNN was also utilised to determine if any benefits could be obtained from the Recurrent Neural Network (RNN) architecture situated at the end of the model. RNN models are better suited to sentiment analysis, however, there has been extensive work carried out using the combination of these two prominent networks. As a result, we wanted to investigate if a mixed model could be utilised for the image classification of the Kannada MNIST dataset, and compare it to the obvious choice."
   ]
  },
  {
   "cell_type": "markdown",
   "metadata": {
    "colab_type": "text",
    "id": "XbEd5XZDk1Yu"
   },
   "source": [
    "# 2. Retrieving Datasets from Kaggle"
   ]
  },
  {
   "cell_type": "markdown",
   "metadata": {
    "colab_type": "text",
    "id": "rYvR4PiTtjDy"
   },
   "source": [
    "**NB**: If the Kannada MNIST training and test sets are already on the system then there is no need for section 2. Therefore, proceed to section 3 where relevant packages are imported."
   ]
  },
  {
   "cell_type": "code",
   "execution_count": 1,
   "metadata": {
    "colab": {
     "base_uri": "https://localhost:8080/",
     "height": 91,
     "resources": {
      "http://localhost:8080/nbextensions/google.colab/files.js": {
       "data": "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",
       "headers": [
        [
         "content-type",
         "application/javascript"
        ]
       ],
       "ok": true,
       "status": 200,
       "status_text": ""
      }
     }
    },
    "colab_type": "code",
    "id": "RnKkT5BLeWE0",
    "outputId": "ad5f2cda-daae-47a3-81a3-b271791034b9"
   },
   "outputs": [
    {
     "data": {
      "text/html": [
       "\n",
       "     <input type=\"file\" id=\"files-00e36f8f-d29f-43fa-ab19-5b6e32077cd0\" name=\"files[]\" multiple disabled />\n",
       "     <output id=\"result-00e36f8f-d29f-43fa-ab19-5b6e32077cd0\">\n",
       "      Upload widget is only available when the cell has been executed in the\n",
       "      current browser session. Please rerun this cell to enable.\n",
       "      </output>\n",
       "      <script src=\"/nbextensions/google.colab/files.js\"></script> "
      ],
      "text/plain": [
       "<IPython.core.display.HTML object>"
      ]
     },
     "metadata": {
      "tags": []
     },
     "output_type": "display_data"
    },
    {
     "name": "stdout",
     "output_type": "stream",
     "text": [
      "Saving kaggle.json to kaggle (1).json\n"
     ]
    },
    {
     "data": {
      "text/plain": [
       "{'kaggle.json': b'{\"username\":\"stewarta96\",\"key\":\"9c9b4a7a39fb128a98c63dd47e3e5350\"}'}"
      ]
     },
     "execution_count": 1,
     "metadata": {
      "tags": []
     },
     "output_type": "execute_result"
    }
   ],
   "source": [
    "from google.colab import files \n",
    "files.upload() # Uploading the files from Kaggle"
   ]
  },
  {
   "cell_type": "code",
   "execution_count": 0,
   "metadata": {
    "colab": {},
    "colab_type": "code",
    "id": "C7rUqxgnfLmP"
   },
   "outputs": [],
   "source": [
    "!mkdir -p ~/.kaggle\n",
    "!cp kaggle.json ~/.kaggle/kaggle.json\n",
    "!chmod 600 /root/.kaggle/kaggle.json"
   ]
  },
  {
   "cell_type": "code",
   "execution_count": 3,
   "metadata": {
    "colab": {
     "base_uri": "https://localhost:8080/",
     "height": 68
    },
    "colab_type": "code",
    "id": "ghHKEcofgO9e",
    "outputId": "16476266-b236-4e26-d192-b2ac65caf91e"
   },
   "outputs": [
    {
     "name": "stdout",
     "output_type": "stream",
     "text": [
      "Warning: Looks like you're using an outdated API Version, please consider updating (server 1.5.6 / client 1.5.4)\n",
      "test.csv.zip: Skipping, found more recently modified local copy (use --force to force download)\n",
      "training.csv.zip: Skipping, found more recently modified local copy (use --force to force download)\n"
     ]
    }
   ],
   "source": [
    " ## Retrieving the training and test datasets from the Kaggle competition page\n",
    "\n",
    "!kaggle competitions download -c cs98x-kannada-mnist"
   ]
  },
  {
   "cell_type": "markdown",
   "metadata": {
    "colab_type": "text",
    "id": "b2kTrah5btfe"
   },
   "source": [
    "# 3. Importing Relevant Packages"
   ]
  },
  {
   "cell_type": "code",
   "execution_count": 4,
   "metadata": {
    "colab": {
     "base_uri": "https://localhost:8080/",
     "height": 156
    },
    "colab_type": "code",
    "id": "7NQvz_qwaFgp",
    "outputId": "93b175fc-3373-4729-8eb0-72f853bf4a45"
   },
   "outputs": [
    {
     "name": "stderr",
     "output_type": "stream",
     "text": [
      "/usr/local/lib/python3.6/dist-packages/statsmodels/tools/_testing.py:19: FutureWarning: pandas.util.testing is deprecated. Use the functions in the public API at pandas.testing instead.\n",
      "  import pandas.util.testing as tm\n"
     ]
    },
    {
     "name": "stdout",
     "output_type": "stream",
     "text": [
      "`%tensorflow_version` only switches the major version: 1.x or 2.x.\n",
      "You set: `1.x # Certain aspects will not run in tensorflow 2.x so this will revert back to 1.x`. This will be interpreted as: `1.x`.\n",
      "\n",
      "\n",
      "TensorFlow 1.x selected.\n"
     ]
    }
   ],
   "source": [
    "\"\"\"\n",
    "        Importing Packages and Libraries\n",
    "\n",
    "\"\"\" \n",
    "\n",
    "import numpy as np # Import the numpy package for working with arrays\n",
    "import pandas as pd # Import the pandas package for working with dataframes\n",
    "import matplotlib.pyplot as plt # Import the matplotlib package for any relevant plots we wish to visualise\n",
    "import seaborn as sns # Import the seaborn package for data visualisation\n",
    "\n",
    "\n",
    "%tensorflow_version 1.x # Certain aspects will not run in tensorflow 2.x so this will revert back to 1.x\n",
    "import tensorflow as tf # Import tensorflow for working with deep neural networks\n",
    "from tensorflow import keras # Keras is the essential API from tensorflow to work with neural networks"
   ]
  },
  {
   "cell_type": "markdown",
   "metadata": {
    "colab_type": "text",
    "id": "hLBFfymZbzKh"
   },
   "source": [
    "# 4. Importing and Viewing the Dataset"
   ]
  },
  {
   "cell_type": "markdown",
   "metadata": {
    "colab_type": "text",
    "id": "gS2uIR1hmDeh"
   },
   "source": [
    "Once the essential libraries are imported above, we will now investigate the data we will be working on. As can be seen below, the Kannada MNIST dataset has already been separated into a training and test set. The shapes of both datasets have been given to show that the data has been imported correctly. As it is clearly shown, the test dataset has a column missing (\"label\") which should be the case as we are trying to predict these digit labels."
   ]
  },
  {
   "cell_type": "code",
   "execution_count": 0,
   "metadata": {
    "colab": {},
    "colab_type": "code",
    "id": "AqhcDo4daW7C"
   },
   "outputs": [],
   "source": [
    "\n",
    "\"\"\"\n",
    "        Importing Kannada MNIST Datasets (Training and Testing)\n",
    "\n",
    "\"\"\"\n",
    "\n",
    "mnist_train = pd.read_csv(\"/content/training.csv.zip\", low_memory=False) # Importing the spotify training dataset\n",
    "mnist_test = pd.read_csv(\"/content/test.csv.zip\", low_memory=False) # Importing the spotify test dataset"
   ]
  },
  {
   "cell_type": "code",
   "execution_count": 6,
   "metadata": {
    "colab": {
     "base_uri": "https://localhost:8080/",
     "height": 34
    },
    "colab_type": "code",
    "id": "_CObfpUAcW9a",
    "outputId": "322cd381-d95e-4a49-90b0-760a30b3d29e"
   },
   "outputs": [
    {
     "data": {
      "text/plain": [
       "(60000, 786)"
      ]
     },
     "execution_count": 6,
     "metadata": {
      "tags": []
     },
     "output_type": "execute_result"
    }
   ],
   "source": [
    "mnist_train.shape # Determining the size of the training set"
   ]
  },
  {
   "cell_type": "code",
   "execution_count": 7,
   "metadata": {
    "colab": {
     "base_uri": "https://localhost:8080/",
     "height": 34
    },
    "colab_type": "code",
    "id": "ZZM6w85MjmYa",
    "outputId": "4cc9de1f-ca48-44bf-a9ff-3fc6cb45d773"
   },
   "outputs": [
    {
     "data": {
      "text/plain": [
       "(10000, 785)"
      ]
     },
     "execution_count": 7,
     "metadata": {
      "tags": []
     },
     "output_type": "execute_result"
    }
   ],
   "source": [
    "mnist_test.shape # Determining the size of the test set"
   ]
  },
  {
   "cell_type": "code",
   "execution_count": 8,
   "metadata": {
    "colab": {
     "base_uri": "https://localhost:8080/",
     "height": 253
    },
    "colab_type": "code",
    "id": "7P1XMtugjrCU",
    "outputId": "5419ae6d-64d5-43a3-d972-b8361677a843"
   },
   "outputs": [
    {
     "data": {
      "text/html": [
       "<div>\n",
       "<style scoped>\n",
       "    .dataframe tbody tr th:only-of-type {\n",
       "        vertical-align: middle;\n",
       "    }\n",
       "\n",
       "    .dataframe tbody tr th {\n",
       "        vertical-align: top;\n",
       "    }\n",
       "\n",
       "    .dataframe thead th {\n",
       "        text-align: right;\n",
       "    }\n",
       "</style>\n",
       "<table border=\"1\" class=\"dataframe\">\n",
       "  <thead>\n",
       "    <tr style=\"text-align: right;\">\n",
       "      <th></th>\n",
       "      <th>id</th>\n",
       "      <th>label</th>\n",
       "      <th>pixel0</th>\n",
       "      <th>pixel1</th>\n",
       "      <th>pixel2</th>\n",
       "      <th>pixel3</th>\n",
       "      <th>pixel4</th>\n",
       "      <th>pixel5</th>\n",
       "      <th>pixel6</th>\n",
       "      <th>pixel7</th>\n",
       "      <th>pixel8</th>\n",
       "      <th>pixel9</th>\n",
       "      <th>pixel10</th>\n",
       "      <th>pixel11</th>\n",
       "      <th>pixel12</th>\n",
       "      <th>pixel13</th>\n",
       "      <th>pixel14</th>\n",
       "      <th>pixel15</th>\n",
       "      <th>pixel16</th>\n",
       "      <th>pixel17</th>\n",
       "      <th>pixel18</th>\n",
       "      <th>pixel19</th>\n",
       "      <th>pixel20</th>\n",
       "      <th>pixel21</th>\n",
       "      <th>pixel22</th>\n",
       "      <th>pixel23</th>\n",
       "      <th>pixel24</th>\n",
       "      <th>pixel25</th>\n",
       "      <th>pixel26</th>\n",
       "      <th>pixel27</th>\n",
       "      <th>pixel28</th>\n",
       "      <th>pixel29</th>\n",
       "      <th>pixel30</th>\n",
       "      <th>pixel31</th>\n",
       "      <th>pixel32</th>\n",
       "      <th>pixel33</th>\n",
       "      <th>pixel34</th>\n",
       "      <th>pixel35</th>\n",
       "      <th>pixel36</th>\n",
       "      <th>pixel37</th>\n",
       "      <th>...</th>\n",
       "      <th>pixel744</th>\n",
       "      <th>pixel745</th>\n",
       "      <th>pixel746</th>\n",
       "      <th>pixel747</th>\n",
       "      <th>pixel748</th>\n",
       "      <th>pixel749</th>\n",
       "      <th>pixel750</th>\n",
       "      <th>pixel751</th>\n",
       "      <th>pixel752</th>\n",
       "      <th>pixel753</th>\n",
       "      <th>pixel754</th>\n",
       "      <th>pixel755</th>\n",
       "      <th>pixel756</th>\n",
       "      <th>pixel757</th>\n",
       "      <th>pixel758</th>\n",
       "      <th>pixel759</th>\n",
       "      <th>pixel760</th>\n",
       "      <th>pixel761</th>\n",
       "      <th>pixel762</th>\n",
       "      <th>pixel763</th>\n",
       "      <th>pixel764</th>\n",
       "      <th>pixel765</th>\n",
       "      <th>pixel766</th>\n",
       "      <th>pixel767</th>\n",
       "      <th>pixel768</th>\n",
       "      <th>pixel769</th>\n",
       "      <th>pixel770</th>\n",
       "      <th>pixel771</th>\n",
       "      <th>pixel772</th>\n",
       "      <th>pixel773</th>\n",
       "      <th>pixel774</th>\n",
       "      <th>pixel775</th>\n",
       "      <th>pixel776</th>\n",
       "      <th>pixel777</th>\n",
       "      <th>pixel778</th>\n",
       "      <th>pixel779</th>\n",
       "      <th>pixel780</th>\n",
       "      <th>pixel781</th>\n",
       "      <th>pixel782</th>\n",
       "      <th>pixel783</th>\n",
       "    </tr>\n",
       "  </thead>\n",
       "  <tbody>\n",
       "    <tr>\n",
       "      <th>0</th>\n",
       "      <td>1</td>\n",
       "      <td>0</td>\n",
       "      <td>0</td>\n",
       "      <td>0</td>\n",
       "      <td>0</td>\n",
       "      <td>0</td>\n",
       "      <td>0</td>\n",
       "      <td>0</td>\n",
       "      <td>0</td>\n",
       "      <td>0</td>\n",
       "      <td>0</td>\n",
       "      <td>0</td>\n",
       "      <td>0</td>\n",
       "      <td>0</td>\n",
       "      <td>0</td>\n",
       "      <td>0</td>\n",
       "      <td>0</td>\n",
       "      <td>0</td>\n",
       "      <td>0</td>\n",
       "      <td>0</td>\n",
       "      <td>0</td>\n",
       "      <td>0</td>\n",
       "      <td>0</td>\n",
       "      <td>0</td>\n",
       "      <td>0</td>\n",
       "      <td>0</td>\n",
       "      <td>0</td>\n",
       "      <td>0</td>\n",
       "      <td>0</td>\n",
       "      <td>0</td>\n",
       "      <td>0</td>\n",
       "      <td>0</td>\n",
       "      <td>0</td>\n",
       "      <td>0</td>\n",
       "      <td>0</td>\n",
       "      <td>0</td>\n",
       "      <td>0</td>\n",
       "      <td>0</td>\n",
       "      <td>0</td>\n",
       "      <td>0</td>\n",
       "      <td>...</td>\n",
       "      <td>0</td>\n",
       "      <td>0</td>\n",
       "      <td>0</td>\n",
       "      <td>0</td>\n",
       "      <td>0</td>\n",
       "      <td>0</td>\n",
       "      <td>0</td>\n",
       "      <td>0</td>\n",
       "      <td>0</td>\n",
       "      <td>0</td>\n",
       "      <td>0</td>\n",
       "      <td>0</td>\n",
       "      <td>0</td>\n",
       "      <td>0</td>\n",
       "      <td>0</td>\n",
       "      <td>0</td>\n",
       "      <td>0</td>\n",
       "      <td>0</td>\n",
       "      <td>0</td>\n",
       "      <td>0</td>\n",
       "      <td>0</td>\n",
       "      <td>0</td>\n",
       "      <td>0</td>\n",
       "      <td>0</td>\n",
       "      <td>0</td>\n",
       "      <td>0</td>\n",
       "      <td>0</td>\n",
       "      <td>0</td>\n",
       "      <td>0</td>\n",
       "      <td>0</td>\n",
       "      <td>0</td>\n",
       "      <td>0</td>\n",
       "      <td>0</td>\n",
       "      <td>0</td>\n",
       "      <td>0</td>\n",
       "      <td>0</td>\n",
       "      <td>0</td>\n",
       "      <td>0</td>\n",
       "      <td>0</td>\n",
       "      <td>0</td>\n",
       "    </tr>\n",
       "    <tr>\n",
       "      <th>1</th>\n",
       "      <td>2</td>\n",
       "      <td>1</td>\n",
       "      <td>0</td>\n",
       "      <td>0</td>\n",
       "      <td>0</td>\n",
       "      <td>0</td>\n",
       "      <td>0</td>\n",
       "      <td>0</td>\n",
       "      <td>0</td>\n",
       "      <td>0</td>\n",
       "      <td>0</td>\n",
       "      <td>0</td>\n",
       "      <td>0</td>\n",
       "      <td>0</td>\n",
       "      <td>0</td>\n",
       "      <td>0</td>\n",
       "      <td>0</td>\n",
       "      <td>0</td>\n",
       "      <td>0</td>\n",
       "      <td>0</td>\n",
       "      <td>0</td>\n",
       "      <td>0</td>\n",
       "      <td>0</td>\n",
       "      <td>0</td>\n",
       "      <td>0</td>\n",
       "      <td>0</td>\n",
       "      <td>0</td>\n",
       "      <td>0</td>\n",
       "      <td>0</td>\n",
       "      <td>0</td>\n",
       "      <td>0</td>\n",
       "      <td>0</td>\n",
       "      <td>0</td>\n",
       "      <td>0</td>\n",
       "      <td>0</td>\n",
       "      <td>0</td>\n",
       "      <td>0</td>\n",
       "      <td>0</td>\n",
       "      <td>0</td>\n",
       "      <td>0</td>\n",
       "      <td>...</td>\n",
       "      <td>0</td>\n",
       "      <td>0</td>\n",
       "      <td>0</td>\n",
       "      <td>0</td>\n",
       "      <td>0</td>\n",
       "      <td>0</td>\n",
       "      <td>0</td>\n",
       "      <td>0</td>\n",
       "      <td>0</td>\n",
       "      <td>0</td>\n",
       "      <td>0</td>\n",
       "      <td>0</td>\n",
       "      <td>0</td>\n",
       "      <td>0</td>\n",
       "      <td>0</td>\n",
       "      <td>0</td>\n",
       "      <td>0</td>\n",
       "      <td>0</td>\n",
       "      <td>0</td>\n",
       "      <td>0</td>\n",
       "      <td>0</td>\n",
       "      <td>0</td>\n",
       "      <td>0</td>\n",
       "      <td>0</td>\n",
       "      <td>0</td>\n",
       "      <td>0</td>\n",
       "      <td>0</td>\n",
       "      <td>0</td>\n",
       "      <td>0</td>\n",
       "      <td>0</td>\n",
       "      <td>0</td>\n",
       "      <td>0</td>\n",
       "      <td>0</td>\n",
       "      <td>0</td>\n",
       "      <td>0</td>\n",
       "      <td>0</td>\n",
       "      <td>0</td>\n",
       "      <td>0</td>\n",
       "      <td>0</td>\n",
       "      <td>0</td>\n",
       "    </tr>\n",
       "    <tr>\n",
       "      <th>2</th>\n",
       "      <td>3</td>\n",
       "      <td>2</td>\n",
       "      <td>0</td>\n",
       "      <td>0</td>\n",
       "      <td>0</td>\n",
       "      <td>0</td>\n",
       "      <td>0</td>\n",
       "      <td>0</td>\n",
       "      <td>0</td>\n",
       "      <td>0</td>\n",
       "      <td>0</td>\n",
       "      <td>0</td>\n",
       "      <td>0</td>\n",
       "      <td>0</td>\n",
       "      <td>0</td>\n",
       "      <td>0</td>\n",
       "      <td>0</td>\n",
       "      <td>0</td>\n",
       "      <td>0</td>\n",
       "      <td>0</td>\n",
       "      <td>0</td>\n",
       "      <td>0</td>\n",
       "      <td>0</td>\n",
       "      <td>0</td>\n",
       "      <td>0</td>\n",
       "      <td>0</td>\n",
       "      <td>0</td>\n",
       "      <td>0</td>\n",
       "      <td>0</td>\n",
       "      <td>0</td>\n",
       "      <td>0</td>\n",
       "      <td>0</td>\n",
       "      <td>0</td>\n",
       "      <td>0</td>\n",
       "      <td>0</td>\n",
       "      <td>0</td>\n",
       "      <td>0</td>\n",
       "      <td>0</td>\n",
       "      <td>0</td>\n",
       "      <td>0</td>\n",
       "      <td>...</td>\n",
       "      <td>0</td>\n",
       "      <td>0</td>\n",
       "      <td>0</td>\n",
       "      <td>0</td>\n",
       "      <td>0</td>\n",
       "      <td>0</td>\n",
       "      <td>0</td>\n",
       "      <td>0</td>\n",
       "      <td>0</td>\n",
       "      <td>0</td>\n",
       "      <td>0</td>\n",
       "      <td>0</td>\n",
       "      <td>0</td>\n",
       "      <td>0</td>\n",
       "      <td>0</td>\n",
       "      <td>0</td>\n",
       "      <td>0</td>\n",
       "      <td>0</td>\n",
       "      <td>0</td>\n",
       "      <td>0</td>\n",
       "      <td>0</td>\n",
       "      <td>0</td>\n",
       "      <td>0</td>\n",
       "      <td>0</td>\n",
       "      <td>0</td>\n",
       "      <td>0</td>\n",
       "      <td>0</td>\n",
       "      <td>0</td>\n",
       "      <td>0</td>\n",
       "      <td>0</td>\n",
       "      <td>0</td>\n",
       "      <td>0</td>\n",
       "      <td>0</td>\n",
       "      <td>0</td>\n",
       "      <td>0</td>\n",
       "      <td>0</td>\n",
       "      <td>0</td>\n",
       "      <td>0</td>\n",
       "      <td>0</td>\n",
       "      <td>0</td>\n",
       "    </tr>\n",
       "    <tr>\n",
       "      <th>3</th>\n",
       "      <td>4</td>\n",
       "      <td>3</td>\n",
       "      <td>0</td>\n",
       "      <td>0</td>\n",
       "      <td>0</td>\n",
       "      <td>0</td>\n",
       "      <td>0</td>\n",
       "      <td>0</td>\n",
       "      <td>0</td>\n",
       "      <td>0</td>\n",
       "      <td>0</td>\n",
       "      <td>0</td>\n",
       "      <td>0</td>\n",
       "      <td>0</td>\n",
       "      <td>0</td>\n",
       "      <td>0</td>\n",
       "      <td>0</td>\n",
       "      <td>0</td>\n",
       "      <td>0</td>\n",
       "      <td>0</td>\n",
       "      <td>0</td>\n",
       "      <td>0</td>\n",
       "      <td>0</td>\n",
       "      <td>0</td>\n",
       "      <td>0</td>\n",
       "      <td>0</td>\n",
       "      <td>0</td>\n",
       "      <td>0</td>\n",
       "      <td>0</td>\n",
       "      <td>0</td>\n",
       "      <td>0</td>\n",
       "      <td>0</td>\n",
       "      <td>0</td>\n",
       "      <td>0</td>\n",
       "      <td>0</td>\n",
       "      <td>0</td>\n",
       "      <td>0</td>\n",
       "      <td>0</td>\n",
       "      <td>0</td>\n",
       "      <td>0</td>\n",
       "      <td>...</td>\n",
       "      <td>0</td>\n",
       "      <td>0</td>\n",
       "      <td>0</td>\n",
       "      <td>0</td>\n",
       "      <td>0</td>\n",
       "      <td>0</td>\n",
       "      <td>0</td>\n",
       "      <td>0</td>\n",
       "      <td>0</td>\n",
       "      <td>0</td>\n",
       "      <td>0</td>\n",
       "      <td>0</td>\n",
       "      <td>0</td>\n",
       "      <td>0</td>\n",
       "      <td>0</td>\n",
       "      <td>0</td>\n",
       "      <td>0</td>\n",
       "      <td>0</td>\n",
       "      <td>0</td>\n",
       "      <td>0</td>\n",
       "      <td>0</td>\n",
       "      <td>0</td>\n",
       "      <td>0</td>\n",
       "      <td>0</td>\n",
       "      <td>0</td>\n",
       "      <td>0</td>\n",
       "      <td>0</td>\n",
       "      <td>0</td>\n",
       "      <td>0</td>\n",
       "      <td>0</td>\n",
       "      <td>0</td>\n",
       "      <td>0</td>\n",
       "      <td>0</td>\n",
       "      <td>0</td>\n",
       "      <td>0</td>\n",
       "      <td>0</td>\n",
       "      <td>0</td>\n",
       "      <td>0</td>\n",
       "      <td>0</td>\n",
       "      <td>0</td>\n",
       "    </tr>\n",
       "    <tr>\n",
       "      <th>4</th>\n",
       "      <td>5</td>\n",
       "      <td>4</td>\n",
       "      <td>0</td>\n",
       "      <td>0</td>\n",
       "      <td>0</td>\n",
       "      <td>0</td>\n",
       "      <td>0</td>\n",
       "      <td>0</td>\n",
       "      <td>0</td>\n",
       "      <td>0</td>\n",
       "      <td>0</td>\n",
       "      <td>0</td>\n",
       "      <td>0</td>\n",
       "      <td>0</td>\n",
       "      <td>0</td>\n",
       "      <td>0</td>\n",
       "      <td>0</td>\n",
       "      <td>0</td>\n",
       "      <td>0</td>\n",
       "      <td>0</td>\n",
       "      <td>0</td>\n",
       "      <td>0</td>\n",
       "      <td>0</td>\n",
       "      <td>0</td>\n",
       "      <td>0</td>\n",
       "      <td>0</td>\n",
       "      <td>0</td>\n",
       "      <td>0</td>\n",
       "      <td>0</td>\n",
       "      <td>0</td>\n",
       "      <td>0</td>\n",
       "      <td>0</td>\n",
       "      <td>0</td>\n",
       "      <td>0</td>\n",
       "      <td>0</td>\n",
       "      <td>0</td>\n",
       "      <td>0</td>\n",
       "      <td>0</td>\n",
       "      <td>0</td>\n",
       "      <td>0</td>\n",
       "      <td>...</td>\n",
       "      <td>0</td>\n",
       "      <td>0</td>\n",
       "      <td>0</td>\n",
       "      <td>0</td>\n",
       "      <td>0</td>\n",
       "      <td>0</td>\n",
       "      <td>0</td>\n",
       "      <td>0</td>\n",
       "      <td>0</td>\n",
       "      <td>0</td>\n",
       "      <td>0</td>\n",
       "      <td>0</td>\n",
       "      <td>0</td>\n",
       "      <td>0</td>\n",
       "      <td>0</td>\n",
       "      <td>0</td>\n",
       "      <td>0</td>\n",
       "      <td>0</td>\n",
       "      <td>0</td>\n",
       "      <td>0</td>\n",
       "      <td>0</td>\n",
       "      <td>0</td>\n",
       "      <td>0</td>\n",
       "      <td>0</td>\n",
       "      <td>0</td>\n",
       "      <td>0</td>\n",
       "      <td>0</td>\n",
       "      <td>0</td>\n",
       "      <td>0</td>\n",
       "      <td>0</td>\n",
       "      <td>0</td>\n",
       "      <td>0</td>\n",
       "      <td>0</td>\n",
       "      <td>0</td>\n",
       "      <td>0</td>\n",
       "      <td>0</td>\n",
       "      <td>0</td>\n",
       "      <td>0</td>\n",
       "      <td>0</td>\n",
       "      <td>0</td>\n",
       "    </tr>\n",
       "  </tbody>\n",
       "</table>\n",
       "<p>5 rows × 786 columns</p>\n",
       "</div>"
      ],
      "text/plain": [
       "   id  label  pixel0  pixel1  ...  pixel780  pixel781  pixel782  pixel783\n",
       "0   1      0       0       0  ...         0         0         0         0\n",
       "1   2      1       0       0  ...         0         0         0         0\n",
       "2   3      2       0       0  ...         0         0         0         0\n",
       "3   4      3       0       0  ...         0         0         0         0\n",
       "4   5      4       0       0  ...         0         0         0         0\n",
       "\n",
       "[5 rows x 786 columns]"
      ]
     },
     "execution_count": 8,
     "metadata": {
      "tags": []
     },
     "output_type": "execute_result"
    }
   ],
   "source": [
    "mnist_train.head() # Allows us to visualise the first five values for each attribute in the training set"
   ]
  },
  {
   "cell_type": "code",
   "execution_count": 9,
   "metadata": {
    "colab": {
     "base_uri": "https://localhost:8080/",
     "height": 346
    },
    "colab_type": "code",
    "id": "qpI8EiOzllMX",
    "outputId": "2b5b2cbe-d846-40c3-da06-671a369801ad"
   },
   "outputs": [
    {
     "data": {
      "text/html": [
       "<div>\n",
       "<style scoped>\n",
       "    .dataframe tbody tr th:only-of-type {\n",
       "        vertical-align: middle;\n",
       "    }\n",
       "\n",
       "    .dataframe tbody tr th {\n",
       "        vertical-align: top;\n",
       "    }\n",
       "\n",
       "    .dataframe thead th {\n",
       "        text-align: right;\n",
       "    }\n",
       "</style>\n",
       "<table border=\"1\" class=\"dataframe\">\n",
       "  <thead>\n",
       "    <tr style=\"text-align: right;\">\n",
       "      <th></th>\n",
       "      <th>id</th>\n",
       "      <th>label</th>\n",
       "      <th>pixel0</th>\n",
       "      <th>pixel1</th>\n",
       "      <th>pixel2</th>\n",
       "      <th>pixel3</th>\n",
       "      <th>pixel4</th>\n",
       "      <th>pixel5</th>\n",
       "      <th>pixel6</th>\n",
       "      <th>pixel7</th>\n",
       "      <th>pixel8</th>\n",
       "      <th>pixel9</th>\n",
       "      <th>pixel10</th>\n",
       "      <th>pixel11</th>\n",
       "      <th>pixel12</th>\n",
       "      <th>pixel13</th>\n",
       "      <th>pixel14</th>\n",
       "      <th>pixel15</th>\n",
       "      <th>pixel16</th>\n",
       "      <th>pixel17</th>\n",
       "      <th>pixel18</th>\n",
       "      <th>pixel19</th>\n",
       "      <th>pixel20</th>\n",
       "      <th>pixel21</th>\n",
       "      <th>pixel22</th>\n",
       "      <th>pixel23</th>\n",
       "      <th>pixel24</th>\n",
       "      <th>pixel25</th>\n",
       "      <th>pixel26</th>\n",
       "      <th>pixel27</th>\n",
       "      <th>pixel28</th>\n",
       "      <th>pixel29</th>\n",
       "      <th>pixel30</th>\n",
       "      <th>pixel31</th>\n",
       "      <th>pixel32</th>\n",
       "      <th>pixel33</th>\n",
       "      <th>pixel34</th>\n",
       "      <th>pixel35</th>\n",
       "      <th>pixel36</th>\n",
       "      <th>pixel37</th>\n",
       "      <th>...</th>\n",
       "      <th>pixel744</th>\n",
       "      <th>pixel745</th>\n",
       "      <th>pixel746</th>\n",
       "      <th>pixel747</th>\n",
       "      <th>pixel748</th>\n",
       "      <th>pixel749</th>\n",
       "      <th>pixel750</th>\n",
       "      <th>pixel751</th>\n",
       "      <th>pixel752</th>\n",
       "      <th>pixel753</th>\n",
       "      <th>pixel754</th>\n",
       "      <th>pixel755</th>\n",
       "      <th>pixel756</th>\n",
       "      <th>pixel757</th>\n",
       "      <th>pixel758</th>\n",
       "      <th>pixel759</th>\n",
       "      <th>pixel760</th>\n",
       "      <th>pixel761</th>\n",
       "      <th>pixel762</th>\n",
       "      <th>pixel763</th>\n",
       "      <th>pixel764</th>\n",
       "      <th>pixel765</th>\n",
       "      <th>pixel766</th>\n",
       "      <th>pixel767</th>\n",
       "      <th>pixel768</th>\n",
       "      <th>pixel769</th>\n",
       "      <th>pixel770</th>\n",
       "      <th>pixel771</th>\n",
       "      <th>pixel772</th>\n",
       "      <th>pixel773</th>\n",
       "      <th>pixel774</th>\n",
       "      <th>pixel775</th>\n",
       "      <th>pixel776</th>\n",
       "      <th>pixel777</th>\n",
       "      <th>pixel778</th>\n",
       "      <th>pixel779</th>\n",
       "      <th>pixel780</th>\n",
       "      <th>pixel781</th>\n",
       "      <th>pixel782</th>\n",
       "      <th>pixel783</th>\n",
       "    </tr>\n",
       "  </thead>\n",
       "  <tbody>\n",
       "    <tr>\n",
       "      <th>count</th>\n",
       "      <td>60000.000000</td>\n",
       "      <td>60000.000000</td>\n",
       "      <td>60000.0</td>\n",
       "      <td>60000.0</td>\n",
       "      <td>60000.0</td>\n",
       "      <td>60000.000000</td>\n",
       "      <td>60000.000000</td>\n",
       "      <td>60000.000000</td>\n",
       "      <td>60000.000000</td>\n",
       "      <td>60000.000000</td>\n",
       "      <td>60000.000000</td>\n",
       "      <td>60000.000000</td>\n",
       "      <td>60000.000000</td>\n",
       "      <td>60000.00000</td>\n",
       "      <td>60000.000000</td>\n",
       "      <td>60000.000000</td>\n",
       "      <td>60000.000000</td>\n",
       "      <td>60000.000000</td>\n",
       "      <td>60000.000000</td>\n",
       "      <td>60000.000000</td>\n",
       "      <td>60000.000000</td>\n",
       "      <td>60000.000000</td>\n",
       "      <td>60000.0</td>\n",
       "      <td>60000.0</td>\n",
       "      <td>60000.0</td>\n",
       "      <td>60000.0</td>\n",
       "      <td>60000.0</td>\n",
       "      <td>60000.0</td>\n",
       "      <td>60000.0</td>\n",
       "      <td>60000.000000</td>\n",
       "      <td>60000.0</td>\n",
       "      <td>60000.0</td>\n",
       "      <td>60000.0</td>\n",
       "      <td>60000.000000</td>\n",
       "      <td>60000.000000</td>\n",
       "      <td>60000.000000</td>\n",
       "      <td>60000.000000</td>\n",
       "      <td>60000.000000</td>\n",
       "      <td>60000.000000</td>\n",
       "      <td>60000.000000</td>\n",
       "      <td>...</td>\n",
       "      <td>60000.000000</td>\n",
       "      <td>60000.000000</td>\n",
       "      <td>60000.000000</td>\n",
       "      <td>60000.000000</td>\n",
       "      <td>60000.000000</td>\n",
       "      <td>60000.000000</td>\n",
       "      <td>60000.000000</td>\n",
       "      <td>60000.000000</td>\n",
       "      <td>60000.000000</td>\n",
       "      <td>60000.000000</td>\n",
       "      <td>60000.000000</td>\n",
       "      <td>60000.0</td>\n",
       "      <td>60000.0</td>\n",
       "      <td>60000.0</td>\n",
       "      <td>60000.0</td>\n",
       "      <td>60000.0</td>\n",
       "      <td>60000.0</td>\n",
       "      <td>60000.0</td>\n",
       "      <td>60000.000000</td>\n",
       "      <td>60000.000000</td>\n",
       "      <td>60000.000000</td>\n",
       "      <td>60000.000000</td>\n",
       "      <td>60000.000000</td>\n",
       "      <td>60000.000000</td>\n",
       "      <td>60000.000000</td>\n",
       "      <td>60000.000000</td>\n",
       "      <td>60000.000000</td>\n",
       "      <td>60000.000000</td>\n",
       "      <td>60000.000000</td>\n",
       "      <td>60000.000000</td>\n",
       "      <td>60000.000000</td>\n",
       "      <td>60000.000000</td>\n",
       "      <td>60000.000000</td>\n",
       "      <td>60000.00000</td>\n",
       "      <td>60000.000000</td>\n",
       "      <td>60000.000000</td>\n",
       "      <td>60000.000000</td>\n",
       "      <td>60000.000000</td>\n",
       "      <td>60000.000000</td>\n",
       "      <td>60000.0</td>\n",
       "    </tr>\n",
       "    <tr>\n",
       "      <th>mean</th>\n",
       "      <td>30000.500000</td>\n",
       "      <td>4.500000</td>\n",
       "      <td>0.0</td>\n",
       "      <td>0.0</td>\n",
       "      <td>0.0</td>\n",
       "      <td>0.003350</td>\n",
       "      <td>0.002700</td>\n",
       "      <td>0.008817</td>\n",
       "      <td>0.029467</td>\n",
       "      <td>0.042017</td>\n",
       "      <td>0.075933</td>\n",
       "      <td>0.115883</td>\n",
       "      <td>0.176117</td>\n",
       "      <td>0.24455</td>\n",
       "      <td>0.222183</td>\n",
       "      <td>0.205267</td>\n",
       "      <td>0.129350</td>\n",
       "      <td>0.051617</td>\n",
       "      <td>0.022217</td>\n",
       "      <td>0.010200</td>\n",
       "      <td>0.005383</td>\n",
       "      <td>0.004500</td>\n",
       "      <td>0.0</td>\n",
       "      <td>0.0</td>\n",
       "      <td>0.0</td>\n",
       "      <td>0.0</td>\n",
       "      <td>0.0</td>\n",
       "      <td>0.0</td>\n",
       "      <td>0.0</td>\n",
       "      <td>0.002900</td>\n",
       "      <td>0.0</td>\n",
       "      <td>0.0</td>\n",
       "      <td>0.0</td>\n",
       "      <td>0.003350</td>\n",
       "      <td>0.003400</td>\n",
       "      <td>0.004367</td>\n",
       "      <td>0.053050</td>\n",
       "      <td>0.142250</td>\n",
       "      <td>0.286950</td>\n",
       "      <td>0.691500</td>\n",
       "      <td>...</td>\n",
       "      <td>0.927767</td>\n",
       "      <td>0.571633</td>\n",
       "      <td>0.469783</td>\n",
       "      <td>0.525783</td>\n",
       "      <td>0.370483</td>\n",
       "      <td>0.278017</td>\n",
       "      <td>0.144767</td>\n",
       "      <td>0.056617</td>\n",
       "      <td>0.027383</td>\n",
       "      <td>0.013667</td>\n",
       "      <td>0.006800</td>\n",
       "      <td>0.0</td>\n",
       "      <td>0.0</td>\n",
       "      <td>0.0</td>\n",
       "      <td>0.0</td>\n",
       "      <td>0.0</td>\n",
       "      <td>0.0</td>\n",
       "      <td>0.0</td>\n",
       "      <td>0.008500</td>\n",
       "      <td>0.050633</td>\n",
       "      <td>0.145167</td>\n",
       "      <td>0.215550</td>\n",
       "      <td>0.362900</td>\n",
       "      <td>0.408600</td>\n",
       "      <td>0.415833</td>\n",
       "      <td>0.424733</td>\n",
       "      <td>0.405717</td>\n",
       "      <td>0.303267</td>\n",
       "      <td>0.123933</td>\n",
       "      <td>0.057250</td>\n",
       "      <td>0.017467</td>\n",
       "      <td>0.013183</td>\n",
       "      <td>0.017400</td>\n",
       "      <td>0.02570</td>\n",
       "      <td>0.015617</td>\n",
       "      <td>0.008183</td>\n",
       "      <td>0.003783</td>\n",
       "      <td>0.003400</td>\n",
       "      <td>0.002717</td>\n",
       "      <td>0.0</td>\n",
       "    </tr>\n",
       "    <tr>\n",
       "      <th>std</th>\n",
       "      <td>17320.652413</td>\n",
       "      <td>2.872305</td>\n",
       "      <td>0.0</td>\n",
       "      <td>0.0</td>\n",
       "      <td>0.0</td>\n",
       "      <td>0.820579</td>\n",
       "      <td>0.661362</td>\n",
       "      <td>1.474271</td>\n",
       "      <td>2.700491</td>\n",
       "      <td>2.918309</td>\n",
       "      <td>3.993023</td>\n",
       "      <td>4.795036</td>\n",
       "      <td>5.874145</td>\n",
       "      <td>7.06010</td>\n",
       "      <td>6.652400</td>\n",
       "      <td>6.195649</td>\n",
       "      <td>5.053904</td>\n",
       "      <td>3.016660</td>\n",
       "      <td>2.088539</td>\n",
       "      <td>1.128635</td>\n",
       "      <td>0.938511</td>\n",
       "      <td>0.780784</td>\n",
       "      <td>0.0</td>\n",
       "      <td>0.0</td>\n",
       "      <td>0.0</td>\n",
       "      <td>0.0</td>\n",
       "      <td>0.0</td>\n",
       "      <td>0.0</td>\n",
       "      <td>0.0</td>\n",
       "      <td>0.710352</td>\n",
       "      <td>0.0</td>\n",
       "      <td>0.0</td>\n",
       "      <td>0.0</td>\n",
       "      <td>0.820579</td>\n",
       "      <td>0.832827</td>\n",
       "      <td>0.854689</td>\n",
       "      <td>3.512156</td>\n",
       "      <td>5.652343</td>\n",
       "      <td>7.745724</td>\n",
       "      <td>11.982185</td>\n",
       "      <td>...</td>\n",
       "      <td>13.285810</td>\n",
       "      <td>10.345211</td>\n",
       "      <td>9.184474</td>\n",
       "      <td>10.524802</td>\n",
       "      <td>8.894604</td>\n",
       "      <td>7.845722</td>\n",
       "      <td>5.752243</td>\n",
       "      <td>3.650589</td>\n",
       "      <td>2.387222</td>\n",
       "      <td>1.673836</td>\n",
       "      <td>1.177785</td>\n",
       "      <td>0.0</td>\n",
       "      <td>0.0</td>\n",
       "      <td>0.0</td>\n",
       "      <td>0.0</td>\n",
       "      <td>0.0</td>\n",
       "      <td>0.0</td>\n",
       "      <td>0.0</td>\n",
       "      <td>1.472231</td>\n",
       "      <td>3.499396</td>\n",
       "      <td>5.680598</td>\n",
       "      <td>6.666483</td>\n",
       "      <td>8.808337</td>\n",
       "      <td>9.385912</td>\n",
       "      <td>9.496864</td>\n",
       "      <td>9.584616</td>\n",
       "      <td>9.389786</td>\n",
       "      <td>7.937053</td>\n",
       "      <td>4.885612</td>\n",
       "      <td>3.179446</td>\n",
       "      <td>1.650426</td>\n",
       "      <td>1.788061</td>\n",
       "      <td>1.659641</td>\n",
       "      <td>2.21439</td>\n",
       "      <td>1.920868</td>\n",
       "      <td>1.225551</td>\n",
       "      <td>0.926724</td>\n",
       "      <td>0.832827</td>\n",
       "      <td>0.665445</td>\n",
       "      <td>0.0</td>\n",
       "    </tr>\n",
       "    <tr>\n",
       "      <th>min</th>\n",
       "      <td>1.000000</td>\n",
       "      <td>0.000000</td>\n",
       "      <td>0.0</td>\n",
       "      <td>0.0</td>\n",
       "      <td>0.0</td>\n",
       "      <td>0.000000</td>\n",
       "      <td>0.000000</td>\n",
       "      <td>0.000000</td>\n",
       "      <td>0.000000</td>\n",
       "      <td>0.000000</td>\n",
       "      <td>0.000000</td>\n",
       "      <td>0.000000</td>\n",
       "      <td>0.000000</td>\n",
       "      <td>0.00000</td>\n",
       "      <td>0.000000</td>\n",
       "      <td>0.000000</td>\n",
       "      <td>0.000000</td>\n",
       "      <td>0.000000</td>\n",
       "      <td>0.000000</td>\n",
       "      <td>0.000000</td>\n",
       "      <td>0.000000</td>\n",
       "      <td>0.000000</td>\n",
       "      <td>0.0</td>\n",
       "      <td>0.0</td>\n",
       "      <td>0.0</td>\n",
       "      <td>0.0</td>\n",
       "      <td>0.0</td>\n",
       "      <td>0.0</td>\n",
       "      <td>0.0</td>\n",
       "      <td>0.000000</td>\n",
       "      <td>0.0</td>\n",
       "      <td>0.0</td>\n",
       "      <td>0.0</td>\n",
       "      <td>0.000000</td>\n",
       "      <td>0.000000</td>\n",
       "      <td>0.000000</td>\n",
       "      <td>0.000000</td>\n",
       "      <td>0.000000</td>\n",
       "      <td>0.000000</td>\n",
       "      <td>0.000000</td>\n",
       "      <td>...</td>\n",
       "      <td>0.000000</td>\n",
       "      <td>0.000000</td>\n",
       "      <td>0.000000</td>\n",
       "      <td>0.000000</td>\n",
       "      <td>0.000000</td>\n",
       "      <td>0.000000</td>\n",
       "      <td>0.000000</td>\n",
       "      <td>0.000000</td>\n",
       "      <td>0.000000</td>\n",
       "      <td>0.000000</td>\n",
       "      <td>0.000000</td>\n",
       "      <td>0.0</td>\n",
       "      <td>0.0</td>\n",
       "      <td>0.0</td>\n",
       "      <td>0.0</td>\n",
       "      <td>0.0</td>\n",
       "      <td>0.0</td>\n",
       "      <td>0.0</td>\n",
       "      <td>0.000000</td>\n",
       "      <td>0.000000</td>\n",
       "      <td>0.000000</td>\n",
       "      <td>0.000000</td>\n",
       "      <td>0.000000</td>\n",
       "      <td>0.000000</td>\n",
       "      <td>0.000000</td>\n",
       "      <td>0.000000</td>\n",
       "      <td>0.000000</td>\n",
       "      <td>0.000000</td>\n",
       "      <td>0.000000</td>\n",
       "      <td>0.000000</td>\n",
       "      <td>0.000000</td>\n",
       "      <td>0.000000</td>\n",
       "      <td>0.000000</td>\n",
       "      <td>0.00000</td>\n",
       "      <td>0.000000</td>\n",
       "      <td>0.000000</td>\n",
       "      <td>0.000000</td>\n",
       "      <td>0.000000</td>\n",
       "      <td>0.000000</td>\n",
       "      <td>0.0</td>\n",
       "    </tr>\n",
       "    <tr>\n",
       "      <th>25%</th>\n",
       "      <td>15000.750000</td>\n",
       "      <td>2.000000</td>\n",
       "      <td>0.0</td>\n",
       "      <td>0.0</td>\n",
       "      <td>0.0</td>\n",
       "      <td>0.000000</td>\n",
       "      <td>0.000000</td>\n",
       "      <td>0.000000</td>\n",
       "      <td>0.000000</td>\n",
       "      <td>0.000000</td>\n",
       "      <td>0.000000</td>\n",
       "      <td>0.000000</td>\n",
       "      <td>0.000000</td>\n",
       "      <td>0.00000</td>\n",
       "      <td>0.000000</td>\n",
       "      <td>0.000000</td>\n",
       "      <td>0.000000</td>\n",
       "      <td>0.000000</td>\n",
       "      <td>0.000000</td>\n",
       "      <td>0.000000</td>\n",
       "      <td>0.000000</td>\n",
       "      <td>0.000000</td>\n",
       "      <td>0.0</td>\n",
       "      <td>0.0</td>\n",
       "      <td>0.0</td>\n",
       "      <td>0.0</td>\n",
       "      <td>0.0</td>\n",
       "      <td>0.0</td>\n",
       "      <td>0.0</td>\n",
       "      <td>0.000000</td>\n",
       "      <td>0.0</td>\n",
       "      <td>0.0</td>\n",
       "      <td>0.0</td>\n",
       "      <td>0.000000</td>\n",
       "      <td>0.000000</td>\n",
       "      <td>0.000000</td>\n",
       "      <td>0.000000</td>\n",
       "      <td>0.000000</td>\n",
       "      <td>0.000000</td>\n",
       "      <td>0.000000</td>\n",
       "      <td>...</td>\n",
       "      <td>0.000000</td>\n",
       "      <td>0.000000</td>\n",
       "      <td>0.000000</td>\n",
       "      <td>0.000000</td>\n",
       "      <td>0.000000</td>\n",
       "      <td>0.000000</td>\n",
       "      <td>0.000000</td>\n",
       "      <td>0.000000</td>\n",
       "      <td>0.000000</td>\n",
       "      <td>0.000000</td>\n",
       "      <td>0.000000</td>\n",
       "      <td>0.0</td>\n",
       "      <td>0.0</td>\n",
       "      <td>0.0</td>\n",
       "      <td>0.0</td>\n",
       "      <td>0.0</td>\n",
       "      <td>0.0</td>\n",
       "      <td>0.0</td>\n",
       "      <td>0.000000</td>\n",
       "      <td>0.000000</td>\n",
       "      <td>0.000000</td>\n",
       "      <td>0.000000</td>\n",
       "      <td>0.000000</td>\n",
       "      <td>0.000000</td>\n",
       "      <td>0.000000</td>\n",
       "      <td>0.000000</td>\n",
       "      <td>0.000000</td>\n",
       "      <td>0.000000</td>\n",
       "      <td>0.000000</td>\n",
       "      <td>0.000000</td>\n",
       "      <td>0.000000</td>\n",
       "      <td>0.000000</td>\n",
       "      <td>0.000000</td>\n",
       "      <td>0.00000</td>\n",
       "      <td>0.000000</td>\n",
       "      <td>0.000000</td>\n",
       "      <td>0.000000</td>\n",
       "      <td>0.000000</td>\n",
       "      <td>0.000000</td>\n",
       "      <td>0.0</td>\n",
       "    </tr>\n",
       "    <tr>\n",
       "      <th>50%</th>\n",
       "      <td>30000.500000</td>\n",
       "      <td>4.500000</td>\n",
       "      <td>0.0</td>\n",
       "      <td>0.0</td>\n",
       "      <td>0.0</td>\n",
       "      <td>0.000000</td>\n",
       "      <td>0.000000</td>\n",
       "      <td>0.000000</td>\n",
       "      <td>0.000000</td>\n",
       "      <td>0.000000</td>\n",
       "      <td>0.000000</td>\n",
       "      <td>0.000000</td>\n",
       "      <td>0.000000</td>\n",
       "      <td>0.00000</td>\n",
       "      <td>0.000000</td>\n",
       "      <td>0.000000</td>\n",
       "      <td>0.000000</td>\n",
       "      <td>0.000000</td>\n",
       "      <td>0.000000</td>\n",
       "      <td>0.000000</td>\n",
       "      <td>0.000000</td>\n",
       "      <td>0.000000</td>\n",
       "      <td>0.0</td>\n",
       "      <td>0.0</td>\n",
       "      <td>0.0</td>\n",
       "      <td>0.0</td>\n",
       "      <td>0.0</td>\n",
       "      <td>0.0</td>\n",
       "      <td>0.0</td>\n",
       "      <td>0.000000</td>\n",
       "      <td>0.0</td>\n",
       "      <td>0.0</td>\n",
       "      <td>0.0</td>\n",
       "      <td>0.000000</td>\n",
       "      <td>0.000000</td>\n",
       "      <td>0.000000</td>\n",
       "      <td>0.000000</td>\n",
       "      <td>0.000000</td>\n",
       "      <td>0.000000</td>\n",
       "      <td>0.000000</td>\n",
       "      <td>...</td>\n",
       "      <td>0.000000</td>\n",
       "      <td>0.000000</td>\n",
       "      <td>0.000000</td>\n",
       "      <td>0.000000</td>\n",
       "      <td>0.000000</td>\n",
       "      <td>0.000000</td>\n",
       "      <td>0.000000</td>\n",
       "      <td>0.000000</td>\n",
       "      <td>0.000000</td>\n",
       "      <td>0.000000</td>\n",
       "      <td>0.000000</td>\n",
       "      <td>0.0</td>\n",
       "      <td>0.0</td>\n",
       "      <td>0.0</td>\n",
       "      <td>0.0</td>\n",
       "      <td>0.0</td>\n",
       "      <td>0.0</td>\n",
       "      <td>0.0</td>\n",
       "      <td>0.000000</td>\n",
       "      <td>0.000000</td>\n",
       "      <td>0.000000</td>\n",
       "      <td>0.000000</td>\n",
       "      <td>0.000000</td>\n",
       "      <td>0.000000</td>\n",
       "      <td>0.000000</td>\n",
       "      <td>0.000000</td>\n",
       "      <td>0.000000</td>\n",
       "      <td>0.000000</td>\n",
       "      <td>0.000000</td>\n",
       "      <td>0.000000</td>\n",
       "      <td>0.000000</td>\n",
       "      <td>0.000000</td>\n",
       "      <td>0.000000</td>\n",
       "      <td>0.00000</td>\n",
       "      <td>0.000000</td>\n",
       "      <td>0.000000</td>\n",
       "      <td>0.000000</td>\n",
       "      <td>0.000000</td>\n",
       "      <td>0.000000</td>\n",
       "      <td>0.0</td>\n",
       "    </tr>\n",
       "    <tr>\n",
       "      <th>75%</th>\n",
       "      <td>45000.250000</td>\n",
       "      <td>7.000000</td>\n",
       "      <td>0.0</td>\n",
       "      <td>0.0</td>\n",
       "      <td>0.0</td>\n",
       "      <td>0.000000</td>\n",
       "      <td>0.000000</td>\n",
       "      <td>0.000000</td>\n",
       "      <td>0.000000</td>\n",
       "      <td>0.000000</td>\n",
       "      <td>0.000000</td>\n",
       "      <td>0.000000</td>\n",
       "      <td>0.000000</td>\n",
       "      <td>0.00000</td>\n",
       "      <td>0.000000</td>\n",
       "      <td>0.000000</td>\n",
       "      <td>0.000000</td>\n",
       "      <td>0.000000</td>\n",
       "      <td>0.000000</td>\n",
       "      <td>0.000000</td>\n",
       "      <td>0.000000</td>\n",
       "      <td>0.000000</td>\n",
       "      <td>0.0</td>\n",
       "      <td>0.0</td>\n",
       "      <td>0.0</td>\n",
       "      <td>0.0</td>\n",
       "      <td>0.0</td>\n",
       "      <td>0.0</td>\n",
       "      <td>0.0</td>\n",
       "      <td>0.000000</td>\n",
       "      <td>0.0</td>\n",
       "      <td>0.0</td>\n",
       "      <td>0.0</td>\n",
       "      <td>0.000000</td>\n",
       "      <td>0.000000</td>\n",
       "      <td>0.000000</td>\n",
       "      <td>0.000000</td>\n",
       "      <td>0.000000</td>\n",
       "      <td>0.000000</td>\n",
       "      <td>0.000000</td>\n",
       "      <td>...</td>\n",
       "      <td>0.000000</td>\n",
       "      <td>0.000000</td>\n",
       "      <td>0.000000</td>\n",
       "      <td>0.000000</td>\n",
       "      <td>0.000000</td>\n",
       "      <td>0.000000</td>\n",
       "      <td>0.000000</td>\n",
       "      <td>0.000000</td>\n",
       "      <td>0.000000</td>\n",
       "      <td>0.000000</td>\n",
       "      <td>0.000000</td>\n",
       "      <td>0.0</td>\n",
       "      <td>0.0</td>\n",
       "      <td>0.0</td>\n",
       "      <td>0.0</td>\n",
       "      <td>0.0</td>\n",
       "      <td>0.0</td>\n",
       "      <td>0.0</td>\n",
       "      <td>0.000000</td>\n",
       "      <td>0.000000</td>\n",
       "      <td>0.000000</td>\n",
       "      <td>0.000000</td>\n",
       "      <td>0.000000</td>\n",
       "      <td>0.000000</td>\n",
       "      <td>0.000000</td>\n",
       "      <td>0.000000</td>\n",
       "      <td>0.000000</td>\n",
       "      <td>0.000000</td>\n",
       "      <td>0.000000</td>\n",
       "      <td>0.000000</td>\n",
       "      <td>0.000000</td>\n",
       "      <td>0.000000</td>\n",
       "      <td>0.000000</td>\n",
       "      <td>0.00000</td>\n",
       "      <td>0.000000</td>\n",
       "      <td>0.000000</td>\n",
       "      <td>0.000000</td>\n",
       "      <td>0.000000</td>\n",
       "      <td>0.000000</td>\n",
       "      <td>0.0</td>\n",
       "    </tr>\n",
       "    <tr>\n",
       "      <th>max</th>\n",
       "      <td>60000.000000</td>\n",
       "      <td>9.000000</td>\n",
       "      <td>0.0</td>\n",
       "      <td>0.0</td>\n",
       "      <td>0.0</td>\n",
       "      <td>201.000000</td>\n",
       "      <td>162.000000</td>\n",
       "      <td>255.000000</td>\n",
       "      <td>255.000000</td>\n",
       "      <td>255.000000</td>\n",
       "      <td>255.000000</td>\n",
       "      <td>255.000000</td>\n",
       "      <td>255.000000</td>\n",
       "      <td>255.00000</td>\n",
       "      <td>255.000000</td>\n",
       "      <td>255.000000</td>\n",
       "      <td>255.000000</td>\n",
       "      <td>255.000000</td>\n",
       "      <td>248.000000</td>\n",
       "      <td>199.000000</td>\n",
       "      <td>180.000000</td>\n",
       "      <td>143.000000</td>\n",
       "      <td>0.0</td>\n",
       "      <td>0.0</td>\n",
       "      <td>0.0</td>\n",
       "      <td>0.0</td>\n",
       "      <td>0.0</td>\n",
       "      <td>0.0</td>\n",
       "      <td>0.0</td>\n",
       "      <td>174.000000</td>\n",
       "      <td>0.0</td>\n",
       "      <td>0.0</td>\n",
       "      <td>0.0</td>\n",
       "      <td>201.000000</td>\n",
       "      <td>204.000000</td>\n",
       "      <td>205.000000</td>\n",
       "      <td>255.000000</td>\n",
       "      <td>255.000000</td>\n",
       "      <td>255.000000</td>\n",
       "      <td>255.000000</td>\n",
       "      <td>...</td>\n",
       "      <td>255.000000</td>\n",
       "      <td>255.000000</td>\n",
       "      <td>255.000000</td>\n",
       "      <td>255.000000</td>\n",
       "      <td>255.000000</td>\n",
       "      <td>255.000000</td>\n",
       "      <td>255.000000</td>\n",
       "      <td>255.000000</td>\n",
       "      <td>255.000000</td>\n",
       "      <td>208.000000</td>\n",
       "      <td>204.000000</td>\n",
       "      <td>0.0</td>\n",
       "      <td>0.0</td>\n",
       "      <td>0.0</td>\n",
       "      <td>0.0</td>\n",
       "      <td>0.0</td>\n",
       "      <td>0.0</td>\n",
       "      <td>0.0</td>\n",
       "      <td>255.000000</td>\n",
       "      <td>255.000000</td>\n",
       "      <td>255.000000</td>\n",
       "      <td>255.000000</td>\n",
       "      <td>255.000000</td>\n",
       "      <td>255.000000</td>\n",
       "      <td>255.000000</td>\n",
       "      <td>255.000000</td>\n",
       "      <td>255.000000</td>\n",
       "      <td>255.000000</td>\n",
       "      <td>255.000000</td>\n",
       "      <td>255.000000</td>\n",
       "      <td>255.000000</td>\n",
       "      <td>255.000000</td>\n",
       "      <td>239.000000</td>\n",
       "      <td>255.00000</td>\n",
       "      <td>255.000000</td>\n",
       "      <td>204.000000</td>\n",
       "      <td>227.000000</td>\n",
       "      <td>204.000000</td>\n",
       "      <td>163.000000</td>\n",
       "      <td>0.0</td>\n",
       "    </tr>\n",
       "  </tbody>\n",
       "</table>\n",
       "<p>8 rows × 786 columns</p>\n",
       "</div>"
      ],
      "text/plain": [
       "                 id         label  ...      pixel782  pixel783\n",
       "count  60000.000000  60000.000000  ...  60000.000000   60000.0\n",
       "mean   30000.500000      4.500000  ...      0.002717       0.0\n",
       "std    17320.652413      2.872305  ...      0.665445       0.0\n",
       "min        1.000000      0.000000  ...      0.000000       0.0\n",
       "25%    15000.750000      2.000000  ...      0.000000       0.0\n",
       "50%    30000.500000      4.500000  ...      0.000000       0.0\n",
       "75%    45000.250000      7.000000  ...      0.000000       0.0\n",
       "max    60000.000000      9.000000  ...    163.000000       0.0\n",
       "\n",
       "[8 rows x 786 columns]"
      ]
     },
     "execution_count": 9,
     "metadata": {
      "tags": []
     },
     "output_type": "execute_result"
    }
   ],
   "source": [
    "mnist_train.describe() # Gives a summary of statistics (count, mean, standard deviation etc) of the training set attributes"
   ]
  },
  {
   "cell_type": "code",
   "execution_count": 10,
   "metadata": {
    "colab": {
     "base_uri": "https://localhost:8080/",
     "height": 253
    },
    "colab_type": "code",
    "id": "xQIk_XPXmEiS",
    "outputId": "d619eada-2a7d-4f17-a427-a0238d831ab0"
   },
   "outputs": [
    {
     "data": {
      "text/html": [
       "<div>\n",
       "<style scoped>\n",
       "    .dataframe tbody tr th:only-of-type {\n",
       "        vertical-align: middle;\n",
       "    }\n",
       "\n",
       "    .dataframe tbody tr th {\n",
       "        vertical-align: top;\n",
       "    }\n",
       "\n",
       "    .dataframe thead th {\n",
       "        text-align: right;\n",
       "    }\n",
       "</style>\n",
       "<table border=\"1\" class=\"dataframe\">\n",
       "  <thead>\n",
       "    <tr style=\"text-align: right;\">\n",
       "      <th></th>\n",
       "      <th>id</th>\n",
       "      <th>pixel0</th>\n",
       "      <th>pixel1</th>\n",
       "      <th>pixel2</th>\n",
       "      <th>pixel3</th>\n",
       "      <th>pixel4</th>\n",
       "      <th>pixel5</th>\n",
       "      <th>pixel6</th>\n",
       "      <th>pixel7</th>\n",
       "      <th>pixel8</th>\n",
       "      <th>pixel9</th>\n",
       "      <th>pixel10</th>\n",
       "      <th>pixel11</th>\n",
       "      <th>pixel12</th>\n",
       "      <th>pixel13</th>\n",
       "      <th>pixel14</th>\n",
       "      <th>pixel15</th>\n",
       "      <th>pixel16</th>\n",
       "      <th>pixel17</th>\n",
       "      <th>pixel18</th>\n",
       "      <th>pixel19</th>\n",
       "      <th>pixel20</th>\n",
       "      <th>pixel21</th>\n",
       "      <th>pixel22</th>\n",
       "      <th>pixel23</th>\n",
       "      <th>pixel24</th>\n",
       "      <th>pixel25</th>\n",
       "      <th>pixel26</th>\n",
       "      <th>pixel27</th>\n",
       "      <th>pixel28</th>\n",
       "      <th>pixel29</th>\n",
       "      <th>pixel30</th>\n",
       "      <th>pixel31</th>\n",
       "      <th>pixel32</th>\n",
       "      <th>pixel33</th>\n",
       "      <th>pixel34</th>\n",
       "      <th>pixel35</th>\n",
       "      <th>pixel36</th>\n",
       "      <th>pixel37</th>\n",
       "      <th>pixel38</th>\n",
       "      <th>...</th>\n",
       "      <th>pixel744</th>\n",
       "      <th>pixel745</th>\n",
       "      <th>pixel746</th>\n",
       "      <th>pixel747</th>\n",
       "      <th>pixel748</th>\n",
       "      <th>pixel749</th>\n",
       "      <th>pixel750</th>\n",
       "      <th>pixel751</th>\n",
       "      <th>pixel752</th>\n",
       "      <th>pixel753</th>\n",
       "      <th>pixel754</th>\n",
       "      <th>pixel755</th>\n",
       "      <th>pixel756</th>\n",
       "      <th>pixel757</th>\n",
       "      <th>pixel758</th>\n",
       "      <th>pixel759</th>\n",
       "      <th>pixel760</th>\n",
       "      <th>pixel761</th>\n",
       "      <th>pixel762</th>\n",
       "      <th>pixel763</th>\n",
       "      <th>pixel764</th>\n",
       "      <th>pixel765</th>\n",
       "      <th>pixel766</th>\n",
       "      <th>pixel767</th>\n",
       "      <th>pixel768</th>\n",
       "      <th>pixel769</th>\n",
       "      <th>pixel770</th>\n",
       "      <th>pixel771</th>\n",
       "      <th>pixel772</th>\n",
       "      <th>pixel773</th>\n",
       "      <th>pixel774</th>\n",
       "      <th>pixel775</th>\n",
       "      <th>pixel776</th>\n",
       "      <th>pixel777</th>\n",
       "      <th>pixel778</th>\n",
       "      <th>pixel779</th>\n",
       "      <th>pixel780</th>\n",
       "      <th>pixel781</th>\n",
       "      <th>pixel782</th>\n",
       "      <th>pixel783</th>\n",
       "    </tr>\n",
       "  </thead>\n",
       "  <tbody>\n",
       "    <tr>\n",
       "      <th>0</th>\n",
       "      <td>60001</td>\n",
       "      <td>0</td>\n",
       "      <td>0</td>\n",
       "      <td>0</td>\n",
       "      <td>0</td>\n",
       "      <td>0</td>\n",
       "      <td>0</td>\n",
       "      <td>0</td>\n",
       "      <td>0</td>\n",
       "      <td>0</td>\n",
       "      <td>0</td>\n",
       "      <td>0</td>\n",
       "      <td>0</td>\n",
       "      <td>0</td>\n",
       "      <td>0</td>\n",
       "      <td>0</td>\n",
       "      <td>0</td>\n",
       "      <td>0</td>\n",
       "      <td>0</td>\n",
       "      <td>0</td>\n",
       "      <td>0</td>\n",
       "      <td>0</td>\n",
       "      <td>0</td>\n",
       "      <td>0</td>\n",
       "      <td>0</td>\n",
       "      <td>0</td>\n",
       "      <td>0</td>\n",
       "      <td>0</td>\n",
       "      <td>0</td>\n",
       "      <td>0</td>\n",
       "      <td>0</td>\n",
       "      <td>0</td>\n",
       "      <td>0</td>\n",
       "      <td>0</td>\n",
       "      <td>0</td>\n",
       "      <td>0</td>\n",
       "      <td>0</td>\n",
       "      <td>0</td>\n",
       "      <td>0</td>\n",
       "      <td>0</td>\n",
       "      <td>...</td>\n",
       "      <td>0</td>\n",
       "      <td>0</td>\n",
       "      <td>0</td>\n",
       "      <td>0</td>\n",
       "      <td>0</td>\n",
       "      <td>0</td>\n",
       "      <td>0</td>\n",
       "      <td>0</td>\n",
       "      <td>0</td>\n",
       "      <td>0</td>\n",
       "      <td>0</td>\n",
       "      <td>0</td>\n",
       "      <td>0</td>\n",
       "      <td>0</td>\n",
       "      <td>0</td>\n",
       "      <td>0</td>\n",
       "      <td>0</td>\n",
       "      <td>0</td>\n",
       "      <td>0</td>\n",
       "      <td>0</td>\n",
       "      <td>0</td>\n",
       "      <td>0</td>\n",
       "      <td>0</td>\n",
       "      <td>0</td>\n",
       "      <td>0</td>\n",
       "      <td>0</td>\n",
       "      <td>0</td>\n",
       "      <td>0</td>\n",
       "      <td>0</td>\n",
       "      <td>0</td>\n",
       "      <td>0</td>\n",
       "      <td>0</td>\n",
       "      <td>0</td>\n",
       "      <td>0</td>\n",
       "      <td>0</td>\n",
       "      <td>0</td>\n",
       "      <td>0</td>\n",
       "      <td>0</td>\n",
       "      <td>0</td>\n",
       "      <td>0</td>\n",
       "    </tr>\n",
       "    <tr>\n",
       "      <th>1</th>\n",
       "      <td>60002</td>\n",
       "      <td>0</td>\n",
       "      <td>0</td>\n",
       "      <td>0</td>\n",
       "      <td>0</td>\n",
       "      <td>0</td>\n",
       "      <td>0</td>\n",
       "      <td>0</td>\n",
       "      <td>0</td>\n",
       "      <td>0</td>\n",
       "      <td>0</td>\n",
       "      <td>0</td>\n",
       "      <td>0</td>\n",
       "      <td>0</td>\n",
       "      <td>0</td>\n",
       "      <td>0</td>\n",
       "      <td>0</td>\n",
       "      <td>0</td>\n",
       "      <td>0</td>\n",
       "      <td>0</td>\n",
       "      <td>0</td>\n",
       "      <td>0</td>\n",
       "      <td>0</td>\n",
       "      <td>0</td>\n",
       "      <td>0</td>\n",
       "      <td>0</td>\n",
       "      <td>0</td>\n",
       "      <td>0</td>\n",
       "      <td>0</td>\n",
       "      <td>0</td>\n",
       "      <td>0</td>\n",
       "      <td>0</td>\n",
       "      <td>0</td>\n",
       "      <td>0</td>\n",
       "      <td>0</td>\n",
       "      <td>0</td>\n",
       "      <td>0</td>\n",
       "      <td>0</td>\n",
       "      <td>0</td>\n",
       "      <td>0</td>\n",
       "      <td>...</td>\n",
       "      <td>0</td>\n",
       "      <td>0</td>\n",
       "      <td>0</td>\n",
       "      <td>0</td>\n",
       "      <td>0</td>\n",
       "      <td>0</td>\n",
       "      <td>0</td>\n",
       "      <td>0</td>\n",
       "      <td>0</td>\n",
       "      <td>0</td>\n",
       "      <td>0</td>\n",
       "      <td>0</td>\n",
       "      <td>0</td>\n",
       "      <td>0</td>\n",
       "      <td>0</td>\n",
       "      <td>0</td>\n",
       "      <td>0</td>\n",
       "      <td>0</td>\n",
       "      <td>0</td>\n",
       "      <td>0</td>\n",
       "      <td>0</td>\n",
       "      <td>0</td>\n",
       "      <td>0</td>\n",
       "      <td>0</td>\n",
       "      <td>0</td>\n",
       "      <td>0</td>\n",
       "      <td>0</td>\n",
       "      <td>0</td>\n",
       "      <td>0</td>\n",
       "      <td>0</td>\n",
       "      <td>0</td>\n",
       "      <td>0</td>\n",
       "      <td>0</td>\n",
       "      <td>0</td>\n",
       "      <td>0</td>\n",
       "      <td>0</td>\n",
       "      <td>0</td>\n",
       "      <td>0</td>\n",
       "      <td>0</td>\n",
       "      <td>0</td>\n",
       "    </tr>\n",
       "    <tr>\n",
       "      <th>2</th>\n",
       "      <td>60003</td>\n",
       "      <td>0</td>\n",
       "      <td>0</td>\n",
       "      <td>0</td>\n",
       "      <td>0</td>\n",
       "      <td>0</td>\n",
       "      <td>0</td>\n",
       "      <td>0</td>\n",
       "      <td>0</td>\n",
       "      <td>0</td>\n",
       "      <td>0</td>\n",
       "      <td>0</td>\n",
       "      <td>0</td>\n",
       "      <td>0</td>\n",
       "      <td>0</td>\n",
       "      <td>0</td>\n",
       "      <td>0</td>\n",
       "      <td>0</td>\n",
       "      <td>0</td>\n",
       "      <td>0</td>\n",
       "      <td>0</td>\n",
       "      <td>0</td>\n",
       "      <td>0</td>\n",
       "      <td>0</td>\n",
       "      <td>0</td>\n",
       "      <td>0</td>\n",
       "      <td>0</td>\n",
       "      <td>0</td>\n",
       "      <td>0</td>\n",
       "      <td>0</td>\n",
       "      <td>0</td>\n",
       "      <td>0</td>\n",
       "      <td>0</td>\n",
       "      <td>0</td>\n",
       "      <td>0</td>\n",
       "      <td>0</td>\n",
       "      <td>0</td>\n",
       "      <td>0</td>\n",
       "      <td>0</td>\n",
       "      <td>0</td>\n",
       "      <td>...</td>\n",
       "      <td>0</td>\n",
       "      <td>0</td>\n",
       "      <td>0</td>\n",
       "      <td>0</td>\n",
       "      <td>0</td>\n",
       "      <td>0</td>\n",
       "      <td>0</td>\n",
       "      <td>0</td>\n",
       "      <td>0</td>\n",
       "      <td>0</td>\n",
       "      <td>0</td>\n",
       "      <td>0</td>\n",
       "      <td>0</td>\n",
       "      <td>0</td>\n",
       "      <td>0</td>\n",
       "      <td>0</td>\n",
       "      <td>0</td>\n",
       "      <td>0</td>\n",
       "      <td>0</td>\n",
       "      <td>0</td>\n",
       "      <td>0</td>\n",
       "      <td>0</td>\n",
       "      <td>0</td>\n",
       "      <td>0</td>\n",
       "      <td>0</td>\n",
       "      <td>0</td>\n",
       "      <td>0</td>\n",
       "      <td>0</td>\n",
       "      <td>0</td>\n",
       "      <td>0</td>\n",
       "      <td>0</td>\n",
       "      <td>0</td>\n",
       "      <td>0</td>\n",
       "      <td>0</td>\n",
       "      <td>0</td>\n",
       "      <td>0</td>\n",
       "      <td>0</td>\n",
       "      <td>0</td>\n",
       "      <td>0</td>\n",
       "      <td>0</td>\n",
       "    </tr>\n",
       "    <tr>\n",
       "      <th>3</th>\n",
       "      <td>60004</td>\n",
       "      <td>0</td>\n",
       "      <td>0</td>\n",
       "      <td>0</td>\n",
       "      <td>0</td>\n",
       "      <td>0</td>\n",
       "      <td>0</td>\n",
       "      <td>0</td>\n",
       "      <td>0</td>\n",
       "      <td>0</td>\n",
       "      <td>0</td>\n",
       "      <td>0</td>\n",
       "      <td>0</td>\n",
       "      <td>0</td>\n",
       "      <td>0</td>\n",
       "      <td>0</td>\n",
       "      <td>0</td>\n",
       "      <td>0</td>\n",
       "      <td>0</td>\n",
       "      <td>0</td>\n",
       "      <td>0</td>\n",
       "      <td>0</td>\n",
       "      <td>0</td>\n",
       "      <td>0</td>\n",
       "      <td>0</td>\n",
       "      <td>0</td>\n",
       "      <td>0</td>\n",
       "      <td>0</td>\n",
       "      <td>0</td>\n",
       "      <td>0</td>\n",
       "      <td>0</td>\n",
       "      <td>0</td>\n",
       "      <td>0</td>\n",
       "      <td>0</td>\n",
       "      <td>0</td>\n",
       "      <td>0</td>\n",
       "      <td>0</td>\n",
       "      <td>0</td>\n",
       "      <td>0</td>\n",
       "      <td>0</td>\n",
       "      <td>...</td>\n",
       "      <td>0</td>\n",
       "      <td>0</td>\n",
       "      <td>0</td>\n",
       "      <td>0</td>\n",
       "      <td>0</td>\n",
       "      <td>0</td>\n",
       "      <td>0</td>\n",
       "      <td>0</td>\n",
       "      <td>0</td>\n",
       "      <td>0</td>\n",
       "      <td>0</td>\n",
       "      <td>0</td>\n",
       "      <td>0</td>\n",
       "      <td>0</td>\n",
       "      <td>0</td>\n",
       "      <td>0</td>\n",
       "      <td>0</td>\n",
       "      <td>0</td>\n",
       "      <td>0</td>\n",
       "      <td>0</td>\n",
       "      <td>0</td>\n",
       "      <td>0</td>\n",
       "      <td>0</td>\n",
       "      <td>0</td>\n",
       "      <td>0</td>\n",
       "      <td>0</td>\n",
       "      <td>0</td>\n",
       "      <td>0</td>\n",
       "      <td>0</td>\n",
       "      <td>0</td>\n",
       "      <td>0</td>\n",
       "      <td>0</td>\n",
       "      <td>0</td>\n",
       "      <td>0</td>\n",
       "      <td>0</td>\n",
       "      <td>0</td>\n",
       "      <td>0</td>\n",
       "      <td>0</td>\n",
       "      <td>0</td>\n",
       "      <td>0</td>\n",
       "    </tr>\n",
       "    <tr>\n",
       "      <th>4</th>\n",
       "      <td>60005</td>\n",
       "      <td>0</td>\n",
       "      <td>0</td>\n",
       "      <td>0</td>\n",
       "      <td>0</td>\n",
       "      <td>0</td>\n",
       "      <td>0</td>\n",
       "      <td>0</td>\n",
       "      <td>0</td>\n",
       "      <td>0</td>\n",
       "      <td>0</td>\n",
       "      <td>0</td>\n",
       "      <td>0</td>\n",
       "      <td>0</td>\n",
       "      <td>0</td>\n",
       "      <td>0</td>\n",
       "      <td>0</td>\n",
       "      <td>0</td>\n",
       "      <td>0</td>\n",
       "      <td>0</td>\n",
       "      <td>0</td>\n",
       "      <td>0</td>\n",
       "      <td>0</td>\n",
       "      <td>0</td>\n",
       "      <td>0</td>\n",
       "      <td>0</td>\n",
       "      <td>0</td>\n",
       "      <td>0</td>\n",
       "      <td>0</td>\n",
       "      <td>0</td>\n",
       "      <td>0</td>\n",
       "      <td>0</td>\n",
       "      <td>0</td>\n",
       "      <td>0</td>\n",
       "      <td>0</td>\n",
       "      <td>0</td>\n",
       "      <td>0</td>\n",
       "      <td>0</td>\n",
       "      <td>0</td>\n",
       "      <td>0</td>\n",
       "      <td>...</td>\n",
       "      <td>0</td>\n",
       "      <td>0</td>\n",
       "      <td>0</td>\n",
       "      <td>0</td>\n",
       "      <td>0</td>\n",
       "      <td>0</td>\n",
       "      <td>0</td>\n",
       "      <td>0</td>\n",
       "      <td>0</td>\n",
       "      <td>0</td>\n",
       "      <td>0</td>\n",
       "      <td>0</td>\n",
       "      <td>0</td>\n",
       "      <td>0</td>\n",
       "      <td>0</td>\n",
       "      <td>0</td>\n",
       "      <td>0</td>\n",
       "      <td>0</td>\n",
       "      <td>0</td>\n",
       "      <td>0</td>\n",
       "      <td>0</td>\n",
       "      <td>0</td>\n",
       "      <td>0</td>\n",
       "      <td>0</td>\n",
       "      <td>0</td>\n",
       "      <td>0</td>\n",
       "      <td>0</td>\n",
       "      <td>0</td>\n",
       "      <td>0</td>\n",
       "      <td>0</td>\n",
       "      <td>0</td>\n",
       "      <td>0</td>\n",
       "      <td>0</td>\n",
       "      <td>0</td>\n",
       "      <td>0</td>\n",
       "      <td>0</td>\n",
       "      <td>0</td>\n",
       "      <td>0</td>\n",
       "      <td>0</td>\n",
       "      <td>0</td>\n",
       "    </tr>\n",
       "  </tbody>\n",
       "</table>\n",
       "<p>5 rows × 785 columns</p>\n",
       "</div>"
      ],
      "text/plain": [
       "      id  pixel0  pixel1  pixel2  ...  pixel780  pixel781  pixel782  pixel783\n",
       "0  60001       0       0       0  ...         0         0         0         0\n",
       "1  60002       0       0       0  ...         0         0         0         0\n",
       "2  60003       0       0       0  ...         0         0         0         0\n",
       "3  60004       0       0       0  ...         0         0         0         0\n",
       "4  60005       0       0       0  ...         0         0         0         0\n",
       "\n",
       "[5 rows x 785 columns]"
      ]
     },
     "execution_count": 10,
     "metadata": {
      "tags": []
     },
     "output_type": "execute_result"
    }
   ],
   "source": [
    "mnist_test.head() # Allows us to visualise the first five values for each attribute in the test set"
   ]
  },
  {
   "cell_type": "markdown",
   "metadata": {
    "colab_type": "text",
    "id": "ImKljS7UqVA2"
   },
   "source": [
    "# 5. Exploratory Data Analysis (EDA)"
   ]
  },
  {
   "cell_type": "markdown",
   "metadata": {
    "colab_type": "text",
    "id": "dqIB3sx22uwm"
   },
   "source": [
    "**5.1 Visualising the Distribution of Data**"
   ]
  },
  {
   "cell_type": "code",
   "execution_count": 11,
   "metadata": {
    "colab": {
     "base_uri": "https://localhost:8080/",
     "height": 295
    },
    "colab_type": "code",
    "id": "nJmJU6NzqeIb",
    "outputId": "75c78358-524c-4595-d658-9052306fc380"
   },
   "outputs": [
    {
     "data": {
      "image/png": "[encoded data removed]",
      "text/plain": [
       "<Figure size 432x288 with 1 Axes>"
      ]
     },
     "metadata": {
      "tags": []
     },
     "output_type": "display_data"
    }
   ],
   "source": [
    "num_of_labels = mnist_train.label.value_counts()\n",
    "sns.barplot(num_of_labels.index, num_of_labels)\n",
    "\n",
    "plt.xlabel(\"Labels\")\n",
    "plt.ylabel(\"Frequency of Each Label\")\n",
    "plt.title(\"Distribution of Labels in the Kannada MNIST Dataset\")\n",
    "\n",
    "num = num_of_labels.index.values"
   ]
  },
  {
   "cell_type": "markdown",
   "metadata": {
    "colab_type": "text",
    "id": "jP_UdLnSxFWy"
   },
   "source": [
    "Upon examination of the bar chart, it can be seen that all 10 digits have an evenly split frequency of occurences in the training dataset. As a result, the data can be described as being homogeneously distributed. However, if the data was somewhat skewed and imbalanced, then we could have applied two techniques to combat this:\n",
    "\n",
    "1. Data augmentation could have been used to provide more data for labels which had a low frequency of occurences.\n",
    "2. As the Kannada MNIST dataset is relatively large, we could have simply dropped data from the labels with a high frequency of occurences.\n",
    "\n",
    "As you can imagine, both of these techniques involve striking a balance on all 10 digit labels. This would then provide the training data with a low bias, which is what we would be aiming for if this needed to be carried out.\n",
    "\n",
    "**NB**: It is worth noting that data augmentation was still carried out to improve the CNN and CRNN models during this investigation."
   ]
  },
  {
   "cell_type": "markdown",
   "metadata": {
    "colab_type": "text",
    "id": "-lfJJ1EG20SA"
   },
   "source": [
    "**5.2 Visualising Images of Handwritten Digits**"
   ]
  },
  {
   "cell_type": "code",
   "execution_count": 12,
   "metadata": {
    "colab": {
     "base_uri": "https://localhost:8080/",
     "height": 282
    },
    "colab_type": "code",
    "id": "ZVuzwvx9qggE",
    "outputId": "c240201c-a9e7-45d7-c780-49b5614597eb"
   },
   "outputs": [
    {
     "name": "stdout",
     "output_type": "stream",
     "text": [
      "Visualisation of the digit 2 in Kannada Style\n"
     ]
    },
    {
     "data": {
      "image/png": "[encoded data removed]",
      "text/plain": [
       "<Figure size 432x288 with 1 Axes>"
      ]
     },
     "metadata": {
      "tags": []
     },
     "output_type": "display_data"
    }
   ],
   "source": [
    "digit = 2\n",
    "pixels = mnist_train.iloc[digit, 2:].values.reshape(28,28)\n",
    "print(\"Visualisation of the digit \" + str(digit) + \" in Kannada Style\")\n",
    "plt.imshow(pixels, cmap = plt.get_cmap(\"gray\"))\n",
    "plt.show()"
   ]
  },
  {
   "cell_type": "markdown",
   "metadata": {
    "colab_type": "text",
    "id": "DoukZOQZCKBI"
   },
   "source": [
    "As we are using a variant of the original MNIST dataset, we believed it was beneficial to include an image of one of the digits. By referring to the image of the single handwritten digit above, it is clear to see that these digits are difficult to classify. Therefore, this shows the complexity of the Kannada MNIST dataset and is the reason why DNN's are used for machine learning.\n",
    "\n",
    "**NB**: To change the digit from \"2\" to any other digit between 0 and 9, we would simply change the value of the variable \"digit\"."
   ]
  },
  {
   "cell_type": "markdown",
   "metadata": {
    "colab_type": "text",
    "id": "pB6aepb9LbXZ"
   },
   "source": [
    "# 6. Preparing the Data for Machine Learning Models"
   ]
  },
  {
   "cell_type": "markdown",
   "metadata": {
    "colab_type": "text",
    "id": "jWVaonAAVN3d"
   },
   "source": [
    "Firstly, we have separated the training data into features (mnist_train) and labels (mnist_labels). We have also created a new test dataset with the \"id\" column removed (mnist_test_new). In the next 3 sub-sections, we completed our preparation of our training dataset by carrying out the following:\n",
    "\n",
    "1. Reshaping the Training and Testing Datasets\n",
    "2. One-Hot-Encoding of Training Label Values\n",
    "3. Normalisation of the Training Data\n",
    "4. Training-Validation set split (Cross-Validation)"
   ]
  },
  {
   "cell_type": "markdown",
   "metadata": {
    "colab_type": "text",
    "id": "9ERPqPseLj5d"
   },
   "source": [
    "**6.1 Separating the Datasets into Features and Labels**"
   ]
  },
  {
   "cell_type": "code",
   "execution_count": 0,
   "metadata": {
    "colab": {},
    "colab_type": "code",
    "id": "Psdd8t2dsBiS"
   },
   "outputs": [],
   "source": [
    "\"\"\"\n",
    "        Separating the training data into data and labels\n",
    "\n",
    "\"\"\"\n",
    "\n",
    "mnist_labels = mnist_train[\"label\"].copy() # Creating a labels variable for the 'label' attribute\n",
    "\n",
    "mnist_train = mnist_train.drop([\"id\", \"label\"], axis=1) # Creating a new dataset with the id and target variables removed\n",
    "mnist_test_new = mnist_test.drop(\"id\", axis=1) # Creating a new dataset with the id variable removed\n",
    "\n"
   ]
  },
  {
   "cell_type": "code",
   "execution_count": 0,
   "metadata": {
    "colab": {},
    "colab_type": "code",
    "id": "atQL2_FHmIUj"
   },
   "outputs": [],
   "source": [
    "mnist_train=mnist_train.iloc[:,:].values\n",
    "mnist_labels=mnist_labels.iloc[:,].values\n",
    "\n",
    "mnist_test_new = mnist_test_new.iloc[:,:].values"
   ]
  },
  {
   "cell_type": "markdown",
   "metadata": {
    "colab_type": "text",
    "id": "nbtigMnrG_cR"
   },
   "source": [
    "**6.2 Reshaping the Training and Testing Datasets for CNN and DCGAN** "
   ]
  },
  {
   "cell_type": "markdown",
   "metadata": {
    "colab_type": "text",
    "id": "3g8KasyLgGZZ"
   },
   "source": [
    "The original shape of the Kannada MNIST dataset, mnist_train, has the dimensions: 60,000 x 784. This flattened image data is still compatible for our original ANN. However, this is not quite the case for our CNN and CRNN models. The shape for both of these models needs to be converted to the dimensions: 60,000 x 28 x 28 x 1. The dimensions have to be changed because the images are created by 28 x 28 pixels, with a single colour channel (greyscale). \n",
    "\n",
    "**NB**: If we were working with the Kannada MNIST dataset consisting of coloured images, our training data shape would change to the following dimensions: 60,000 x 28 x 28 x 3. The colour channel will change from a \"1\" to a \"3\" as we would essentially be using the RGB (red, green, blue) colour channels."
   ]
  },
  {
   "cell_type": "code",
   "execution_count": 0,
   "metadata": {
    "colab": {},
    "colab_type": "code",
    "id": "73MOMk3UG_ut"
   },
   "outputs": [],
   "source": [
    "mnist_train_cnn = mnist_train.reshape(mnist_train.shape[0],28,28,1)\n",
    "mnist_test_new_cnn = mnist_test_new.reshape(mnist_test_new.shape[0],28,28,1)"
   ]
  },
  {
   "cell_type": "code",
   "execution_count": 16,
   "metadata": {
    "colab": {
     "base_uri": "https://localhost:8080/",
     "height": 34
    },
    "colab_type": "code",
    "id": "zAYicuYjj8FY",
    "outputId": "d107ad44-f741-4426-f6e2-a74aeb69d2a0"
   },
   "outputs": [
    {
     "data": {
      "text/plain": [
       "(60000, 28, 28, 1)"
      ]
     },
     "execution_count": 16,
     "metadata": {
      "tags": []
     },
     "output_type": "execute_result"
    }
   ],
   "source": [
    "mnist_train_cnn.shape"
   ]
  },
  {
   "cell_type": "code",
   "execution_count": 17,
   "metadata": {
    "colab": {
     "base_uri": "https://localhost:8080/",
     "height": 34
    },
    "colab_type": "code",
    "id": "uLWT5zEoj8As",
    "outputId": "7dfd9363-97d9-46bc-f6ae-bbb5be37a438"
   },
   "outputs": [
    {
     "data": {
      "text/plain": [
       "(10000, 28, 28, 1)"
      ]
     },
     "execution_count": 17,
     "metadata": {
      "tags": []
     },
     "output_type": "execute_result"
    }
   ],
   "source": [
    "mnist_test_new_cnn.shape"
   ]
  },
  {
   "cell_type": "code",
   "execution_count": 0,
   "metadata": {
    "colab": {},
    "colab_type": "code",
    "id": "OoY1cB7uDq2K"
   },
   "outputs": [],
   "source": [
    "mnist_train_crnn = mnist_train.reshape(mnist_train.shape[0],28,28,1)\n",
    "mnist_test_new_crnn = mnist_test_new.reshape(mnist_test_new.shape[0],28,28,1)"
   ]
  },
  {
   "cell_type": "code",
   "execution_count": 19,
   "metadata": {
    "colab": {
     "base_uri": "https://localhost:8080/",
     "height": 34
    },
    "colab_type": "code",
    "id": "OvxGR5evDrlY",
    "outputId": "585edfdc-a026-4757-ef37-75e772ed90b4"
   },
   "outputs": [
    {
     "data": {
      "text/plain": [
       "(60000, 28, 28, 1)"
      ]
     },
     "execution_count": 19,
     "metadata": {
      "tags": []
     },
     "output_type": "execute_result"
    }
   ],
   "source": [
    "mnist_train_crnn.shape"
   ]
  },
  {
   "cell_type": "code",
   "execution_count": 20,
   "metadata": {
    "colab": {
     "base_uri": "https://localhost:8080/",
     "height": 34
    },
    "colab_type": "code",
    "id": "w5FIeauyDr0F",
    "outputId": "35026fa4-38f4-4904-a9d1-c4a2a2a46be3"
   },
   "outputs": [
    {
     "data": {
      "text/plain": [
       "(10000, 28, 28, 1)"
      ]
     },
     "execution_count": 20,
     "metadata": {
      "tags": []
     },
     "output_type": "execute_result"
    }
   ],
   "source": [
    "mnist_test_new_crnn.shape"
   ]
  },
  {
   "cell_type": "markdown",
   "metadata": {
    "colab_type": "text",
    "id": "ea-dGEfcHfy2"
   },
   "source": [
    "**6.3 One-Hot-Encoding Of MNIST label Values** "
   ]
  },
  {
   "cell_type": "markdown",
   "metadata": {
    "colab_type": "text",
    "id": "GKRzWd2WlQDA"
   },
   "source": [
    "With respect to all three of our models, we had to convert the labelled values to one-hot-encoding values. As the Kannada MNIST dataset provides numeric labels, this step was not essential as only categorical data is ineligible for our models to work. Having said that, one-hot-encoding allows us to categorize the labels, which allows our models to operate more effectively. For example, the digit label \"6\" would be categorized as: [0,0,0,0,0,0,1,0,0,0]."
   ]
  },
  {
   "cell_type": "code",
   "execution_count": 0,
   "metadata": {
    "colab": {},
    "colab_type": "code",
    "id": "G-l7nmK0HfMI"
   },
   "outputs": [],
   "source": [
    "mnist_labels = keras.utils.to_categorical(mnist_labels,10)"
   ]
  },
  {
   "cell_type": "markdown",
   "metadata": {
    "colab_type": "text",
    "id": "p3NWLIu0HNqF"
   },
   "source": [
    "**6.4 Normalisation of the Training Data**"
   ]
  },
  {
   "cell_type": "markdown",
   "metadata": {
    "colab_type": "text",
    "id": "76F23SAjtVIi"
   },
   "source": [
    "Normalisation, from a statistics reference, is a method in which data values on different scales are adjusted to fit onto a notionally common scale. It is preferrable that we normalise our training data here as ANN's generally have small weight values, whereas, our inputs are relatively large. Therefore, training our models will be much slower if we do not normalise the data.\n",
    "\n",
    "For image processing applications such as this, generally the inputs are normalised to the scale 0-1. As shown below, this is done by dividing by 255.0. It is worth noting that as we are now working in the range 0-1, we need to make the division a floating point number, otherwise all inputs will be either a \"0\" or a \"1\". Furthermore, we are dividing the data by 255.0 because every pixel has an integer value between 0 (white) and 255 (black)."
   ]
  },
  {
   "cell_type": "code",
   "execution_count": 0,
   "metadata": {
    "colab": {},
    "colab_type": "code",
    "id": "XeE-ANsqujoW"
   },
   "outputs": [],
   "source": [
    "mnist_train = mnist_train / 255.0 # Normalizing the training data for the original ANN\n",
    "mnist_train_cnn = mnist_train_cnn / 255.0 # Normalizing the training data for the CNN\n",
    "mnist_train_crnn = mnist_train_crnn / 255.0 # Normalizing the training data for the CRNN"
   ]
  },
  {
   "cell_type": "markdown",
   "metadata": {
    "colab_type": "text",
    "id": "-7j_L2xjuyxV"
   },
   "source": [
    "**6.5 Training-Validation Set Split (Cross-Validation)**"
   ]
  },
  {
   "cell_type": "markdown",
   "metadata": {
    "colab_type": "text",
    "id": "U65Uv1ISu8tK"
   },
   "source": [
    "In order for our models to generalise well while training, we need to use cross-validation. This technique splits the training data into a new training set and a validation set. The validation set is needed to compare with the new training set to check specifically for overfitting. If the new training data has a much higher accuracy than the validation data, then overfitting is likely to be occuring in that model.\n",
    "\n",
    "In this Kaggle competition, the test dataset has been given without the digit labels for predictions. Therefore, the accuracy of the training data relative to the validation data mentioned above, is crucial in determining whether our models will have accurate test predictions before uploading onto Kaggle. For this task, we decided to give the training and validation data a split of 90:10, respectively. As the Kannada MNIST dataset has 60,000 training samples, we believed a 10% validation split was sufficient."
   ]
  },
  {
   "cell_type": "markdown",
   "metadata": {
    "colab_type": "text",
    "id": "YAH9XOQrxe-2"
   },
   "source": [
    "**6.5.1 Original ANN**"
   ]
  },
  {
   "cell_type": "code",
   "execution_count": 0,
   "metadata": {
    "colab": {},
    "colab_type": "code",
    "id": "pml8YjC02fTU"
   },
   "outputs": [],
   "source": [
    "\"\"\"\n",
    "        Separating the data and labels into a validation set and a normal training set\n",
    "\n",
    "\"\"\"\n",
    "\n",
    "X_valid, X_train = mnist_train[:6000], mnist_train[6000:]\n",
    "y_valid, y_train = mnist_labels[:6000], mnist_labels[6000:]\n",
    "\n",
    "## Means we have a 10% validation set and 90% training set\n",
    "\n",
    "X_test = mnist_test_new"
   ]
  },
  {
   "cell_type": "markdown",
   "metadata": {
    "colab_type": "text",
    "id": "ehNMZFTTxz3G"
   },
   "source": [
    "**6.5.2 CNN**"
   ]
  },
  {
   "cell_type": "code",
   "execution_count": 0,
   "metadata": {
    "colab": {},
    "colab_type": "code",
    "id": "YVb2o_Qgx4RC"
   },
   "outputs": [],
   "source": [
    "\"\"\"\n",
    "        Separating the data and labels into a validation set and a normal training set\n",
    "\n",
    "\"\"\"\n",
    "\n",
    "X_valid_cnn, X_train_cnn = mnist_train_cnn[:6000], mnist_train_cnn[6000:]\n",
    "y_valid_cnn, y_train_cnn = mnist_labels[:6000], mnist_labels[6000:]\n",
    "\n",
    "## Means we have a 10% validation set and 90% training set\n",
    "\n",
    "X_test_cnn = mnist_test_new_cnn"
   ]
  },
  {
   "cell_type": "code",
   "execution_count": 25,
   "metadata": {
    "colab": {
     "base_uri": "https://localhost:8080/",
     "height": 34
    },
    "colab_type": "code",
    "id": "a4OjZHuqaPcA",
    "outputId": "b8a29d18-a394-4159-e186-57fd4a7f87d3"
   },
   "outputs": [
    {
     "data": {
      "text/plain": [
       "(54000, 28, 28, 1)"
      ]
     },
     "execution_count": 25,
     "metadata": {
      "tags": []
     },
     "output_type": "execute_result"
    }
   ],
   "source": [
    "X_train_cnn.shape"
   ]
  },
  {
   "cell_type": "markdown",
   "metadata": {
    "colab_type": "text",
    "id": "1yQKI15Gx4qy"
   },
   "source": [
    "**6.5.3 CRNN**"
   ]
  },
  {
   "cell_type": "code",
   "execution_count": 0,
   "metadata": {
    "colab": {},
    "colab_type": "code",
    "id": "RXujqD_Cx8gx"
   },
   "outputs": [],
   "source": [
    "\"\"\"\n",
    "        Separating the data and labels into a validation set and a normal training set\n",
    "\n",
    "\"\"\"\n",
    "\n",
    "X_valid_crnn, X_train_crnn = mnist_train_crnn[:6000], mnist_train_crnn[6000:]\n",
    "y_valid_crnn, y_train_crnn = mnist_labels[:6000], mnist_labels[6000:]\n",
    "\n",
    "## Means we have a 10% validation set and 90% training set\n",
    "\n",
    "X_test_crnn = mnist_test_new_crnn"
   ]
  },
  {
   "cell_type": "code",
   "execution_count": 27,
   "metadata": {
    "colab": {
     "base_uri": "https://localhost:8080/",
     "height": 34
    },
    "colab_type": "code",
    "id": "XEMJoGmQvUoD",
    "outputId": "11329d35-c9c1-47f7-81bd-b6b8e999d8e6"
   },
   "outputs": [
    {
     "data": {
      "text/plain": [
       "(10000, 28, 28, 1)"
      ]
     },
     "execution_count": 27,
     "metadata": {
      "tags": []
     },
     "output_type": "execute_result"
    }
   ],
   "source": [
    "X_test_crnn.shape"
   ]
  },
  {
   "cell_type": "markdown",
   "metadata": {
    "colab_type": "text",
    "id": "eezMNlf3CrDR"
   },
   "source": [
    "# 7. Data Augmentation"
   ]
  },
  {
   "cell_type": "markdown",
   "metadata": {
    "colab_type": "text",
    "id": "KtZQlLDqCuTa"
   },
   "source": [
    "Data augmentation is essentially a regularisation technique to prevent overfitting of the data. This method artificially creates more training data samples by generating very similar variants of each training sample instance. To be able to carry out this process, we cannot simply add white noise to these samples. By referring to our code below, we can implement the following variations:\n",
    "\n",
    "1. Image rotation\n",
    "2. Shift in the width of an image\n",
    "3. Shift in the height of an image\n",
    "4. Shearing change of an image\n",
    "5. A zoomed in variant of an image\n",
    "6. Flipping an image horizontally\n",
    "\n",
    "From the 6 variations described above, the images should change their appearance slightly, giving us more training data to work with. Crucially, these transformations do not change a samples label, otherwise this could not be implemented. Moreover, earlier in this notebook we stated that the training data was homogeneously distributed. However, despite this, CNN  and CRNN models require data augmentation to improve the accuracy of predictions."
   ]
  },
  {
   "cell_type": "code",
   "execution_count": 28,
   "metadata": {
    "colab": {
     "base_uri": "https://localhost:8080/",
     "height": 34
    },
    "colab_type": "code",
    "id": "x1k5DOy-Culr",
    "outputId": "0ae2f956-c266-4df1-9087-76a83fc8002d"
   },
   "outputs": [
    {
     "name": "stderr",
     "output_type": "stream",
     "text": [
      "Using TensorFlow backend.\n"
     ]
    }
   ],
   "source": [
    "from keras.preprocessing.image import ImageDataGenerator\n",
    "\n",
    "train_gen = ImageDataGenerator(rotation_range = 10, width_shift_range = 0.25, height_shift_range = 0.30,\n",
    "                               shear_range = 0.15, zoom_range = 0.30, horizontal_flip = False)"
   ]
  },
  {
   "cell_type": "code",
   "execution_count": 0,
   "metadata": {
    "colab": {},
    "colab_type": "code",
    "id": "J700Sy4bC10r"
   },
   "outputs": [],
   "source": [
    "valid_datagen = ImageDataGenerator()"
   ]
  },
  {
   "cell_type": "markdown",
   "metadata": {
    "colab_type": "text",
    "id": "lmsKcERiPioI"
   },
   "source": [
    "# 8. Training and Evaluating on the Training Set"
   ]
  },
  {
   "cell_type": "markdown",
   "metadata": {
    "colab_type": "text",
    "id": "RJqK1cepv8Ty"
   },
   "source": [
    "The three neural network models we have decided to use for the Kannada MNIST classification problem are:\n",
    "\n",
    "1. An original ANN\n",
    "2. A CNN\n",
    "3. A CRNN"
   ]
  },
  {
   "cell_type": "markdown",
   "metadata": {
    "colab_type": "text",
    "id": "kc3ebZCDPxve"
   },
   "source": [
    "# 8.1 Original Artifical Neural Networks (ANNs)"
   ]
  },
  {
   "cell_type": "markdown",
   "metadata": {
    "colab_type": "text",
    "id": "lchdLHFhHRBc"
   },
   "source": [
    "All three of our neural network models use the Sequential model. The reason for this is that it is the simplest model that can be implemented using keras and is composed of a single stack of layers connected sequentially. With respect to our original ANN model, we decided that this simple model would start us off for two reasons:\n",
    "\n",
    "1. To make sure that our training data was fitting correctly to the model and that our code was also working effectively.\n",
    "2. To determine a baseline accuracy which would then allow us to create two more complex models to achieve higher accuracy on the Kannada MNIST dataset."
   ]
  },
  {
   "cell_type": "markdown",
   "metadata": {
    "colab_type": "text",
    "id": "N91fvtUVhOkQ"
   },
   "source": [
    "**8.1.1 Building the Model**"
   ]
  },
  {
   "cell_type": "code",
   "execution_count": 30,
   "metadata": {
    "colab": {
     "base_uri": "https://localhost:8080/",
     "height": 88
    },
    "colab_type": "code",
    "id": "UUxKCv2Ho2OK",
    "outputId": "72518c71-77bb-46ab-bac8-0c991182aabd"
   },
   "outputs": [
    {
     "name": "stdout",
     "output_type": "stream",
     "text": [
      "WARNING:tensorflow:From /tensorflow-1.15.2/python3.6/tensorflow_core/python/ops/resource_variable_ops.py:1630: calling BaseResourceVariable.__init__ (from tensorflow.python.ops.resource_variable_ops) with constraint is deprecated and will be removed in a future version.\n",
      "Instructions for updating:\n",
      "If using Keras pass *_constraint arguments to layers.\n"
     ]
    }
   ],
   "source": [
    "model = keras.models.Sequential()\n",
    "model.add(keras.layers.InputLayer(input_shape = [784]))\n",
    "model.add(keras.layers.Dropout(rate=0.3))\n",
    "model.add(keras.layers.BatchNormalization())\n",
    "model.add(keras.layers.Dense(300, activation=\"elu\", kernel_initializer=\"he_normal\"))\n",
    "model.add(keras.layers.Dropout(rate=0.3))\n",
    "model.add(keras.layers.BatchNormalization())\n",
    "model.add(keras.layers.Dense(100, activation=\"elu\", kernel_initializer=\"he_normal\"))\n",
    "model.add(keras.layers.Dropout(rate=0.3))\n",
    "model.add(keras.layers.BatchNormalization())\n",
    "model.add(keras.layers.Dense(10, activation= 'softmax'))"
   ]
  },
  {
   "cell_type": "markdown",
   "metadata": {
    "colab_type": "text",
    "id": "VKftB4qgi0hl"
   },
   "source": [
    "For our original ANN model architecture, we decided to keep the training data as a flattened input shape of 60,000 x 784. We also used two hidden layers which incorporated the \"ELU\" activation function. The exponential linear unit (ELU) was proposed in 2015 and was said to have outperformed all variants of the rectifying linear unit (ReLU). There were certain differences between these two activation functions that stand out, one of which being that the ELU has a non-zero gradient at z < 0, which eliminates the problem regarding dead neurons.\n",
    "\n",
    "Two other key factors in our architecture here, and which have also been applied to our other two models, is that of dropout and batch normalisation. In terms of regularisation techniques, dropout has perhaps been the most common since it was first introduced back in 2012. The process simply gives each neuron a probability (0.3 in our case) of being temporarily \"dropped out\" from training. This is extremely effective in DNN architecture because there are so many neurons which have the potential to overfit the data. With regards now to batch normalisation, this was first introduced in 2015 and this addressed the problem of vanishing/exploding gradients reappearing during model training. The process simply normalises each input and introduces two new parameter vectors; one for shifting the data and one for scaling the data."
   ]
  },
  {
   "cell_type": "code",
   "execution_count": 31,
   "metadata": {
    "colab": {
     "base_uri": "https://localhost:8080/",
     "height": 459
    },
    "colab_type": "code",
    "id": "_ByQ1IV5gmmp",
    "outputId": "c8088fa9-1c1c-435a-a7f7-11c7b63bec78"
   },
   "outputs": [
    {
     "name": "stdout",
     "output_type": "stream",
     "text": [
      "Model: \"sequential\"\n",
      "_________________________________________________________________\n",
      "Layer (type)                 Output Shape              Param #   \n",
      "=================================================================\n",
      "dropout (Dropout)            (None, 784)               0         \n",
      "_________________________________________________________________\n",
      "batch_normalization (BatchNo (None, 784)               3136      \n",
      "_________________________________________________________________\n",
      "dense (Dense)                (None, 300)               235500    \n",
      "_________________________________________________________________\n",
      "dropout_1 (Dropout)          (None, 300)               0         \n",
      "_________________________________________________________________\n",
      "batch_normalization_1 (Batch (None, 300)               1200      \n",
      "_________________________________________________________________\n",
      "dense_1 (Dense)              (None, 100)               30100     \n",
      "_________________________________________________________________\n",
      "dropout_2 (Dropout)          (None, 100)               0         \n",
      "_________________________________________________________________\n",
      "batch_normalization_2 (Batch (None, 100)               400       \n",
      "_________________________________________________________________\n",
      "dense_2 (Dense)              (None, 10)                1010      \n",
      "=================================================================\n",
      "Total params: 271,346\n",
      "Trainable params: 268,978\n",
      "Non-trainable params: 2,368\n",
      "_________________________________________________________________\n"
     ]
    }
   ],
   "source": [
    "model.summary()"
   ]
  },
  {
   "cell_type": "markdown",
   "metadata": {
    "colab_type": "text",
    "id": "48gbszgWIDX-"
   },
   "source": [
    "The \"summary()\" method above is an excellent way to view how the data is passed through the network from the input layer to the output layer. This will become more beneficial when analysing our two complex models as it is difficult to refer to the code. Furthermore, this method allows us to distinguish how many parameters are being used in our model.\n",
    "\n",
    "It is worth noting that the \"Dense\" layers associated with the Sequential models inherit many parameters. For example, there are 235,500 parameters in the first hidden layer alone! This is because there are 784 x 300 connection weights and 300 bias terms which are carried forward as inputs to the next layer. The problem with having so many parameters is the risk of overfitting the models, however, as discussed already, dropout is key to limiting this phenomenon."
   ]
  },
  {
   "cell_type": "code",
   "execution_count": 32,
   "metadata": {
    "colab": {
     "base_uri": "https://localhost:8080/",
     "height": 170
    },
    "colab_type": "code",
    "id": "w5HmAoZ9gmkk",
    "outputId": "0704d03b-f6a4-44fc-c608-c91ca84011a7"
   },
   "outputs": [
    {
     "data": {
      "text/plain": [
       "[<tensorflow.python.keras.layers.core.Dropout at 0x7f9587b59a90>,\n",
       " <tensorflow.python.keras.layers.normalization.BatchNormalization at 0x7f9587b59f98>,\n",
       " <tensorflow.python.keras.layers.core.Dense at 0x7f9587b6c278>,\n",
       " <tensorflow.python.keras.layers.core.Dropout at 0x7f9587b59dd8>,\n",
       " <tensorflow.python.keras.layers.normalization.BatchNormalization at 0x7f9587a82f60>,\n",
       " <tensorflow.python.keras.layers.core.Dense at 0x7f9587a82dd8>,\n",
       " <tensorflow.python.keras.layers.core.Dropout at 0x7f9587ab7ef0>,\n",
       " <tensorflow.python.keras.layers.normalization.BatchNormalization at 0x7f9587b234a8>,\n",
       " <tensorflow.python.keras.layers.core.Dense at 0x7f95879ecd68>]"
      ]
     },
     "execution_count": 32,
     "metadata": {
      "tags": []
     },
     "output_type": "execute_result"
    }
   ],
   "source": [
    "model.layers"
   ]
  },
  {
   "cell_type": "markdown",
   "metadata": {
    "colab_type": "text",
    "id": "pZhI6PDshU03"
   },
   "source": [
    "**8.1.2 Compiling the Model**"
   ]
  },
  {
   "cell_type": "code",
   "execution_count": 0,
   "metadata": {
    "colab": {},
    "colab_type": "code",
    "id": "-yiUolCihbym"
   },
   "outputs": [],
   "source": [
    "model.compile(loss = \"categorical_crossentropy\", # as we are using one-hot encode for the label data\n",
    "              optimizer = keras.optimizers.Nadam(learning_rate=0.001, beta_1=0.9, beta_2=0.999),\n",
    "              #optimizer = keras.optimizers.RMSprop(learning_rate=0.001, rho=0.9),\n",
    "              metrics = [\"accuracy\"])"
   ]
  },
  {
   "cell_type": "markdown",
   "metadata": {
    "colab_type": "text",
    "id": "VG4hZRhZKcW6"
   },
   "source": [
    "We will compile all three models using the exact same loss function, optimiser and metric. In terms of the loss function, we have used categorical cross-entropy as this is  a classification problem. Moreover, we don't use sparse categorical cross-entropy as we have one-hot encoded our labels. In regards to the optimiser, stochastic gradient descent is perhaps the most common. However, for our particular dataset, the two most effective that were tried were \"Nadam\" and \"RMSprop\", with \"Nadam\" giving slightly better results.\n",
    "\n",
    "The Nadam optimiser we have decided to use is a variation of adaptive moment estimation (Adam) and Nesterov accelerated gradient (NAG). The Adam variant is essential for moment optimisation. On the other hand, the NAG variant measures the cost function gradient slightly ahead of it's local position. This allows the momentum vector to be tweaked to it's optimal direction. Therefore, we believe Nadam was the most viable optimiser to use for this specific investigation."
   ]
  },
  {
   "cell_type": "code",
   "execution_count": 0,
   "metadata": {
    "colab": {},
    "colab_type": "code",
    "id": "LjfFNe_Pi3-s"
   },
   "outputs": [],
   "source": [
    "\"\"\"\n",
    "        Callbacks\n",
    "\"\"\"\n",
    "\n",
    "#Learning Rate Scheduler/Reduction\n",
    "from tensorflow.keras.callbacks import ReduceLROnPlateau, EarlyStopping\n",
    "\n",
    "learning_rate_reduction = ReduceLROnPlateau(monitor = \"val_loss\", patience=20, verbose=1, factor = 0.005, min_lr = 0.00001)\n",
    "\n",
    "early_stopping_lr = EarlyStopping(monitor = \"val_loss\", mode = \"min\", verbose = 1, patience = 20)"
   ]
  },
  {
   "cell_type": "markdown",
   "metadata": {
    "colab_type": "text",
    "id": "esvF-d6vwsgC"
   },
   "source": [
    "Above we have implemented callbacks. These are functions that are utilised during the training phase of our model and can aid with making sure our model is continually learning and improving. The learning rate scheduler has been built to alter the learning rate when there is an insignificant improvement in the validation loss of the model for 20 epochs in a row. The parameter \"factor\" refers to the amount by which the learning rate will be decreased (0.005 in our case).\n",
    "\n",
    "Similarly, the early stopping function evaluates the model based on performance and halts the model if the validation loss has not improved for 20 consecutive epochs."
   ]
  },
  {
   "cell_type": "markdown",
   "metadata": {
    "colab_type": "text",
    "id": "oltyB1syjFQA"
   },
   "source": [
    "**8.1.3 Fitting the Model to the Training Data**"
   ]
  },
  {
   "cell_type": "code",
   "execution_count": 35,
   "metadata": {
    "colab": {
     "base_uri": "https://localhost:8080/",
     "height": 1000
    },
    "colab_type": "code",
    "id": "ew_melQdk9hD",
    "outputId": "d3611ccf-b568-42b6-e333-c7db705f215f"
   },
   "outputs": [
    {
     "name": "stdout",
     "output_type": "stream",
     "text": [
      "Train on 54000 samples, validate on 6000 samples\n",
      "Epoch 1/100\n",
      "54000/54000 [==============================] - 12s 231us/sample - loss: 0.3759 - acc: 0.8838 - val_loss: 0.2449 - val_acc: 0.9353\n",
      "Epoch 2/100\n",
      "54000/54000 [==============================] - 12s 221us/sample - loss: 0.2354 - acc: 0.9266 - val_loss: 0.2370 - val_acc: 0.9412\n",
      "Epoch 3/100\n",
      "54000/54000 [==============================] - 12s 220us/sample - loss: 0.1929 - acc: 0.9408 - val_loss: 0.2117 - val_acc: 0.9493\n",
      "Epoch 4/100\n",
      "54000/54000 [==============================] - 12s 214us/sample - loss: 0.1662 - acc: 0.9479 - val_loss: 0.2039 - val_acc: 0.9533\n",
      "Epoch 5/100\n",
      "54000/54000 [==============================] - 12s 223us/sample - loss: 0.1511 - acc: 0.9530 - val_loss: 0.2072 - val_acc: 0.9538\n",
      "Epoch 6/100\n",
      "54000/54000 [==============================] - 12s 214us/sample - loss: 0.1372 - acc: 0.9565 - val_loss: 0.2073 - val_acc: 0.9568\n",
      "Epoch 7/100\n",
      "54000/54000 [==============================] - 12s 218us/sample - loss: 0.1290 - acc: 0.9586 - val_loss: 0.1943 - val_acc: 0.9593\n",
      "Epoch 8/100\n",
      "54000/54000 [==============================] - 12s 214us/sample - loss: 0.1222 - acc: 0.9614 - val_loss: 0.2010 - val_acc: 0.9562\n",
      "Epoch 9/100\n",
      "54000/54000 [==============================] - 12s 221us/sample - loss: 0.1163 - acc: 0.9629 - val_loss: 0.2148 - val_acc: 0.9545\n",
      "Epoch 10/100\n",
      "54000/54000 [==============================] - 12s 227us/sample - loss: 0.1110 - acc: 0.9647 - val_loss: 0.1980 - val_acc: 0.9617\n",
      "Epoch 11/100\n",
      "54000/54000 [==============================] - 12s 224us/sample - loss: 0.1087 - acc: 0.9651 - val_loss: 0.2037 - val_acc: 0.9623\n",
      "Epoch 12/100\n",
      "54000/54000 [==============================] - 13s 232us/sample - loss: 0.1040 - acc: 0.9668 - val_loss: 0.1929 - val_acc: 0.9633\n",
      "Epoch 13/100\n",
      "54000/54000 [==============================] - 12s 219us/sample - loss: 0.1007 - acc: 0.9684 - val_loss: 0.1999 - val_acc: 0.9622\n",
      "Epoch 14/100\n",
      "54000/54000 [==============================] - 12s 219us/sample - loss: 0.0965 - acc: 0.9689 - val_loss: 0.2073 - val_acc: 0.9585\n",
      "Epoch 15/100\n",
      "54000/54000 [==============================] - 12s 219us/sample - loss: 0.0946 - acc: 0.9687 - val_loss: 0.2060 - val_acc: 0.9602\n",
      "Epoch 16/100\n",
      "54000/54000 [==============================] - 12s 228us/sample - loss: 0.0914 - acc: 0.9706 - val_loss: 0.2069 - val_acc: 0.9590\n",
      "Epoch 17/100\n",
      "54000/54000 [==============================] - 12s 226us/sample - loss: 0.0927 - acc: 0.9703 - val_loss: 0.1995 - val_acc: 0.9622\n",
      "Epoch 18/100\n",
      "54000/54000 [==============================] - 12s 221us/sample - loss: 0.0886 - acc: 0.9714 - val_loss: 0.1951 - val_acc: 0.9648\n",
      "Epoch 19/100\n",
      "54000/54000 [==============================] - 12s 223us/sample - loss: 0.0828 - acc: 0.9725 - val_loss: 0.2155 - val_acc: 0.9618\n",
      "Epoch 20/100\n",
      "54000/54000 [==============================] - 12s 218us/sample - loss: 0.0854 - acc: 0.9727 - val_loss: 0.1911 - val_acc: 0.9645\n",
      "Epoch 21/100\n",
      "54000/54000 [==============================] - 12s 219us/sample - loss: 0.0846 - acc: 0.9718 - val_loss: 0.1973 - val_acc: 0.9628\n",
      "Epoch 22/100\n",
      "54000/54000 [==============================] - 12s 224us/sample - loss: 0.0852 - acc: 0.9723 - val_loss: 0.2047 - val_acc: 0.9648\n",
      "Epoch 23/100\n",
      "54000/54000 [==============================] - 11s 210us/sample - loss: 0.0819 - acc: 0.9738 - val_loss: 0.2037 - val_acc: 0.9665\n",
      "Epoch 24/100\n",
      "54000/54000 [==============================] - 12s 218us/sample - loss: 0.0790 - acc: 0.9744 - val_loss: 0.2096 - val_acc: 0.9642\n",
      "Epoch 25/100\n",
      "54000/54000 [==============================] - 12s 220us/sample - loss: 0.0803 - acc: 0.9741 - val_loss: 0.2097 - val_acc: 0.9628\n",
      "Epoch 26/100\n",
      "54000/54000 [==============================] - 12s 215us/sample - loss: 0.0782 - acc: 0.9740 - val_loss: 0.2284 - val_acc: 0.9615\n",
      "Epoch 27/100\n",
      "54000/54000 [==============================] - 12s 218us/sample - loss: 0.0788 - acc: 0.9744 - val_loss: 0.2056 - val_acc: 0.9638\n",
      "Epoch 28/100\n",
      "54000/54000 [==============================] - 12s 230us/sample - loss: 0.0755 - acc: 0.9751 - val_loss: 0.2298 - val_acc: 0.9625\n",
      "Epoch 29/100\n",
      "54000/54000 [==============================] - 12s 222us/sample - loss: 0.0732 - acc: 0.9765 - val_loss: 0.2160 - val_acc: 0.9633\n",
      "Epoch 30/100\n",
      "54000/54000 [==============================] - 12s 220us/sample - loss: 0.0733 - acc: 0.9767 - val_loss: 0.2118 - val_acc: 0.9635\n",
      "Epoch 31/100\n",
      "54000/54000 [==============================] - 12s 226us/sample - loss: 0.0747 - acc: 0.9754 - val_loss: 0.2192 - val_acc: 0.9603\n",
      "Epoch 32/100\n",
      "54000/54000 [==============================] - 12s 219us/sample - loss: 0.0714 - acc: 0.9764 - val_loss: 0.2119 - val_acc: 0.9653\n",
      "Epoch 33/100\n",
      "54000/54000 [==============================] - 12s 217us/sample - loss: 0.0740 - acc: 0.9758 - val_loss: 0.2017 - val_acc: 0.9650\n",
      "Epoch 34/100\n",
      "54000/54000 [==============================] - 11s 213us/sample - loss: 0.0702 - acc: 0.9772 - val_loss: 0.2158 - val_acc: 0.9662\n",
      "Epoch 35/100\n",
      "54000/54000 [==============================] - 12s 218us/sample - loss: 0.0709 - acc: 0.9770 - val_loss: 0.2146 - val_acc: 0.9650\n",
      "Epoch 36/100\n",
      "54000/54000 [==============================] - 13s 241us/sample - loss: 0.0699 - acc: 0.9767 - val_loss: 0.2189 - val_acc: 0.9632\n",
      "Epoch 37/100\n",
      "54000/54000 [==============================] - 12s 220us/sample - loss: 0.0726 - acc: 0.9768 - val_loss: 0.2175 - val_acc: 0.9657\n",
      "Epoch 38/100\n",
      "54000/54000 [==============================] - 12s 221us/sample - loss: 0.0725 - acc: 0.9768 - val_loss: 0.2332 - val_acc: 0.9633\n",
      "Epoch 39/100\n",
      "54000/54000 [==============================] - 12s 214us/sample - loss: 0.0694 - acc: 0.9776 - val_loss: 0.2229 - val_acc: 0.9628\n",
      "Epoch 40/100\n",
      "53792/54000 [============================>.] - ETA: 0s - loss: 0.0706 - acc: 0.9768\n",
      "Epoch 00040: ReduceLROnPlateau reducing learning rate to 1e-05.\n",
      "54000/54000 [==============================] - 12s 224us/sample - loss: 0.0706 - acc: 0.9768 - val_loss: 0.2320 - val_acc: 0.9637\n",
      "Epoch 00040: early stopping\n"
     ]
    }
   ],
   "source": [
    "history = model.fit(X_train, y_train, epochs=100, validation_data=(X_valid, y_valid), \n",
    "                    callbacks=[learning_rate_reduction, early_stopping_lr], shuffle=True)"
   ]
  },
  {
   "cell_type": "markdown",
   "metadata": {
    "colab_type": "text",
    "id": "5I8xzvc0ovt3"
   },
   "source": [
    "**8.1.4 Evaluating the Training Set**"
   ]
  },
  {
   "cell_type": "code",
   "execution_count": 36,
   "metadata": {
    "colab": {
     "base_uri": "https://localhost:8080/",
     "height": 324
    },
    "colab_type": "code",
    "id": "P3Afe3RdoY5C",
    "outputId": "8c92029f-5261-43ee-bae4-c9812f492b86"
   },
   "outputs": [
    {
     "data": {
      "image/png": "[encoded data removed]",
      "text/plain": [
       "<Figure size 576x360 with 1 Axes>"
      ]
     },
     "metadata": {
      "tags": []
     },
     "output_type": "display_data"
    }
   ],
   "source": [
    "import pandas as pd\n",
    "import matplotlib.pyplot as plt\n",
    "\n",
    "pd.DataFrame(history.history).plot(figsize=(8,5))\n",
    "plt.grid(True)\n",
    "plt.gca().set_ylim(0,1) # set the vertical range to [0-1]\n",
    "plt.show()"
   ]
  },
  {
   "cell_type": "markdown",
   "metadata": {
    "colab_type": "text",
    "id": "dMTbJvlFCpUp"
   },
   "source": [
    "From the plot above, this provides clear details of the normal training loss and accuracy, aswell as the cross-validation training loss and accuracy. In terms of the accuracy, the normal model begins at 0.8838, while the cross-validation model begins at 0.9353. This is not particularly surprising given there is a 90:10 split, respectively. After approximately 5 epochs, both models achieve a consistent accuracy until the training is stopped due to the early stopping callback at 40 epochs.\n",
    "\n",
    "If we now take our interest towards the losses achieved in both models, these are much more interesting. The loss achieved by the normal model was 0.3759 at the first epoch, compared to 0.2449 from the cross-validation model. The interesting view after this is that the loss of the normal model continues to decrease in short amounts. On the other hand, the cross-validation model loss remains close to the same value after 5 epochs, but fluctuates around on more than one occasion. Furthermore, as the normal model loss is much less than the cross-validation model loss, it is safe to confirm that overfitting is occuring during the training of this model.\n",
    "\n",
    "**NB**: The accuracy and loss values follow a similar pattern for our two other models. However, the loss curves are much closer together as overfitting is not significantly affecting these models."
   ]
  },
  {
   "cell_type": "code",
   "execution_count": 37,
   "metadata": {
    "colab": {
     "base_uri": "https://localhost:8080/",
     "height": 34
    },
    "colab_type": "code",
    "id": "z3gxiUYw8reG",
    "outputId": "cd247fd4-588e-4563-ee34-03261e55d82f"
   },
   "outputs": [
    {
     "data": {
      "text/plain": [
       "array([0, 1, 2, 3, 4, 5, 6, 7, 8, 9])"
      ]
     },
     "execution_count": 37,
     "metadata": {
      "tags": []
     },
     "output_type": "execute_result"
    }
   ],
   "source": [
    "model_pred = model.predict_classes(X_train)\n",
    "model_pred[:10]"
   ]
  },
  {
   "cell_type": "code",
   "execution_count": 38,
   "metadata": {
    "colab": {
     "base_uri": "https://localhost:8080/",
     "height": 34
    },
    "colab_type": "code",
    "id": "Fm8K5z4CDA0i",
    "outputId": "d5e70ec9-abe9-423f-8f4a-f036ee901b73"
   },
   "outputs": [
    {
     "data": {
      "text/plain": [
       "array([0, 1, 2, 3, 4, 5, 6, 7, 8, 9])"
      ]
     },
     "execution_count": 38,
     "metadata": {
      "tags": []
     },
     "output_type": "execute_result"
    }
   ],
   "source": [
    "model_pred_cv = model.predict_classes(X_valid)\n",
    "model_pred_cv[:10]"
   ]
  },
  {
   "cell_type": "code",
   "execution_count": 39,
   "metadata": {
    "colab": {
     "base_uri": "https://localhost:8080/",
     "height": 34
    },
    "colab_type": "code",
    "id": "zdAbSDhEBsfV",
    "outputId": "3ff24693-1e48-41e0-893e-e91917c225fa"
   },
   "outputs": [
    {
     "data": {
      "text/plain": [
       "array([0, 1, 2, 3, 4, 5, 6, 7, 8, 9])"
      ]
     },
     "execution_count": 39,
     "metadata": {
      "tags": []
     },
     "output_type": "execute_result"
    }
   ],
   "source": [
    "## We need to convert the training labels back to single digits rather than one hot encoding\n",
    "\n",
    "rounded_labels=np.argmax(y_train, axis=1)\n",
    "rounded_labels[:10]"
   ]
  },
  {
   "cell_type": "code",
   "execution_count": 40,
   "metadata": {
    "colab": {
     "base_uri": "https://localhost:8080/",
     "height": 34
    },
    "colab_type": "code",
    "id": "S2NKuEfdDV_I",
    "outputId": "8ac12826-9bef-4c84-89d3-05e9ba5d36eb"
   },
   "outputs": [
    {
     "data": {
      "text/plain": [
       "array([0, 1, 2, 3, 4, 5, 6, 7, 8, 9])"
      ]
     },
     "execution_count": 40,
     "metadata": {
      "tags": []
     },
     "output_type": "execute_result"
    }
   ],
   "source": [
    "## We need to convert the cross-val labels back to single digits rather than one hot encoding\n",
    "\n",
    "rounded_labels_cv=np.argmax(y_valid, axis=1)\n",
    "rounded_labels_cv[:10]"
   ]
  },
  {
   "cell_type": "code",
   "execution_count": 41,
   "metadata": {
    "colab": {
     "base_uri": "https://localhost:8080/",
     "height": 51
    },
    "colab_type": "code",
    "id": "RkPRfKrm-VD-",
    "outputId": "8c25ec77-69d4-4dfd-c8ad-022a2473b92f"
   },
   "outputs": [
    {
     "name": "stdout",
     "output_type": "stream",
     "text": [
      "Training Accuracy: 0.9941111111111111\n",
      "Cross-Val Accuracy: 0.9636666666666667\n"
     ]
    }
   ],
   "source": [
    "## Comparing accuracy scores from training data and cross-val data\n",
    "\n",
    "from sklearn.metrics import accuracy_score\n",
    "\n",
    "model_acc = accuracy_score(rounded_labels, model_pred)\n",
    "model_acc_cv = accuracy_score(rounded_labels_cv, model_pred_cv)\n",
    "\n",
    "print(\"Training Accuracy:\", model_acc)\n",
    "print(\"Cross-Val Accuracy:\", model_acc_cv)"
   ]
  },
  {
   "cell_type": "code",
   "execution_count": 42,
   "metadata": {
    "colab": {
     "base_uri": "https://localhost:8080/",
     "height": 187
    },
    "colab_type": "code",
    "id": "-w79p3lmHMhC",
    "outputId": "b5245401-e9bf-42b8-bab4-d72bbc056ceb"
   },
   "outputs": [
    {
     "data": {
      "text/plain": [
       "array([[5347,   47,    0,    2,    1,    0,    2,    0,    0,    1],\n",
       "       [   4, 5388,    0,    1,    0,    0,    3,    2,    0,    2],\n",
       "       [   2,    5, 5384,    0,    0,    0,    1,    1,    1,    6],\n",
       "       [   2,    0,    0, 5376,    0,    1,    2,   16,    0,    3],\n",
       "       [   3,    0,    0,    0, 5390,    1,    3,    0,    0,    3],\n",
       "       [   1,   17,    2,    2,    9, 5359,    5,    2,    3,    0],\n",
       "       [   1,    0,    0,    1,    1,    0, 5318,   67,    0,   12],\n",
       "       [   2,    1,    0,    3,    0,    0,   21, 5373,    0,    0],\n",
       "       [   7,    1,    0,    1,    2,    0,    2,    0, 5375,   12],\n",
       "       [   4,    1,    0,    0,    2,    0,   18,    2,    1, 5372]])"
      ]
     },
     "execution_count": 42,
     "metadata": {
      "tags": []
     },
     "output_type": "execute_result"
    }
   ],
   "source": [
    "## Implementing confusion matrix to evaluate the classified digits in the training data\n",
    "\n",
    "from sklearn.metrics import confusion_matrix\n",
    "\n",
    "model_cm = confusion_matrix(rounded_labels, model_pred)\n",
    "model_cm"
   ]
  },
  {
   "cell_type": "code",
   "execution_count": 43,
   "metadata": {
    "colab": {
     "base_uri": "https://localhost:8080/",
     "height": 301
    },
    "colab_type": "code",
    "id": "-XxjdyYFJs-d",
    "outputId": "18074bac-1cea-4218-86f2-5ba429778091"
   },
   "outputs": [
    {
     "data": {
      "image/png": "[encoded data removed]",
      "text/plain": [
       "<Figure size 288x288 with 1 Axes>"
      ]
     },
     "metadata": {
      "tags": []
     },
     "output_type": "display_data"
    }
   ],
   "source": [
    "plt.matshow(model_cm, cmap=plt.cm.gray)\n",
    "plt.title(\"Confusion Matrix Image Representation\", x=0.5, y=1)\n",
    "plt.xlabel(\"Predicted Labels\")\n",
    "plt.ylabel(\"Actual Labels\")\n",
    "plt.show()"
   ]
  },
  {
   "cell_type": "code",
   "execution_count": 44,
   "metadata": {
    "colab": {
     "base_uri": "https://localhost:8080/",
     "height": 301
    },
    "colab_type": "code",
    "id": "suTPl46cKHE1",
    "outputId": "ee5e4b98-f02d-4cb6-f387-9e3b687d737a"
   },
   "outputs": [
    {
     "data": {
      "image/png": "[encoded data removed]",
      "text/plain": [
       "<Figure size 288x288 with 1 Axes>"
      ]
     },
     "metadata": {
      "tags": []
     },
     "output_type": "display_data"
    }
   ],
   "source": [
    "## Now lets check where the errors are occuring most\n",
    "\n",
    "row_sums = model_cm.sum(axis=1, keepdims=True)\n",
    "norm_model_cm = model_cm / row_sums\n",
    "\n",
    "## Filling the leading diagonal with zeros to only keep the errors and plot results\n",
    "\n",
    "np.fill_diagonal(norm_model_cm, 0)\n",
    "plt.matshow(norm_model_cm, cmap=plt.cm.gray)\n",
    "plt.title(\"Confusion Matrix Image Representation of Errors\", x=0.5, y=1)\n",
    "plt.xlabel(\"Predicted Labels\")\n",
    "plt.ylabel(\"Actual Labels\")\n",
    "plt.show()"
   ]
  },
  {
   "cell_type": "markdown",
   "metadata": {
    "colab_type": "text",
    "id": "kWw_H1yxEgaI"
   },
   "source": [
    "In terms of the first confusion matrix, this is a visualisation of how many of each digit was classified correctly. Unfortunately, due to the vast size of the training dataset, this does not give us much information as to which digits are being classified incorrectly. However, this is the reason the second confusion matrix has been drawn upon. This evidently points to which digits have been classified incorrectly the most often. In the case of the original ANN, the model seems to be classifying the digit \"6\" with the digit \"7\" more often than any other digit. Furthermore, the digit \"0\" is being classified as the digit \"1\". This may seem unusual, however, let us not forget this is the Kannada version of MNIST and that the labelled digits look very different to our native digits."
   ]
  },
  {
   "cell_type": "code",
   "execution_count": 45,
   "metadata": {
    "colab": {
     "base_uri": "https://localhost:8080/",
     "height": 51
    },
    "colab_type": "code",
    "id": "VZqMyxLeEyLD",
    "outputId": "4aef018a-f4b1-4755-83a5-e5fd57007987"
   },
   "outputs": [
    {
     "name": "stdout",
     "output_type": "stream",
     "text": [
      "Training Precision: 0.9941381881598715\n",
      "Training Recall: 0.9941111111111111\n"
     ]
    }
   ],
   "source": [
    "## Comparing precision and recall scores from training data\n",
    "\n",
    "from sklearn.metrics import precision_score, recall_score\n",
    "\n",
    "print(\"Training Precision:\", precision_score(rounded_labels, model_pred, average='weighted'))\n",
    "print(\"Training Recall:\", recall_score(rounded_labels, model_pred, average='weighted'))"
   ]
  },
  {
   "cell_type": "markdown",
   "metadata": {
    "colab_type": "text",
    "id": "0LlvEDPdFdQb"
   },
   "source": [
    "The scores of precision and recall shown above are determined from the first confusion matrix. They are formulated by the following expressions: True Positive (TP), True Negative (TN), False Positive (FP), and False Negative (FN). TP and TN are assigned when a digit is classified correctly as being that digit and not being that digit, respectively. On the other hand, FP and FN are assigned when a digit has been classified incorrectly as being that digit and not being that digit, respectively. In terms of precision, this can be defined as the accuracy of the positive predictions. Whereas, recall can be defined as the ratio of positive instances that have been correctly identified. Moreover, the formulas for both precision and recall are shown below:\n",
    "\n",
    "1. Precision = TP / TP + FP\n",
    "\n",
    "2. Recall = TP / TP + FN"
   ]
  },
  {
   "cell_type": "markdown",
   "metadata": {
    "colab_type": "text",
    "id": "qIgYLuhBdyk5"
   },
   "source": [
    "# 8.2 Convolutional Neural Networks (CNNs)"
   ]
  },
  {
   "cell_type": "markdown",
   "metadata": {
    "colab_type": "text",
    "id": "-aK4Ua5imwEu"
   },
   "source": [
    "**8.2.1 Building the Model**"
   ]
  },
  {
   "cell_type": "code",
   "execution_count": 0,
   "metadata": {
    "colab": {},
    "colab_type": "code",
    "id": "PrHk21kUmIAI"
   },
   "outputs": [],
   "source": [
    "## Will use my CNN but use this to improve comments below this code\n",
    "\n",
    "model_cnn = keras.models.Sequential()\n",
    "model_cnn.add(keras.layers.Conv2D(filters = 32, kernel_size = (3,3), padding = 'same', activation = 'relu', input_shape = (28, 28, 1)))\n",
    "model_cnn.add(keras.layers.Conv2D(filters = 32, kernel_size = (3,3), padding = 'Same', activation = 'relu'))\n",
    "model_cnn.add(keras.layers.LeakyReLU(alpha = 0.1))\n",
    "model_cnn.add(keras.layers.BatchNormalization())\n",
    "\n",
    "model_cnn.add(keras.layers.MaxPooling2D(pool_size = (2, 2), strides = (2, 2)))\n",
    "model_cnn.add(keras.layers.Dropout(0.25))\n",
    "\n",
    "model_cnn.add(keras.layers.Conv2D(filters = 64, kernel_size = (3,3), padding = 'same', activation = 'relu'))\n",
    "model_cnn.add(keras.layers.Conv2D(filters = 64, kernel_size = (3,3), padding = 'Same', activation = 'relu'))\n",
    "model_cnn.add(keras.layers.LeakyReLU(alpha = 0.1))\n",
    "model_cnn.add(keras.layers.BatchNormalization()) \n",
    "\n",
    "model_cnn.add(keras.layers.MaxPooling2D(pool_size = (2, 2), strides = (2, 2)))\n",
    "model_cnn.add(keras.layers.Dropout(0.25))\n",
    "\n",
    "model_cnn.add(keras.layers.Conv2D(filters = 128, kernel_size = (3,3),padding = 'Same', activation ='relu'))\n",
    "model_cnn.add(keras.layers.Conv2D(filters = 128, kernel_size = (3,3),padding = 'Same', activation ='relu'))\n",
    "model_cnn.add(keras.layers.LeakyReLU(alpha = 0.1))\n",
    "model_cnn.add(keras.layers.BatchNormalization())\n",
    "\n",
    "model_cnn.add(keras.layers.MaxPooling2D(pool_size=(1,2), strides=(1,2)))\n",
    "model_cnn.add(keras.layers.Dropout(0.25))\n",
    "\n",
    "model_cnn.add(keras.layers.Flatten())\n",
    "model_cnn.add(keras.layers.Dense(128, activation=\"relu\"))\n",
    "model_cnn.add(keras.layers.LeakyReLU(alpha = 0.1)) \n",
    "model_cnn.add(keras.layers.Dropout(0.25))\n",
    "model_cnn.add(keras.layers.Dense(10, activation=\"softmax\"))"
   ]
  },
  {
   "cell_type": "markdown",
   "metadata": {
    "colab_type": "text",
    "id": "YEWE-_83mBg0"
   },
   "source": [
    "The architecture of our CNN consists of a convolutional layer with the input shape, followed by another convolutional layer. These convolutional layers in a network systematically apply learned filters to input images in order to create feature maps that summarize the presence of those features in the input. This stacking of convolutional layers allows for a hierarchical decomposition of the input. \n",
    "\n",
    "The convolutional layers are then followed by the addition of a layer that utilises the LeakyRelu activation function. This was found to give a better score on the Kaggle competition than simply utilising the relu activation function and also had a slight improvement in training time. This improvement could be down to the fact that it fixes the “dying ReLU” problem, as it does not have zero-slope parts. Use of this activation function therefore mitigates the chance of a vanishing gradient and can help make sure our model is continually learning. \n",
    "\n",
    "The next step of our CNN is the implementation of a max pooling layer. The pooling layer works by analysing each feature map separately to create a new set of the same number of pooled feature maps. This downsamples the image sizes/feature maps, thus reducing the number of parameters and calculations in the network. This improves the efficiency of the network and avoids over-learning. In our model the pooling layers downsample the feature maps to a size of 2 x 2 pixels, with a stride of 2. This means it reduces the image size from 28 x 28 to 14 x 14. The max pooling function simply calculates the maximum value for each patch of the feature map. \n",
    "\n",
    "A dropout layer is then added after each pooling layer, these layers drop nodes during traning and is a useful technique to reduce the chance of overfitting and improve generalisation error, as discussed previously.\n",
    "\n",
    "The combination of the above architecture is repeated three times until we implement the fully connected and output layers. The flatten operation and fully connected layers interpret the features and an output layer with a softmax activation for ten-class predictions is implemented. The final dense/fully connected layer outputs 10 (0 - 9) results in which these results of the convolutional layers are fed through the neural layers to generate a prediction."
   ]
  },
  {
   "cell_type": "code",
   "execution_count": 47,
   "metadata": {
    "colab": {
     "base_uri": "https://localhost:8080/",
     "height": 935
    },
    "colab_type": "code",
    "id": "-VXGaWodWax0",
    "outputId": "a55dc5c4-45d9-49cb-f82b-b0805a784be0"
   },
   "outputs": [
    {
     "name": "stdout",
     "output_type": "stream",
     "text": [
      "Model: \"sequential_1\"\n",
      "_________________________________________________________________\n",
      "Layer (type)                 Output Shape              Param #   \n",
      "=================================================================\n",
      "conv2d (Conv2D)              (None, 28, 28, 32)        320       \n",
      "_________________________________________________________________\n",
      "conv2d_1 (Conv2D)            (None, 28, 28, 32)        9248      \n",
      "_________________________________________________________________\n",
      "leaky_re_lu (LeakyReLU)      (None, 28, 28, 32)        0         \n",
      "_________________________________________________________________\n",
      "batch_normalization_3 (Batch (None, 28, 28, 32)        128       \n",
      "_________________________________________________________________\n",
      "max_pooling2d (MaxPooling2D) (None, 14, 14, 32)        0         \n",
      "_________________________________________________________________\n",
      "dropout_3 (Dropout)          (None, 14, 14, 32)        0         \n",
      "_________________________________________________________________\n",
      "conv2d_2 (Conv2D)            (None, 14, 14, 64)        18496     \n",
      "_________________________________________________________________\n",
      "conv2d_3 (Conv2D)            (None, 14, 14, 64)        36928     \n",
      "_________________________________________________________________\n",
      "leaky_re_lu_1 (LeakyReLU)    (None, 14, 14, 64)        0         \n",
      "_________________________________________________________________\n",
      "batch_normalization_4 (Batch (None, 14, 14, 64)        256       \n",
      "_________________________________________________________________\n",
      "max_pooling2d_1 (MaxPooling2 (None, 7, 7, 64)          0         \n",
      "_________________________________________________________________\n",
      "dropout_4 (Dropout)          (None, 7, 7, 64)          0         \n",
      "_________________________________________________________________\n",
      "conv2d_4 (Conv2D)            (None, 7, 7, 128)         73856     \n",
      "_________________________________________________________________\n",
      "conv2d_5 (Conv2D)            (None, 7, 7, 128)         147584    \n",
      "_________________________________________________________________\n",
      "leaky_re_lu_2 (LeakyReLU)    (None, 7, 7, 128)         0         \n",
      "_________________________________________________________________\n",
      "batch_normalization_5 (Batch (None, 7, 7, 128)         512       \n",
      "_________________________________________________________________\n",
      "max_pooling2d_2 (MaxPooling2 (None, 7, 3, 128)         0         \n",
      "_________________________________________________________________\n",
      "dropout_5 (Dropout)          (None, 7, 3, 128)         0         \n",
      "_________________________________________________________________\n",
      "flatten (Flatten)            (None, 2688)              0         \n",
      "_________________________________________________________________\n",
      "dense_3 (Dense)              (None, 128)               344192    \n",
      "_________________________________________________________________\n",
      "leaky_re_lu_3 (LeakyReLU)    (None, 128)               0         \n",
      "_________________________________________________________________\n",
      "dropout_6 (Dropout)          (None, 128)               0         \n",
      "_________________________________________________________________\n",
      "dense_4 (Dense)              (None, 10)                1290      \n",
      "=================================================================\n",
      "Total params: 632,810\n",
      "Trainable params: 632,362\n",
      "Non-trainable params: 448\n",
      "_________________________________________________________________\n"
     ]
    }
   ],
   "source": [
    "model_cnn.summary()"
   ]
  },
  {
   "cell_type": "code",
   "execution_count": 48,
   "metadata": {
    "colab": {
     "base_uri": "https://localhost:8080/",
     "height": 408
    },
    "colab_type": "code",
    "id": "pWSjLEPQddwe",
    "outputId": "9113f6ac-a77e-40bb-d318-63ece9c40a3b"
   },
   "outputs": [
    {
     "data": {
      "text/plain": [
       "[<tensorflow.python.keras.layers.convolutional.Conv2D at 0x7f952a36da20>,\n",
       " <tensorflow.python.keras.layers.convolutional.Conv2D at 0x7f952a36db70>,\n",
       " <tensorflow.python.keras.layers.advanced_activations.LeakyReLU at 0x7f952a36db38>,\n",
       " <tensorflow.python.keras.layers.normalization.BatchNormalization at 0x7f952a3741d0>,\n",
       " <tensorflow.python.keras.layers.pooling.MaxPooling2D at 0x7f952a376fd0>,\n",
       " <tensorflow.python.keras.layers.core.Dropout at 0x7f952a376ef0>,\n",
       " <tensorflow.python.keras.layers.convolutional.Conv2D at 0x7f952a3743c8>,\n",
       " <tensorflow.python.keras.layers.convolutional.Conv2D at 0x7f952a13ac50>,\n",
       " <tensorflow.python.keras.layers.advanced_activations.LeakyReLU at 0x7f952a116a20>,\n",
       " <tensorflow.python.keras.layers.normalization.BatchNormalization at 0x7f952a37a470>,\n",
       " <tensorflow.python.keras.layers.pooling.MaxPooling2D at 0x7f952a12bbe0>,\n",
       " <tensorflow.python.keras.layers.core.Dropout at 0x7f952a0e1390>,\n",
       " <tensorflow.python.keras.layers.convolutional.Conv2D at 0x7f952a14bdd8>,\n",
       " <tensorflow.python.keras.layers.convolutional.Conv2D at 0x7f952a1403c8>,\n",
       " <tensorflow.python.keras.layers.advanced_activations.LeakyReLU at 0x7f952a0fe470>,\n",
       " <tensorflow.python.keras.layers.normalization.BatchNormalization at 0x7f952a14be10>,\n",
       " <tensorflow.python.keras.layers.pooling.MaxPooling2D at 0x7f952a0903c8>,\n",
       " <tensorflow.python.keras.layers.core.Dropout at 0x7f952a0c0f28>,\n",
       " <tensorflow.python.keras.layers.core.Flatten at 0x7f952a1404a8>,\n",
       " <tensorflow.python.keras.layers.core.Dense at 0x7f952a0667f0>,\n",
       " <tensorflow.python.keras.layers.advanced_activations.LeakyReLU at 0x7f952a06fe80>,\n",
       " <tensorflow.python.keras.layers.core.Dropout at 0x7f952a0f4fd0>,\n",
       " <tensorflow.python.keras.layers.core.Dense at 0x7f952a05ed68>]"
      ]
     },
     "execution_count": 48,
     "metadata": {
      "tags": []
     },
     "output_type": "execute_result"
    }
   ],
   "source": [
    "model_cnn.layers"
   ]
  },
  {
   "cell_type": "markdown",
   "metadata": {
    "colab_type": "text",
    "id": "BSFn777jeF8d"
   },
   "source": [
    "**8.2.2 Compiling the Model**"
   ]
  },
  {
   "cell_type": "code",
   "execution_count": 0,
   "metadata": {
    "colab": {},
    "colab_type": "code",
    "id": "6WRVUeoPdzBX"
   },
   "outputs": [],
   "source": [
    "model_cnn.compile(loss = \"categorical_crossentropy\", # as we are using one-hot encode for the label data\n",
    "              optimizer = keras.optimizers.Nadam(learning_rate=0.001, beta_1=0.9, beta_2=0.999),\n",
    "              #optimizer = keras.optimizers.RMSprop(learning_rate=0.001, rho=0.9),\n",
    "              metrics = [\"accuracy\"])"
   ]
  },
  {
   "cell_type": "markdown",
   "metadata": {
    "colab_type": "text",
    "id": "4pu3HH-ieac2"
   },
   "source": [
    "**8.2.3 Fitting the Model to the Training Data**"
   ]
  },
  {
   "cell_type": "code",
   "execution_count": 50,
   "metadata": {
    "colab": {
     "base_uri": "https://localhost:8080/",
     "height": 1000
    },
    "colab_type": "code",
    "id": "B7hSgnmaePeV",
    "outputId": "98d893eb-77eb-46fe-b563-fafaf6841c05"
   },
   "outputs": [
    {
     "name": "stdout",
     "output_type": "stream",
     "text": [
      "Epoch 1/100\n",
      "210/211 [============================>.] - ETA: 0s - loss: 0.8403 - acc: 0.7150Epoch 1/100\n",
      "211/211 [==============================] - 23s 109ms/step - loss: 0.8378 - acc: 0.7159 - val_loss: 7.0662 - val_acc: 0.1007\n",
      "Epoch 2/100\n",
      "210/211 [============================>.] - ETA: 0s - loss: 0.2467 - acc: 0.9189Epoch 1/100\n",
      "211/211 [==============================] - 18s 87ms/step - loss: 0.2460 - acc: 0.9191 - val_loss: 1.2637 - val_acc: 0.6573\n",
      "Epoch 3/100\n",
      "210/211 [============================>.] - ETA: 0s - loss: 0.1788 - acc: 0.9422Epoch 1/100\n",
      "211/211 [==============================] - 19s 90ms/step - loss: 0.1787 - acc: 0.9422 - val_loss: 0.1269 - val_acc: 0.9595\n",
      "Epoch 4/100\n",
      "210/211 [============================>.] - ETA: 0s - loss: 0.1513 - acc: 0.9504Epoch 1/100\n",
      "211/211 [==============================] - 18s 87ms/step - loss: 0.1512 - acc: 0.9504 - val_loss: 0.0677 - val_acc: 0.9823\n",
      "Epoch 5/100\n",
      "210/211 [============================>.] - ETA: 0s - loss: 0.1296 - acc: 0.9582Epoch 1/100\n",
      "211/211 [==============================] - 19s 89ms/step - loss: 0.1297 - acc: 0.9581 - val_loss: 0.0600 - val_acc: 0.9845\n",
      "Epoch 6/100\n",
      "210/211 [============================>.] - ETA: 0s - loss: 0.1249 - acc: 0.9592Epoch 1/100\n",
      "211/211 [==============================] - 20s 93ms/step - loss: 0.1252 - acc: 0.9591 - val_loss: 0.0706 - val_acc: 0.9783\n",
      "Epoch 7/100\n",
      "210/211 [============================>.] - ETA: 0s - loss: 0.1098 - acc: 0.9643Epoch 1/100\n",
      "211/211 [==============================] - 19s 90ms/step - loss: 0.1097 - acc: 0.9644 - val_loss: 0.0656 - val_acc: 0.9800\n",
      "Epoch 8/100\n",
      "210/211 [============================>.] - ETA: 0s - loss: 0.1028 - acc: 0.9664Epoch 1/100\n",
      "211/211 [==============================] - 19s 91ms/step - loss: 0.1030 - acc: 0.9663 - val_loss: 0.0438 - val_acc: 0.9897\n",
      "Epoch 9/100\n",
      "210/211 [============================>.] - ETA: 0s - loss: 0.1010 - acc: 0.9682Epoch 1/100\n",
      "211/211 [==============================] - 19s 89ms/step - loss: 0.1011 - acc: 0.9683 - val_loss: 0.0343 - val_acc: 0.9913\n",
      "Epoch 10/100\n",
      "210/211 [============================>.] - ETA: 0s - loss: 0.0961 - acc: 0.9689Epoch 1/100\n",
      "211/211 [==============================] - 19s 90ms/step - loss: 0.0963 - acc: 0.9688 - val_loss: 0.0737 - val_acc: 0.9797\n",
      "Epoch 11/100\n",
      "210/211 [============================>.] - ETA: 0s - loss: 0.0883 - acc: 0.9712Epoch 1/100\n",
      "211/211 [==============================] - 19s 92ms/step - loss: 0.0883 - acc: 0.9713 - val_loss: 0.0845 - val_acc: 0.9783\n",
      "Epoch 12/100\n",
      "210/211 [============================>.] - ETA: 0s - loss: 0.0900 - acc: 0.9711Epoch 1/100\n",
      "211/211 [==============================] - 19s 92ms/step - loss: 0.0900 - acc: 0.9711 - val_loss: 0.0492 - val_acc: 0.9913\n",
      "Epoch 13/100\n",
      "210/211 [============================>.] - ETA: 0s - loss: 0.0823 - acc: 0.9732Epoch 1/100\n",
      "211/211 [==============================] - 20s 93ms/step - loss: 0.0824 - acc: 0.9732 - val_loss: 0.0612 - val_acc: 0.9868\n",
      "Epoch 14/100\n",
      "210/211 [============================>.] - ETA: 0s - loss: 0.0789 - acc: 0.9750Epoch 1/100\n",
      "211/211 [==============================] - 19s 90ms/step - loss: 0.0789 - acc: 0.9751 - val_loss: 0.0474 - val_acc: 0.9907\n",
      "Epoch 15/100\n",
      "210/211 [============================>.] - ETA: 0s - loss: 0.0780 - acc: 0.9746Epoch 1/100\n",
      "211/211 [==============================] - 18s 87ms/step - loss: 0.0779 - acc: 0.9746 - val_loss: 0.0496 - val_acc: 0.9898\n",
      "Epoch 16/100\n",
      "210/211 [============================>.] - ETA: 0s - loss: 0.0772 - acc: 0.9753Epoch 1/100\n",
      "211/211 [==============================] - 19s 91ms/step - loss: 0.0773 - acc: 0.9753 - val_loss: 0.0498 - val_acc: 0.9870\n",
      "Epoch 17/100\n",
      "210/211 [============================>.] - ETA: 0s - loss: 0.0744 - acc: 0.9767Epoch 1/100\n",
      "211/211 [==============================] - 19s 88ms/step - loss: 0.0742 - acc: 0.9767 - val_loss: 0.0508 - val_acc: 0.9890\n",
      "Epoch 18/100\n",
      "210/211 [============================>.] - ETA: 0s - loss: 0.0753 - acc: 0.9752Epoch 1/100\n",
      "211/211 [==============================] - 19s 89ms/step - loss: 0.0753 - acc: 0.9752 - val_loss: 0.0483 - val_acc: 0.9893\n",
      "Epoch 19/100\n",
      "210/211 [============================>.] - ETA: 0s - loss: 0.0730 - acc: 0.9758Epoch 1/100\n",
      "211/211 [==============================] - 19s 90ms/step - loss: 0.0730 - acc: 0.9758 - val_loss: 0.0396 - val_acc: 0.9925\n",
      "Epoch 20/100\n",
      "210/211 [============================>.] - ETA: 0s - loss: 0.0706 - acc: 0.9772Epoch 1/100\n",
      "211/211 [==============================] - 19s 89ms/step - loss: 0.0707 - acc: 0.9772 - val_loss: 0.0404 - val_acc: 0.9912\n",
      "Epoch 21/100\n",
      "210/211 [============================>.] - ETA: 0s - loss: 0.0668 - acc: 0.9780Epoch 1/100\n",
      "211/211 [==============================] - 19s 89ms/step - loss: 0.0669 - acc: 0.9779 - val_loss: 0.0511 - val_acc: 0.9835\n",
      "Epoch 22/100\n",
      "210/211 [============================>.] - ETA: 0s - loss: 0.0668 - acc: 0.9783Epoch 1/100\n",
      "211/211 [==============================] - 19s 89ms/step - loss: 0.0667 - acc: 0.9784 - val_loss: 0.0541 - val_acc: 0.9870\n",
      "Epoch 23/100\n",
      "210/211 [============================>.] - ETA: 0s - loss: 0.0688 - acc: 0.9782Epoch 1/100\n",
      "211/211 [==============================] - 19s 92ms/step - loss: 0.0686 - acc: 0.9783 - val_loss: 0.0621 - val_acc: 0.9850\n",
      "Epoch 24/100\n",
      "210/211 [============================>.] - ETA: 0s - loss: 0.0685 - acc: 0.9780Epoch 1/100\n",
      "211/211 [==============================] - 19s 91ms/step - loss: 0.0683 - acc: 0.9781 - val_loss: 0.0357 - val_acc: 0.9912\n",
      "Epoch 25/100\n",
      "210/211 [============================>.] - ETA: 0s - loss: 0.0627 - acc: 0.9790Epoch 1/100\n",
      "211/211 [==============================] - 20s 92ms/step - loss: 0.0627 - acc: 0.9790 - val_loss: 0.0513 - val_acc: 0.9893\n",
      "Epoch 26/100\n",
      "210/211 [============================>.] - ETA: 0s - loss: 0.0649 - acc: 0.9785Epoch 1/100\n",
      "211/211 [==============================] - 19s 89ms/step - loss: 0.0649 - acc: 0.9785 - val_loss: 0.0475 - val_acc: 0.9897\n",
      "Epoch 27/100\n",
      "210/211 [============================>.] - ETA: 0s - loss: 0.0631 - acc: 0.9799Epoch 1/100\n",
      "211/211 [==============================] - 19s 92ms/step - loss: 0.0631 - acc: 0.9799 - val_loss: 0.0416 - val_acc: 0.9932\n",
      "Epoch 28/100\n",
      "210/211 [============================>.] - ETA: 0s - loss: 0.0635 - acc: 0.9795Epoch 1/100\n",
      "211/211 [==============================] - 19s 91ms/step - loss: 0.0634 - acc: 0.9795 - val_loss: 0.0434 - val_acc: 0.9905\n",
      "Epoch 29/100\n",
      "210/211 [============================>.] - ETA: 0s - loss: 0.0631 - acc: 0.9803Epoch 1/100\n",
      " 23/211 [==>...........................] - ETA: 6s - loss: 0.0391 - acc: 0.9903\n",
      "Epoch 00029: ReduceLROnPlateau reducing learning rate to 1e-05.\n",
      "211/211 [==============================] - 20s 93ms/step - loss: 0.0633 - acc: 0.9803 - val_loss: 0.0376 - val_acc: 0.9905\n",
      "Epoch 00029: early stopping\n"
     ]
    }
   ],
   "source": [
    "history = model_cnn.fit_generator(train_gen.flow(X_train_cnn, y_train_cnn, batch_size = 256), epochs=100, \n",
    "                                        validation_data=valid_datagen.flow(X_valid_cnn, y_valid_cnn, batch_size = 256), \n",
    "                                        callbacks=[learning_rate_reduction, early_stopping_lr], shuffle=True)"
   ]
  },
  {
   "cell_type": "markdown",
   "metadata": {
    "colab_type": "text",
    "id": "E0TPVONum1J5"
   },
   "source": [
    "When training and validating our model, we have used the fit generator function, instead of the standard fit function. This is neccessary as we have applied data augmentation, which makes our data non-static. Since our image generator function loops infinitely, keras cannot know when an epoch starts and when it ends. The chosen batch size of 256 was found to be an ideal middle ground between keeping training time as low as possible while still ensuring the model was training and gaining accurate insights into the dataset."
   ]
  },
  {
   "cell_type": "markdown",
   "metadata": {
    "colab_type": "text",
    "id": "EwtP9JxMonfg"
   },
   "source": [
    "**8.2.4 Evaluating the Training Set**"
   ]
  },
  {
   "cell_type": "code",
   "execution_count": 51,
   "metadata": {
    "colab": {
     "base_uri": "https://localhost:8080/",
     "height": 324
    },
    "colab_type": "code",
    "id": "Narl-uwDetTB",
    "outputId": "08ec4f2b-3fa8-4206-ee14-69d86ba8d948"
   },
   "outputs": [
    {
     "data": {
      "image/png": "[encoded data removed]",
      "text/plain": [
       "<Figure size 576x360 with 1 Axes>"
      ]
     },
     "metadata": {
      "tags": []
     },
     "output_type": "display_data"
    }
   ],
   "source": [
    "import pandas as pd\n",
    "import matplotlib.pyplot as plt\n",
    "\n",
    "pd.DataFrame(history.history).plot(figsize=(8,5))\n",
    "plt.grid(True)\n",
    "plt.gca().set_ylim(0,1) # set the vertical range to [0-2]\n",
    "plt.show()"
   ]
  },
  {
   "cell_type": "code",
   "execution_count": 52,
   "metadata": {
    "colab": {
     "base_uri": "https://localhost:8080/",
     "height": 34
    },
    "colab_type": "code",
    "id": "OE8dO3tnRSLl",
    "outputId": "c282feb0-12e0-476d-8537-f160e14062ce"
   },
   "outputs": [
    {
     "data": {
      "text/plain": [
       "array([0, 1, 2, 3, 4, 5, 6, 7, 8, 9])"
      ]
     },
     "execution_count": 52,
     "metadata": {
      "tags": []
     },
     "output_type": "execute_result"
    }
   ],
   "source": [
    "model_pred_cnn = model_cnn.predict_classes(X_train_cnn)\n",
    "model_pred_cnn[:10]"
   ]
  },
  {
   "cell_type": "code",
   "execution_count": 53,
   "metadata": {
    "colab": {
     "base_uri": "https://localhost:8080/",
     "height": 34
    },
    "colab_type": "code",
    "id": "1UKq5p5vRSF5",
    "outputId": "3c3885b0-446e-40f9-b053-72a8cac2eb55"
   },
   "outputs": [
    {
     "data": {
      "text/plain": [
       "array([0, 1, 2, 3, 4, 5, 6, 7, 8, 9])"
      ]
     },
     "execution_count": 53,
     "metadata": {
      "tags": []
     },
     "output_type": "execute_result"
    }
   ],
   "source": [
    "model_pred_cnn_cv = model_cnn.predict_classes(X_valid_cnn)\n",
    "model_pred_cnn_cv[:10]"
   ]
  },
  {
   "cell_type": "code",
   "execution_count": 54,
   "metadata": {
    "colab": {
     "base_uri": "https://localhost:8080/",
     "height": 34
    },
    "colab_type": "code",
    "id": "6ueed-qdRSAh",
    "outputId": "61cdeff4-57a2-4437-e34d-551ca5383fed"
   },
   "outputs": [
    {
     "data": {
      "text/plain": [
       "array([0, 1, 2, 3, 4, 5, 6, 7, 8, 9])"
      ]
     },
     "execution_count": 54,
     "metadata": {
      "tags": []
     },
     "output_type": "execute_result"
    }
   ],
   "source": [
    "## We need to convert the training labels back to single digits rather than one hot encoding\n",
    "\n",
    "rounded_labels_cnn=np.argmax(y_train_cnn, axis=1)\n",
    "rounded_labels_cnn[:10]"
   ]
  },
  {
   "cell_type": "code",
   "execution_count": 55,
   "metadata": {
    "colab": {
     "base_uri": "https://localhost:8080/",
     "height": 34
    },
    "colab_type": "code",
    "id": "d6yuWTrkRR6E",
    "outputId": "0d3ce784-cbb6-43dd-8b11-20f55f74e306"
   },
   "outputs": [
    {
     "data": {
      "text/plain": [
       "array([0, 1, 2, 3, 4, 5, 6, 7, 8, 9])"
      ]
     },
     "execution_count": 55,
     "metadata": {
      "tags": []
     },
     "output_type": "execute_result"
    }
   ],
   "source": [
    "## We need to convert the cross-val labels back to single digits rather than one hot encoding\n",
    "\n",
    "rounded_labels_cnn_cv=np.argmax(y_valid_cnn, axis=1)\n",
    "rounded_labels_cnn_cv[:10]"
   ]
  },
  {
   "cell_type": "code",
   "execution_count": 56,
   "metadata": {
    "colab": {
     "base_uri": "https://localhost:8080/",
     "height": 51
    },
    "colab_type": "code",
    "id": "PlQDmDhsRqtY",
    "outputId": "113c240a-d4c0-4fef-9fb8-68f0fe1acc57"
   },
   "outputs": [
    {
     "name": "stdout",
     "output_type": "stream",
     "text": [
      "Training Accuracy: 0.994462962962963\n",
      "Cross-Val Accuracy: 0.9905\n"
     ]
    }
   ],
   "source": [
    "## Comparing accuracy scores from training data and cross-val data\n",
    "\n",
    "from sklearn.metrics import accuracy_score\n",
    "\n",
    "model_acc_cnn = accuracy_score(rounded_labels_cnn, model_pred_cnn)\n",
    "model_acc_cnn_cv = accuracy_score(rounded_labels_cnn_cv, model_pred_cnn_cv)\n",
    "\n",
    "print(\"Training Accuracy:\", model_acc_cnn)\n",
    "print(\"Cross-Val Accuracy:\", model_acc_cnn_cv)"
   ]
  },
  {
   "cell_type": "markdown",
   "metadata": {
    "colab_type": "text",
    "id": "CoZw4IW1nDhX"
   },
   "source": [
    "Here we evaluate our model and obtain the accuracy score between our train and validation split of our training data. The accuracy of 0.9945 was obtained, indicating that it should do fairly well on the subset of test data we have. "
   ]
  },
  {
   "cell_type": "code",
   "execution_count": 57,
   "metadata": {
    "colab": {
     "base_uri": "https://localhost:8080/",
     "height": 187
    },
    "colab_type": "code",
    "id": "ME0dpMsSRqq6",
    "outputId": "1dc179f9-dc46-478f-fea6-dc00ad9d29fa"
   },
   "outputs": [
    {
     "data": {
      "text/plain": [
       "array([[5375,   19,    1,    0,    0,    0,    0,    2,    3,    0],\n",
       "       [  51, 5340,    0,    2,    0,    2,    0,    3,    0,    2],\n",
       "       [   1,    0, 5393,    4,    0,    1,    0,    0,    0,    1],\n",
       "       [   2,    0,    2, 5345,    0,   10,    0,   40,    1,    0],\n",
       "       [   0,    0,    0,    0, 5383,   14,    0,    1,    1,    1],\n",
       "       [   0,    0,    0,    0,    0, 5400,    0,    0,    0,    0],\n",
       "       [   0,    0,    1,    0,    0,    0, 5292,   59,    0,   48],\n",
       "       [   0,    0,    3,    3,    0,    0,    5, 5389,    0,    0],\n",
       "       [   1,    0,    0,    0,    1,    0,    0,    0, 5395,    3],\n",
       "       [   1,    0,    0,    0,    0,    0,    9,    1,    0, 5389]])"
      ]
     },
     "execution_count": 57,
     "metadata": {
      "tags": []
     },
     "output_type": "execute_result"
    }
   ],
   "source": [
    "## Implementing confusion matrix to evaluate the classified digits in the training data\n",
    "\n",
    "from sklearn.metrics import confusion_matrix\n",
    "\n",
    "model_cnn_cm = confusion_matrix(rounded_labels_cnn, model_pred_cnn)\n",
    "model_cnn_cm"
   ]
  },
  {
   "cell_type": "code",
   "execution_count": 58,
   "metadata": {
    "colab": {
     "base_uri": "https://localhost:8080/",
     "height": 301
    },
    "colab_type": "code",
    "id": "MzWdkoeXRqoa",
    "outputId": "e403569d-03c4-4a03-f184-0f5d2a505c25"
   },
   "outputs": [
    {
     "data": {
      "image/png": "[encoded data removed]",
      "text/plain": [
       "<Figure size 288x288 with 1 Axes>"
      ]
     },
     "metadata": {
      "tags": []
     },
     "output_type": "display_data"
    }
   ],
   "source": [
    "plt.matshow(model_cnn_cm, cmap=plt.cm.gray)\n",
    "plt.title(\"Confusion Matrix Image Representation\", x=0.5, y=1)\n",
    "plt.xlabel(\"Predicted Labels\")\n",
    "plt.ylabel(\"Actual Labels\")\n",
    "plt.show()"
   ]
  },
  {
   "cell_type": "code",
   "execution_count": 59,
   "metadata": {
    "colab": {
     "base_uri": "https://localhost:8080/",
     "height": 301
    },
    "colab_type": "code",
    "id": "7ZTKOgmZR5aR",
    "outputId": "32638f5e-a63a-45a8-f5d6-ad0355596dd7"
   },
   "outputs": [
    {
     "data": {
      "image/png": "[encoded data removed]",
      "text/plain": [
       "<Figure size 288x288 with 1 Axes>"
      ]
     },
     "metadata": {
      "tags": []
     },
     "output_type": "display_data"
    }
   ],
   "source": [
    "## Now lets check where the errors are occuring most\n",
    "\n",
    "row_sums = model_cnn_cm.sum(axis=1, keepdims=True)\n",
    "norm_model_cnn_cm = model_cnn_cm / row_sums\n",
    "\n",
    "## Filling the leading diagonal with zeros to only keep the errors and plot results\n",
    "\n",
    "np.fill_diagonal(norm_model_cnn_cm, 0)\n",
    "plt.matshow(norm_model_cnn_cm, cmap=plt.cm.gray)\n",
    "plt.title(\"Confusion Matrix Image Representation of Errors\", x=0.5, y=1)\n",
    "plt.xlabel(\"Predicted Labels\")\n",
    "plt.ylabel(\"Actual Labels\")\n",
    "plt.show()"
   ]
  },
  {
   "cell_type": "code",
   "execution_count": 60,
   "metadata": {
    "colab": {
     "base_uri": "https://localhost:8080/",
     "height": 51
    },
    "colab_type": "code",
    "id": "cwTcxOyoR5g2",
    "outputId": "49c79d37-060d-4d54-9606-6b6276e9f784"
   },
   "outputs": [
    {
     "name": "stdout",
     "output_type": "stream",
     "text": [
      "Training Precision: 0.9945047665704208\n",
      "Training Recall: 0.994462962962963\n"
     ]
    }
   ],
   "source": [
    "## Comparing precision and recall scores from training data\n",
    "\n",
    "from sklearn.metrics import precision_score, recall_score\n",
    "\n",
    "print(\"Training Precision:\", precision_score(rounded_labels_cnn, model_pred_cnn, average='weighted'))\n",
    "print(\"Training Recall:\", recall_score(rounded_labels_cnn, model_pred_cnn, average='weighted'))"
   ]
  },
  {
   "cell_type": "markdown",
   "metadata": {
    "colab_type": "text",
    "id": "NxvtXa9To3rz"
   },
   "source": [
    "# 8.3 Convolutional Recurrent Neural Networks (CRNNs)"
   ]
  },
  {
   "cell_type": "markdown",
   "metadata": {
    "colab_type": "text",
    "id": "KWccWf0GCqc6"
   },
   "source": [
    "**8.3.1 Building the Model**"
   ]
  },
  {
   "cell_type": "code",
   "execution_count": 61,
   "metadata": {
    "colab": {
     "base_uri": "https://localhost:8080/",
     "height": 190
    },
    "colab_type": "code",
    "id": "8DBoTvbbCfFW",
    "outputId": "9f565cc5-9e7d-47a5-d7b4-dda424ef8630"
   },
   "outputs": [
    {
     "name": "stdout",
     "output_type": "stream",
     "text": [
      "WARNING:tensorflow:From /tensorflow-1.15.2/python3.6/tensorflow_core/python/ops/init_ops.py:97: calling GlorotUniform.__init__ (from tensorflow.python.ops.init_ops) with dtype is deprecated and will be removed in a future version.\n",
      "Instructions for updating:\n",
      "Call initializer instance with the dtype argument instead of passing it to the constructor\n",
      "WARNING:tensorflow:From /tensorflow-1.15.2/python3.6/tensorflow_core/python/ops/init_ops.py:97: calling Orthogonal.__init__ (from tensorflow.python.ops.init_ops) with dtype is deprecated and will be removed in a future version.\n",
      "Instructions for updating:\n",
      "Call initializer instance with the dtype argument instead of passing it to the constructor\n",
      "WARNING:tensorflow:From /tensorflow-1.15.2/python3.6/tensorflow_core/python/ops/init_ops.py:97: calling Zeros.__init__ (from tensorflow.python.ops.init_ops) with dtype is deprecated and will be removed in a future version.\n",
      "Instructions for updating:\n",
      "Call initializer instance with the dtype argument instead of passing it to the constructor\n"
     ]
    }
   ],
   "source": [
    "from tensorflow.keras.layers import TimeDistributed, Bidirectional, GRU\n",
    "\n",
    "model_crnn = keras.models.Sequential()\n",
    "model_crnn.add(keras.layers.Conv2D(filters = 32, kernel_size = 3, padding = 'same', activation = 'relu', input_shape = (28, 28, 1)))\n",
    "model_crnn.add(keras.layers.Conv2D(filters = 32, kernel_size = 3, padding = 'Same', activation = 'relu'))\n",
    "model_crnn.add(keras.layers.LeakyReLU(alpha = 0.1))\n",
    "model.add(keras.layers.BatchNormalization())\n",
    "\n",
    "model_crnn.add(keras.layers.MaxPooling2D(pool_size = (2, 2), strides = (2, 2)))\n",
    "model_crnn.add(keras.layers.Dropout(0.25))\n",
    "\n",
    "model_crnn.add(keras.layers.Conv2D(filters = 64, kernel_size = 3, padding = 'same', activation = 'relu'))\n",
    "model_crnn.add(keras.layers.Conv2D(filters = 64, kernel_size = 3, padding = 'Same', activation = 'relu'))\n",
    "model_crnn.add(keras.layers.LeakyReLU(alpha = 0.1))\n",
    "model_crnn.add(keras.layers.BatchNormalization()) \n",
    "\n",
    "model_crnn.add(keras.layers.MaxPooling2D(pool_size = (2, 2), strides = (2, 2)))\n",
    "model_crnn.add(keras.layers.Dropout(0.25))\n",
    "\n",
    "model_crnn.add(keras.layers.Conv2D(filters = 128, kernel_size = (3,3),padding = 'Same', activation ='relu'))\n",
    "model_crnn.add(keras.layers.Conv2D(filters = 128, kernel_size = (3,3),padding = 'Same', activation ='relu'))\n",
    "model_crnn.add(keras.layers.LeakyReLU(alpha = 0.1))\n",
    "model_crnn.add(keras.layers.BatchNormalization())\n",
    "\n",
    "model_crnn.add(keras.layers.MaxPooling2D(pool_size=(1,2), strides=(1,2)))\n",
    "model_crnn.add(keras.layers.Dropout(0.25))\n",
    "\n",
    "#Start of the RNN part of the network. \n",
    "model_crnn.add(keras.layers.TimeDistributed(keras.layers.Flatten()))\n",
    "model_crnn.add(keras.layers.Bidirectional(GRU(128, return_sequences = True)))\n",
    "model_crnn.add(keras.layers.Flatten())\n",
    "model_crnn.add(keras.layers.Dense(128, activation = \"relu\"))\n",
    "model_crnn.add(keras.layers.Dense(64, activation = \"relu\"))\n",
    "model_crnn.add(keras.layers.Dense(32, activation = \"relu\"))\n",
    "model_crnn.add(keras.layers.Dropout(0.25))\n",
    "model_crnn.add(keras.layers.Dense(10, activation = \"softmax\"))"
   ]
  },
  {
   "cell_type": "markdown",
   "metadata": {
    "colab_type": "text",
    "id": "irRY4bmFnLhJ"
   },
   "source": [
    "CRNN was the final model created for this investigation. This was chosen to see if there could be any benefits drawn from the RNN, despite CNN's being the better performers for image analysis and classification. The CNN part of the model is identical to the original CNN.\n",
    "\n",
    "With reference to the RNN phase of our model, the features from the CNN are fed to a Bidirectional gated current unit (GRU). This means that it is essentially two seprate RNN's, where one is fed with an input sequence in normal time order, while the other is in reverse time order. The idea was that the RNN part of the architecture would be able to add another level of learning to our model as it can learn temporal information, unlike the CNN that only consumes spatial information. This was intially thought to be of benefit as it would allow the model to a predict subsequent values."
   ]
  },
  {
   "cell_type": "code",
   "execution_count": 62,
   "metadata": {
    "colab": {
     "base_uri": "https://localhost:8080/",
     "height": 1000
    },
    "colab_type": "code",
    "id": "klhMLyUCCfCP",
    "outputId": "e7e6e71f-f426-4042-dbd2-c8fd1ad8908b"
   },
   "outputs": [
    {
     "name": "stdout",
     "output_type": "stream",
     "text": [
      "Model: \"sequential_2\"\n",
      "_________________________________________________________________\n",
      "Layer (type)                 Output Shape              Param #   \n",
      "=================================================================\n",
      "conv2d_6 (Conv2D)            (None, 28, 28, 32)        320       \n",
      "_________________________________________________________________\n",
      "conv2d_7 (Conv2D)            (None, 28, 28, 32)        9248      \n",
      "_________________________________________________________________\n",
      "leaky_re_lu_4 (LeakyReLU)    (None, 28, 28, 32)        0         \n",
      "_________________________________________________________________\n",
      "max_pooling2d_3 (MaxPooling2 (None, 14, 14, 32)        0         \n",
      "_________________________________________________________________\n",
      "dropout_7 (Dropout)          (None, 14, 14, 32)        0         \n",
      "_________________________________________________________________\n",
      "conv2d_8 (Conv2D)            (None, 14, 14, 64)        18496     \n",
      "_________________________________________________________________\n",
      "conv2d_9 (Conv2D)            (None, 14, 14, 64)        36928     \n",
      "_________________________________________________________________\n",
      "leaky_re_lu_5 (LeakyReLU)    (None, 14, 14, 64)        0         \n",
      "_________________________________________________________________\n",
      "batch_normalization_7 (Batch (None, 14, 14, 64)        256       \n",
      "_________________________________________________________________\n",
      "max_pooling2d_4 (MaxPooling2 (None, 7, 7, 64)          0         \n",
      "_________________________________________________________________\n",
      "dropout_8 (Dropout)          (None, 7, 7, 64)          0         \n",
      "_________________________________________________________________\n",
      "conv2d_10 (Conv2D)           (None, 7, 7, 128)         73856     \n",
      "_________________________________________________________________\n",
      "conv2d_11 (Conv2D)           (None, 7, 7, 128)         147584    \n",
      "_________________________________________________________________\n",
      "leaky_re_lu_6 (LeakyReLU)    (None, 7, 7, 128)         0         \n",
      "_________________________________________________________________\n",
      "batch_normalization_8 (Batch (None, 7, 7, 128)         512       \n",
      "_________________________________________________________________\n",
      "max_pooling2d_5 (MaxPooling2 (None, 7, 3, 128)         0         \n",
      "_________________________________________________________________\n",
      "dropout_9 (Dropout)          (None, 7, 3, 128)         0         \n",
      "_________________________________________________________________\n",
      "time_distributed (TimeDistri (None, 7, 384)            0         \n",
      "_________________________________________________________________\n",
      "bidirectional (Bidirectional (None, 7, 256)            393984    \n",
      "_________________________________________________________________\n",
      "flatten_2 (Flatten)          (None, 1792)              0         \n",
      "_________________________________________________________________\n",
      "dense_5 (Dense)              (None, 128)               229504    \n",
      "_________________________________________________________________\n",
      "dense_6 (Dense)              (None, 64)                8256      \n",
      "_________________________________________________________________\n",
      "dense_7 (Dense)              (None, 32)                2080      \n",
      "_________________________________________________________________\n",
      "dropout_10 (Dropout)         (None, 32)                0         \n",
      "_________________________________________________________________\n",
      "dense_8 (Dense)              (None, 10)                330       \n",
      "=================================================================\n",
      "Total params: 921,354\n",
      "Trainable params: 920,970\n",
      "Non-trainable params: 384\n",
      "_________________________________________________________________\n"
     ]
    }
   ],
   "source": [
    "model_crnn.summary()"
   ]
  },
  {
   "cell_type": "code",
   "execution_count": 63,
   "metadata": {
    "colab": {
     "base_uri": "https://localhost:8080/",
     "height": 442
    },
    "colab_type": "code",
    "id": "tuJ50XzvB1b6",
    "outputId": "222c69b3-9037-463c-9e12-91e1c7f23309"
   },
   "outputs": [
    {
     "data": {
      "text/plain": [
       "[<tensorflow.python.keras.layers.convolutional.Conv2D at 0x7f95869528d0>,\n",
       " <tensorflow.python.keras.layers.convolutional.Conv2D at 0x7f951a587b00>,\n",
       " <tensorflow.python.keras.layers.advanced_activations.LeakyReLU at 0x7f951a587ac8>,\n",
       " <tensorflow.python.keras.layers.pooling.MaxPooling2D at 0x7f951a593400>,\n",
       " <tensorflow.python.keras.layers.core.Dropout at 0x7f951a54ce10>,\n",
       " <tensorflow.python.keras.layers.convolutional.Conv2D at 0x7f951a593278>,\n",
       " <tensorflow.python.keras.layers.convolutional.Conv2D at 0x7f951a4e30f0>,\n",
       " <tensorflow.python.keras.layers.advanced_activations.LeakyReLU at 0x7f951a4f9860>,\n",
       " <tensorflow.python.keras.layers.normalization.BatchNormalization at 0x7f951a55b940>,\n",
       " <tensorflow.python.keras.layers.pooling.MaxPooling2D at 0x7f951a4f3160>,\n",
       " <tensorflow.python.keras.layers.core.Dropout at 0x7f951a4f31d0>,\n",
       " <tensorflow.python.keras.layers.convolutional.Conv2D at 0x7f951a4fd908>,\n",
       " <tensorflow.python.keras.layers.convolutional.Conv2D at 0x7f951a4c8da0>,\n",
       " <tensorflow.python.keras.layers.advanced_activations.LeakyReLU at 0x7f951a4bfc88>,\n",
       " <tensorflow.python.keras.layers.normalization.BatchNormalization at 0x7f951a4db908>,\n",
       " <tensorflow.python.keras.layers.pooling.MaxPooling2D at 0x7f951a4d1940>,\n",
       " <tensorflow.python.keras.layers.core.Dropout at 0x7f951a487128>,\n",
       " <tensorflow.python.keras.layers.wrappers.TimeDistributed at 0x7f951a42dda0>,\n",
       " <tensorflow.python.keras.layers.wrappers.Bidirectional at 0x7f951a43b748>,\n",
       " <tensorflow.python.keras.layers.core.Flatten at 0x7f951a425320>,\n",
       " <tensorflow.python.keras.layers.core.Dense at 0x7f951a39e7f0>,\n",
       " <tensorflow.python.keras.layers.core.Dense at 0x7f951a4632b0>,\n",
       " <tensorflow.python.keras.layers.core.Dense at 0x7f951a2ae828>,\n",
       " <tensorflow.python.keras.layers.core.Dropout at 0x7f951a44c550>,\n",
       " <tensorflow.python.keras.layers.core.Dense at 0x7f951a44c588>]"
      ]
     },
     "execution_count": 63,
     "metadata": {
      "tags": []
     },
     "output_type": "execute_result"
    }
   ],
   "source": [
    "model_crnn.layers"
   ]
  },
  {
   "cell_type": "markdown",
   "metadata": {
    "colab_type": "text",
    "id": "6abfoo_FB1mJ"
   },
   "source": [
    "**8.3.2 Compiling the Model**"
   ]
  },
  {
   "cell_type": "code",
   "execution_count": 0,
   "metadata": {
    "colab": {},
    "colab_type": "code",
    "id": "HTupYVk6B12E"
   },
   "outputs": [],
   "source": [
    "model_crnn.compile(loss = \"categorical_crossentropy\", # as we are using one-hot encode for the label data\n",
    "              optimizer = keras.optimizers.Nadam(learning_rate=0.001, beta_1=0.9, beta_2=0.999),\n",
    "              #optimizer = keras.optimizers.RMSprop(learning_rate=0.001, rho=0.9),\n",
    "              metrics = [\"accuracy\"])"
   ]
  },
  {
   "cell_type": "markdown",
   "metadata": {
    "colab_type": "text",
    "id": "mUng-OMZBvjY"
   },
   "source": [
    "**8.3.3 Fitting the Model to the Training Data**"
   ]
  },
  {
   "cell_type": "code",
   "execution_count": 65,
   "metadata": {
    "colab": {
     "base_uri": "https://localhost:8080/",
     "height": 1000
    },
    "colab_type": "code",
    "id": "AS_TiA1dAzii",
    "outputId": "c9ab2a57-53af-489a-9201-01bbf149872e"
   },
   "outputs": [
    {
     "name": "stdout",
     "output_type": "stream",
     "text": [
      "Epoch 1/100\n",
      "WARNING:tensorflow:From /tensorflow-1.15.2/python3.6/tensorflow_core/python/ops/math_grad.py:1424: where (from tensorflow.python.ops.array_ops) is deprecated and will be removed in a future version.\n",
      "Instructions for updating:\n",
      "Use tf.where in 2.0, which has the same broadcast rule as np.where\n",
      "105/106 [============================>.] - ETA: 0s - loss: 1.0420 - acc: 0.6380Epoch 1/100\n",
      "106/106 [==============================] - 24s 230ms/step - loss: 1.0361 - acc: 0.6403 - val_loss: 2.3133 - val_acc: 0.1028\n",
      "Epoch 2/100\n",
      "105/106 [============================>.] - ETA: 0s - loss: 0.2820 - acc: 0.9157Epoch 1/100\n",
      "106/106 [==============================] - 17s 163ms/step - loss: 0.2814 - acc: 0.9159 - val_loss: 1.6791 - val_acc: 0.4342\n",
      "Epoch 3/100\n",
      "105/106 [============================>.] - ETA: 0s - loss: 0.2043 - acc: 0.9411Epoch 1/100\n",
      "106/106 [==============================] - 18s 167ms/step - loss: 0.2039 - acc: 0.9412 - val_loss: 0.3391 - val_acc: 0.8918\n",
      "Epoch 4/100\n",
      "105/106 [============================>.] - ETA: 0s - loss: 0.1737 - acc: 0.9493Epoch 1/100\n",
      "106/106 [==============================] - 18s 167ms/step - loss: 0.1732 - acc: 0.9494 - val_loss: 0.0722 - val_acc: 0.9767\n",
      "Epoch 5/100\n",
      "105/106 [============================>.] - ETA: 0s - loss: 0.1486 - acc: 0.9554Epoch 1/100\n",
      "106/106 [==============================] - 18s 168ms/step - loss: 0.1485 - acc: 0.9554 - val_loss: 0.0733 - val_acc: 0.9790\n",
      "Epoch 6/100\n",
      "105/106 [============================>.] - ETA: 0s - loss: 0.1331 - acc: 0.9602Epoch 1/100\n",
      "106/106 [==============================] - 18s 167ms/step - loss: 0.1328 - acc: 0.9602 - val_loss: 0.0553 - val_acc: 0.9855\n",
      "Epoch 7/100\n",
      "105/106 [============================>.] - ETA: 0s - loss: 0.1232 - acc: 0.9634Epoch 1/100\n",
      "106/106 [==============================] - 18s 168ms/step - loss: 0.1234 - acc: 0.9633 - val_loss: 0.0644 - val_acc: 0.9852\n",
      "Epoch 8/100\n",
      "105/106 [============================>.] - ETA: 0s - loss: 0.1137 - acc: 0.9658Epoch 1/100\n",
      "106/106 [==============================] - 17s 163ms/step - loss: 0.1137 - acc: 0.9658 - val_loss: 0.0562 - val_acc: 0.9852\n",
      "Epoch 9/100\n",
      "105/106 [============================>.] - ETA: 0s - loss: 0.1079 - acc: 0.9671Epoch 1/100\n",
      "106/106 [==============================] - 18s 165ms/step - loss: 0.1078 - acc: 0.9671 - val_loss: 0.0329 - val_acc: 0.9908\n",
      "Epoch 10/100\n",
      "105/106 [============================>.] - ETA: 0s - loss: 0.1020 - acc: 0.9690Epoch 1/100\n",
      "106/106 [==============================] - 18s 168ms/step - loss: 0.1017 - acc: 0.9690 - val_loss: 0.0430 - val_acc: 0.9902\n",
      "Epoch 11/100\n",
      "105/106 [============================>.] - ETA: 0s - loss: 0.1015 - acc: 0.9690Epoch 1/100\n",
      "106/106 [==============================] - 18s 170ms/step - loss: 0.1013 - acc: 0.9691 - val_loss: 0.0401 - val_acc: 0.9908\n",
      "Epoch 12/100\n",
      "105/106 [============================>.] - ETA: 0s - loss: 0.0947 - acc: 0.9710Epoch 1/100\n",
      "106/106 [==============================] - 18s 168ms/step - loss: 0.0948 - acc: 0.9710 - val_loss: 0.0312 - val_acc: 0.9918\n",
      "Epoch 13/100\n",
      "105/106 [============================>.] - ETA: 0s - loss: 0.0947 - acc: 0.9720Epoch 1/100\n",
      "106/106 [==============================] - 18s 167ms/step - loss: 0.0949 - acc: 0.9720 - val_loss: 0.0539 - val_acc: 0.9885\n",
      "Epoch 14/100\n",
      "105/106 [============================>.] - ETA: 0s - loss: 0.0867 - acc: 0.9738Epoch 1/100\n",
      "106/106 [==============================] - 18s 169ms/step - loss: 0.0866 - acc: 0.9739 - val_loss: 0.0428 - val_acc: 0.9898\n",
      "Epoch 15/100\n",
      "105/106 [============================>.] - ETA: 0s - loss: 0.0864 - acc: 0.9744Epoch 1/100\n",
      "106/106 [==============================] - 17s 164ms/step - loss: 0.0866 - acc: 0.9744 - val_loss: 0.0333 - val_acc: 0.9908\n",
      "Epoch 16/100\n",
      "105/106 [============================>.] - ETA: 0s - loss: 0.0829 - acc: 0.9748Epoch 1/100\n",
      "106/106 [==============================] - 18s 169ms/step - loss: 0.0832 - acc: 0.9748 - val_loss: 0.0446 - val_acc: 0.9898\n",
      "Epoch 17/100\n",
      "105/106 [============================>.] - ETA: 0s - loss: 0.0829 - acc: 0.9757Epoch 1/100\n",
      "106/106 [==============================] - 18s 166ms/step - loss: 0.0828 - acc: 0.9757 - val_loss: 0.0436 - val_acc: 0.9903\n",
      "Epoch 18/100\n",
      "105/106 [============================>.] - ETA: 0s - loss: 0.0830 - acc: 0.9760Epoch 1/100\n",
      "106/106 [==============================] - 18s 170ms/step - loss: 0.0832 - acc: 0.9760 - val_loss: 0.0313 - val_acc: 0.9922\n",
      "Epoch 19/100\n",
      "105/106 [============================>.] - ETA: 0s - loss: 0.0786 - acc: 0.9760Epoch 1/100\n",
      "106/106 [==============================] - 18s 169ms/step - loss: 0.0788 - acc: 0.9760 - val_loss: 0.0716 - val_acc: 0.9838\n",
      "Epoch 20/100\n",
      "105/106 [============================>.] - ETA: 0s - loss: 0.0774 - acc: 0.9762Epoch 1/100\n",
      "106/106 [==============================] - 17s 164ms/step - loss: 0.0774 - acc: 0.9762 - val_loss: 0.0456 - val_acc: 0.9905\n",
      "Epoch 21/100\n",
      "105/106 [============================>.] - ETA: 0s - loss: 0.0721 - acc: 0.9776Epoch 1/100\n",
      "106/106 [==============================] - 18s 173ms/step - loss: 0.0720 - acc: 0.9776 - val_loss: 0.0386 - val_acc: 0.9910\n",
      "Epoch 22/100\n",
      "105/106 [============================>.] - ETA: 0s - loss: 0.0737 - acc: 0.9772Epoch 1/100\n",
      "106/106 [==============================] - 18s 168ms/step - loss: 0.0740 - acc: 0.9773 - val_loss: 0.0448 - val_acc: 0.9913\n",
      "Epoch 23/100\n",
      "105/106 [============================>.] - ETA: 0s - loss: 0.0739 - acc: 0.9781Epoch 1/100\n",
      "106/106 [==============================] - 18s 166ms/step - loss: 0.0737 - acc: 0.9781 - val_loss: 0.0318 - val_acc: 0.9915\n",
      "Epoch 24/100\n",
      "105/106 [============================>.] - ETA: 0s - loss: 0.0691 - acc: 0.9796Epoch 1/100\n",
      "106/106 [==============================] - 17s 162ms/step - loss: 0.0690 - acc: 0.9796 - val_loss: 0.0327 - val_acc: 0.9927\n",
      "Epoch 25/100\n",
      "105/106 [============================>.] - ETA: 0s - loss: 0.0703 - acc: 0.9784Epoch 1/100\n",
      "106/106 [==============================] - 18s 169ms/step - loss: 0.0703 - acc: 0.9783 - val_loss: 0.0524 - val_acc: 0.9855\n",
      "Epoch 26/100\n",
      "105/106 [============================>.] - ETA: 0s - loss: 0.0700 - acc: 0.9787Epoch 1/100\n",
      "106/106 [==============================] - 18s 166ms/step - loss: 0.0700 - acc: 0.9787 - val_loss: 0.0442 - val_acc: 0.9897\n",
      "Epoch 27/100\n",
      "105/106 [============================>.] - ETA: 0s - loss: 0.0686 - acc: 0.9789Epoch 1/100\n",
      "106/106 [==============================] - 17s 162ms/step - loss: 0.0683 - acc: 0.9791 - val_loss: 0.0365 - val_acc: 0.9915\n",
      "Epoch 28/100\n",
      "105/106 [============================>.] - ETA: 0s - loss: 0.0676 - acc: 0.9796Epoch 1/100\n",
      "106/106 [==============================] - 17s 164ms/step - loss: 0.0676 - acc: 0.9796 - val_loss: 0.0360 - val_acc: 0.9922\n",
      "Epoch 29/100\n",
      "105/106 [============================>.] - ETA: 0s - loss: 0.0649 - acc: 0.9803Epoch 1/100\n",
      "106/106 [==============================] - 17s 165ms/step - loss: 0.0648 - acc: 0.9802 - val_loss: 0.0433 - val_acc: 0.9898\n",
      "Epoch 30/100\n",
      "105/106 [============================>.] - ETA: 0s - loss: 0.0674 - acc: 0.9792Epoch 1/100\n",
      "106/106 [==============================] - 18s 173ms/step - loss: 0.0672 - acc: 0.9793 - val_loss: 0.0405 - val_acc: 0.9902\n",
      "Epoch 31/100\n",
      "105/106 [============================>.] - ETA: 0s - loss: 0.0660 - acc: 0.9792Epoch 1/100\n",
      "106/106 [==============================] - 18s 173ms/step - loss: 0.0660 - acc: 0.9792 - val_loss: 0.0477 - val_acc: 0.9862\n",
      "Epoch 32/100\n",
      "105/106 [============================>.] - ETA: 0s - loss: 0.0645 - acc: 0.9803Epoch 1/100\n",
      " 11/106 [==>...........................] - ETA: 4s - loss: 0.0431 - acc: 0.9906\n",
      "Epoch 00032: ReduceLROnPlateau reducing learning rate to 1e-05.\n",
      "106/106 [==============================] - 19s 175ms/step - loss: 0.0644 - acc: 0.9804 - val_loss: 0.0416 - val_acc: 0.9907\n",
      "Epoch 00032: early stopping\n"
     ]
    }
   ],
   "source": [
    "history = model_crnn.fit_generator(train_gen.flow(X_train_crnn, y_train_crnn,batch_size=512), epochs=100, \n",
    "                                        validation_data=valid_datagen.flow(X_valid_crnn, y_valid_crnn,batch_size=512), \n",
    "                                        callbacks=[learning_rate_reduction, early_stopping_lr], shuffle=True)"
   ]
  },
  {
   "cell_type": "markdown",
   "metadata": {
    "colab_type": "text",
    "id": "4HW2P7U1Bpi3"
   },
   "source": [
    "**8.3.4 Evaluating the Training Set**"
   ]
  },
  {
   "cell_type": "code",
   "execution_count": 66,
   "metadata": {
    "colab": {
     "base_uri": "https://localhost:8080/",
     "height": 324
    },
    "colab_type": "code",
    "id": "FLZ7fxEhAzfZ",
    "outputId": "f97d5bde-63ee-4f5e-b9a2-98697d20b238"
   },
   "outputs": [
    {
     "data": {
      "image/png": "[encoded data removed]",
      "text/plain": [
       "<Figure size 576x360 with 1 Axes>"
      ]
     },
     "metadata": {
      "tags": []
     },
     "output_type": "display_data"
    }
   ],
   "source": [
    "import pandas as pd\n",
    "import matplotlib.pyplot as plt\n",
    "\n",
    "pd.DataFrame(history.history).plot(figsize=(8,5))\n",
    "plt.grid(True)\n",
    "plt.gca().set_ylim(0,1) # set the vertical range to [0-2]\n",
    "plt.show()"
   ]
  },
  {
   "cell_type": "code",
   "execution_count": 67,
   "metadata": {
    "colab": {
     "base_uri": "https://localhost:8080/",
     "height": 34
    },
    "colab_type": "code",
    "id": "EgEfynQhAzcT",
    "outputId": "b70f38bc-69e2-49b5-c445-ee0e6aaf67f5"
   },
   "outputs": [
    {
     "data": {
      "text/plain": [
       "array([0, 1, 2, 3, 4, 5, 6, 7, 8, 9])"
      ]
     },
     "execution_count": 67,
     "metadata": {
      "tags": []
     },
     "output_type": "execute_result"
    }
   ],
   "source": [
    "model_pred_crnn = model_crnn.predict_classes(X_train_crnn)\n",
    "model_pred_crnn[:10]"
   ]
  },
  {
   "cell_type": "code",
   "execution_count": 68,
   "metadata": {
    "colab": {
     "base_uri": "https://localhost:8080/",
     "height": 34
    },
    "colab_type": "code",
    "id": "uG_YRwVmAWQo",
    "outputId": "7d2845bb-d2b1-4d7b-f63f-824553229630"
   },
   "outputs": [
    {
     "data": {
      "text/plain": [
       "array([0, 1, 2, 3, 4, 5, 6, 7, 8, 9])"
      ]
     },
     "execution_count": 68,
     "metadata": {
      "tags": []
     },
     "output_type": "execute_result"
    }
   ],
   "source": [
    "model_pred_crnn_cv = model_crnn.predict_classes(X_valid_crnn)\n",
    "model_pred_crnn_cv[:10]"
   ]
  },
  {
   "cell_type": "code",
   "execution_count": 69,
   "metadata": {
    "colab": {
     "base_uri": "https://localhost:8080/",
     "height": 34
    },
    "colab_type": "code",
    "id": "CV5MTwGOAWNt",
    "outputId": "3b215acc-ab6a-4d3a-9879-deabda9fbd0f"
   },
   "outputs": [
    {
     "data": {
      "text/plain": [
       "array([0, 1, 2, 3, 4, 5, 6, 7, 8, 9])"
      ]
     },
     "execution_count": 69,
     "metadata": {
      "tags": []
     },
     "output_type": "execute_result"
    }
   ],
   "source": [
    "## We need to convert the training labels back to single digits rather than one hot encoding\n",
    "\n",
    "rounded_labels_crnn=np.argmax(y_train_crnn, axis=1)\n",
    "rounded_labels_crnn[:10]"
   ]
  },
  {
   "cell_type": "code",
   "execution_count": 70,
   "metadata": {
    "colab": {
     "base_uri": "https://localhost:8080/",
     "height": 34
    },
    "colab_type": "code",
    "id": "EyyqiqBcAWLI",
    "outputId": "5d86a315-5fd1-4def-bbf0-fc6fa07983cb"
   },
   "outputs": [
    {
     "data": {
      "text/plain": [
       "array([0, 1, 2, 3, 4, 5, 6, 7, 8, 9])"
      ]
     },
     "execution_count": 70,
     "metadata": {
      "tags": []
     },
     "output_type": "execute_result"
    }
   ],
   "source": [
    "## We need to convert the cross-val labels back to single digits rather than one hot encoding\n",
    "\n",
    "rounded_labels_crnn_cv=np.argmax(y_valid_crnn, axis=1)\n",
    "rounded_labels_crnn_cv[:10]"
   ]
  },
  {
   "cell_type": "code",
   "execution_count": 71,
   "metadata": {
    "colab": {
     "base_uri": "https://localhost:8080/",
     "height": 51
    },
    "colab_type": "code",
    "id": "MuoMbut8AWH5",
    "outputId": "0426e8e2-f7d9-4d52-d37e-b94b8619f4ef"
   },
   "outputs": [
    {
     "name": "stdout",
     "output_type": "stream",
     "text": [
      "Training Accuracy: 0.9962222222222222\n",
      "Cross-Val Accuracy: 0.9906666666666667\n"
     ]
    }
   ],
   "source": [
    "## Comparing accuracy scores from training data and cross-val data\n",
    "\n",
    "from sklearn.metrics import accuracy_score\n",
    "\n",
    "model_acc_crnn = accuracy_score(rounded_labels_crnn, model_pred_crnn)\n",
    "model_acc_crnn_cv = accuracy_score(rounded_labels_crnn_cv, model_pred_crnn_cv)\n",
    "\n",
    "print(\"Training Accuracy:\", model_acc_crnn)\n",
    "print(\"Cross-Val Accuracy:\", model_acc_crnn_cv)"
   ]
  },
  {
   "cell_type": "markdown",
   "metadata": {
    "colab_type": "text",
    "id": "DbxSoXZSncxe"
   },
   "source": [
    "The results from the training data would suggest that the CRNN model would perform slightly better on the test dataset than the CNN model. However, due to the larger difference between the normal model accuracy (0.9962) and the cross-validation model accuracy (0.9907), the CNN actually performs slightly better. This score was achieved over 32 epochs and a higher batch size of 512. This increased batch size may be the reason why this model has not performed as well, however, due to time and power constraints it would have taken too long to train such a model with a smaller batch size. "
   ]
  },
  {
   "cell_type": "code",
   "execution_count": 72,
   "metadata": {
    "colab": {
     "base_uri": "https://localhost:8080/",
     "height": 187
    },
    "colab_type": "code",
    "id": "FopPiiBUAWE-",
    "outputId": "b6ba063b-cdd1-4d28-ab16-819a0584ad02"
   },
   "outputs": [
    {
     "data": {
      "text/plain": [
       "array([[5373,   18,    3,    0,    0,    0,    0,    0,    6,    0],\n",
       "       [  30, 5360,    3,    2,    0,    0,    0,    1,    1,    3],\n",
       "       [   0,    0, 5399,    1,    0,    0,    0,    0,    0,    0],\n",
       "       [   3,    0,    5, 5379,    1,    0,    1,   11,    0,    0],\n",
       "       [   0,    0,    1,    0, 5393,    3,    0,    0,    3,    0],\n",
       "       [   0,    0,    0,    1,    0, 5399,    0,    0,    0,    0],\n",
       "       [   0,    0,    2,    0,    0,    0, 5355,   34,    1,    8],\n",
       "       [   1,    1,    1,    7,    0,    0,    9, 5381,    0,    0],\n",
       "       [   0,    0,    0,    0,    0,    0,    0,    0, 5398,    2],\n",
       "       [   0,    0,    1,    0,    0,    0,   39,    1,    0, 5359]])"
      ]
     },
     "execution_count": 72,
     "metadata": {
      "tags": []
     },
     "output_type": "execute_result"
    }
   ],
   "source": [
    "## Implementing confusion matrix to evaluate the classified digits in the training data\n",
    "\n",
    "from sklearn.metrics import confusion_matrix\n",
    "\n",
    "model_crnn_cm = confusion_matrix(rounded_labels_crnn, model_pred_crnn)\n",
    "model_crnn_cm"
   ]
  },
  {
   "cell_type": "code",
   "execution_count": 73,
   "metadata": {
    "colab": {
     "base_uri": "https://localhost:8080/",
     "height": 301
    },
    "colab_type": "code",
    "id": "RaM_RQFtAWBJ",
    "outputId": "02119d8b-c7ff-4a33-9dfd-07a835c12332"
   },
   "outputs": [
    {
     "data": {
      "image/png": "[encoded data removed]",
      "text/plain": [
       "<Figure size 288x288 with 1 Axes>"
      ]
     },
     "metadata": {
      "tags": []
     },
     "output_type": "display_data"
    }
   ],
   "source": [
    "plt.matshow(model_crnn_cm, cmap=plt.cm.gray)\n",
    "plt.title(\"Confusion Matrix Image Representation\", x=0.5, y=1)\n",
    "plt.xlabel(\"Predicted Labels\")\n",
    "plt.ylabel(\"Actual Labels\")\n",
    "plt.show()"
   ]
  },
  {
   "cell_type": "code",
   "execution_count": 74,
   "metadata": {
    "colab": {
     "base_uri": "https://localhost:8080/",
     "height": 301
    },
    "colab_type": "code",
    "id": "sHcNAVwx8Ka6",
    "outputId": "f250adcc-dc4f-4bc6-ab7e-79f69be9a9c4"
   },
   "outputs": [
    {
     "data": {
      "image/png": "[encoded data removed]",
      "text/plain": [
       "<Figure size 288x288 with 1 Axes>"
      ]
     },
     "metadata": {
      "tags": []
     },
     "output_type": "display_data"
    }
   ],
   "source": [
    "## Now lets check where the errors are occuring most\n",
    "\n",
    "row_sums = model_crnn_cm.sum(axis=1, keepdims=True)\n",
    "norm_model_crnn_cm = model_crnn_cm / row_sums\n",
    "\n",
    "## Filling the leading diagonal with zeros to only keep the errors and plot results\n",
    "\n",
    "np.fill_diagonal(norm_model_crnn_cm, 0)\n",
    "plt.matshow(norm_model_crnn_cm, cmap=plt.cm.gray)\n",
    "plt.title(\"Confusion Matrix Image Representation of Errors\", x=0.5, y=1)\n",
    "plt.xlabel(\"Predicted Labels\")\n",
    "plt.ylabel(\"Actual Labels\")\n",
    "plt.show()"
   ]
  },
  {
   "cell_type": "code",
   "execution_count": 75,
   "metadata": {
    "colab": {
     "base_uri": "https://localhost:8080/",
     "height": 51
    },
    "colab_type": "code",
    "id": "IilS8bl88KXg",
    "outputId": "2a6a1fde-f6c3-4c4d-8527-47ca59aee07e"
   },
   "outputs": [
    {
     "name": "stdout",
     "output_type": "stream",
     "text": [
      "Training Precision: 0.996226352060381\n",
      "Training Recall: 0.9962222222222222\n"
     ]
    }
   ],
   "source": [
    "## Comparing precision and recall scores from training data\n",
    "\n",
    "from sklearn.metrics import precision_score, recall_score\n",
    "\n",
    "print(\"Training Precision:\", precision_score(rounded_labels_crnn, model_pred_crnn, average='weighted'))\n",
    "print(\"Training Recall:\", recall_score(rounded_labels_crnn, model_pred_crnn, average='weighted'))"
   ]
  },
  {
   "cell_type": "markdown",
   "metadata": {
    "colab_type": "text",
    "id": "yQmF7YSQln9x"
   },
   "source": [
    "# 9. Evaluating Our Models on the Test Set"
   ]
  },
  {
   "cell_type": "markdown",
   "metadata": {
    "colab_type": "text",
    "id": "oS1kr-Yaqla7"
   },
   "source": [
    "# 9.1 Original ANN"
   ]
  },
  {
   "cell_type": "code",
   "execution_count": 0,
   "metadata": {
    "colab": {},
    "colab_type": "code",
    "id": "VmSTsqTAlXhC"
   },
   "outputs": [],
   "source": [
    "y_test_pred = model.predict(X_test)"
   ]
  },
  {
   "cell_type": "code",
   "execution_count": 77,
   "metadata": {
    "colab": {
     "base_uri": "https://localhost:8080/",
     "height": 204
    },
    "colab_type": "code",
    "id": "UvdcRFx6m7_f",
    "outputId": "27d41c69-38aa-475c-b9dd-502a3c87cf5d"
   },
   "outputs": [
    {
     "data": {
      "text/plain": [
       "array([[0.99950033, 0.        , 0.        , 0.        , 0.        ,\n",
       "        0.        , 0.        , 0.        , 0.        , 0.        ],\n",
       "       [0.        , 0.99950033, 0.        , 0.        , 0.        ,\n",
       "        0.        , 0.        , 0.        , 0.        , 0.        ],\n",
       "       [0.        , 0.        , 0.99950033, 0.        , 0.        ,\n",
       "        0.        , 0.        , 0.        , 0.        , 0.        ],\n",
       "       [0.        , 0.        , 0.        , 0.99950033, 0.        ,\n",
       "        0.        , 0.        , 0.        , 0.        , 0.        ],\n",
       "       [0.        , 0.        , 0.        , 0.        , 0.99950033,\n",
       "        0.        , 0.        , 0.        , 0.        , 0.        ]],\n",
       "      dtype=float32)"
      ]
     },
     "execution_count": 77,
     "metadata": {
      "tags": []
     },
     "output_type": "execute_result"
    }
   ],
   "source": [
    "y_test_pred[:5]"
   ]
  },
  {
   "cell_type": "code",
   "execution_count": 78,
   "metadata": {
    "colab": {
     "base_uri": "https://localhost:8080/",
     "height": 34
    },
    "colab_type": "code",
    "id": "8YbobRyKn31j",
    "outputId": "d0362207-7c65-49c9-96bd-a49ae30c8d16"
   },
   "outputs": [
    {
     "data": {
      "text/plain": [
       "array([0, 1, 2, 3, 4])"
      ]
     },
     "execution_count": 78,
     "metadata": {
      "tags": []
     },
     "output_type": "execute_result"
    }
   ],
   "source": [
    "y_pred = model.predict_classes(X_test)\n",
    "y_pred[:5]"
   ]
  },
  {
   "cell_type": "markdown",
   "metadata": {
    "colab_type": "text",
    "id": "biRswaK_q2az"
   },
   "source": [
    "# 9.2 CNN"
   ]
  },
  {
   "cell_type": "code",
   "execution_count": 0,
   "metadata": {
    "colab": {},
    "colab_type": "code",
    "id": "vp11LN76q9Ql"
   },
   "outputs": [],
   "source": [
    "y_test_pred_cnn = model_cnn.predict(X_test_cnn)"
   ]
  },
  {
   "cell_type": "code",
   "execution_count": 80,
   "metadata": {
    "colab": {
     "base_uri": "https://localhost:8080/",
     "height": 102
    },
    "colab_type": "code",
    "id": "Eu1gzCQIq9N0",
    "outputId": "cbc024cb-3ca2-44bc-9b20-45900dc54c5d"
   },
   "outputs": [
    {
     "data": {
      "text/plain": [
       "array([[1., 0., 0., 0., 0., 0., 0., 0., 0., 0.],\n",
       "       [0., 1., 0., 0., 0., 0., 0., 0., 0., 0.],\n",
       "       [0., 0., 1., 0., 0., 0., 0., 0., 0., 0.],\n",
       "       [0., 0., 0., 1., 0., 0., 0., 0., 0., 0.],\n",
       "       [0., 0., 0., 0., 1., 0., 0., 0., 0., 0.]], dtype=float32)"
      ]
     },
     "execution_count": 80,
     "metadata": {
      "tags": []
     },
     "output_type": "execute_result"
    }
   ],
   "source": [
    "y_test_pred_cnn[:5]"
   ]
  },
  {
   "cell_type": "code",
   "execution_count": 81,
   "metadata": {
    "colab": {
     "base_uri": "https://localhost:8080/",
     "height": 34
    },
    "colab_type": "code",
    "id": "eCPpCEaEq9K5",
    "outputId": "0efce998-be13-4ec4-e7f1-e97f5c9e5ad2"
   },
   "outputs": [
    {
     "data": {
      "text/plain": [
       "array([0, 1, 2, 3, 4])"
      ]
     },
     "execution_count": 81,
     "metadata": {
      "tags": []
     },
     "output_type": "execute_result"
    }
   ],
   "source": [
    "y_pred_cnn = model_cnn.predict_classes(X_test_cnn)\n",
    "y_pred_cnn[:5]"
   ]
  },
  {
   "cell_type": "markdown",
   "metadata": {
    "colab_type": "text",
    "id": "SvpfR4M7toOv"
   },
   "source": [
    "# 9.3 CRNN"
   ]
  },
  {
   "cell_type": "code",
   "execution_count": 0,
   "metadata": {
    "colab": {},
    "colab_type": "code",
    "id": "1NJJE5zwtq6-"
   },
   "outputs": [],
   "source": [
    "y_test_pred_crnn = model_crnn.predict(X_test_crnn)"
   ]
  },
  {
   "cell_type": "code",
   "execution_count": 83,
   "metadata": {
    "colab": {
     "base_uri": "https://localhost:8080/",
     "height": 272
    },
    "colab_type": "code",
    "id": "7Lehb7_5trU4",
    "outputId": "dac49452-b4e3-4f75-cc22-5da685031f25"
   },
   "outputs": [
    {
     "data": {
      "text/plain": [
       "array([[9.9769092e-01, 7.5192272e-04, 4.2705412e-04, 5.9628379e-05,\n",
       "        5.8803329e-07, 9.8773410e-07, 3.7408778e-08, 1.8218140e-07,\n",
       "        1.0685846e-03, 1.3456344e-07],\n",
       "       [1.5012069e-03, 9.9843770e-01, 3.6081539e-07, 5.8547248e-05,\n",
       "        7.3954872e-08, 6.4452166e-07, 8.7789498e-10, 1.4709934e-06,\n",
       "        1.2649532e-08, 5.2620952e-10],\n",
       "       [3.2995806e-10, 5.4812319e-09, 9.9999857e-01, 1.3764516e-06,\n",
       "        3.6379889e-13, 4.8411736e-10, 1.5995593e-09, 1.5664505e-09,\n",
       "        2.1729070e-12, 1.0891378e-12],\n",
       "       [1.7272156e-11, 1.8597663e-11, 2.4999391e-09, 9.9999976e-01,\n",
       "        4.8233792e-11, 2.7806044e-08, 1.3843905e-11, 1.9747050e-07,\n",
       "        2.1284446e-12, 6.8497372e-13],\n",
       "       [3.2020529e-14, 5.6548954e-10, 5.3274388e-11, 1.2260405e-07,\n",
       "        9.9999988e-01, 3.6251052e-08, 1.8134584e-11, 4.8905862e-12,\n",
       "        6.7391337e-09, 2.1046873e-12]], dtype=float32)"
      ]
     },
     "execution_count": 83,
     "metadata": {
      "tags": []
     },
     "output_type": "execute_result"
    }
   ],
   "source": [
    "y_test_pred_crnn[:5]"
   ]
  },
  {
   "cell_type": "code",
   "execution_count": 84,
   "metadata": {
    "colab": {
     "base_uri": "https://localhost:8080/",
     "height": 34
    },
    "colab_type": "code",
    "id": "7ifxq0mKtrQT",
    "outputId": "ea762d26-26d0-4899-8529-9d2bbb07f645"
   },
   "outputs": [
    {
     "data": {
      "text/plain": [
       "array([0, 1, 2, 3, 4])"
      ]
     },
     "execution_count": 84,
     "metadata": {
      "tags": []
     },
     "output_type": "execute_result"
    }
   ],
   "source": [
    "y_pred_crnn = model_crnn.predict_classes(X_test_crnn)\n",
    "y_pred_crnn[:5]"
   ]
  },
  {
   "cell_type": "markdown",
   "metadata": {
    "colab_type": "text",
    "id": "o5418hcjoXpi"
   },
   "source": [
    "# 10. Creating DataFrames for Our Submissions"
   ]
  },
  {
   "cell_type": "markdown",
   "metadata": {
    "colab_type": "text",
    "id": "o_Lll5MGuXzC"
   },
   "source": [
    "# 10.1 Original ANN"
   ]
  },
  {
   "cell_type": "code",
   "execution_count": 85,
   "metadata": {
    "colab": {
     "base_uri": "https://localhost:8080/",
     "height": 204
    },
    "colab_type": "code",
    "id": "xcm3BDbrnYNP",
    "outputId": "a91a673d-9964-4df4-fae7-b80ea4f09310"
   },
   "outputs": [
    {
     "data": {
      "text/html": [
       "<div>\n",
       "<style scoped>\n",
       "    .dataframe tbody tr th:only-of-type {\n",
       "        vertical-align: middle;\n",
       "    }\n",
       "\n",
       "    .dataframe tbody tr th {\n",
       "        vertical-align: top;\n",
       "    }\n",
       "\n",
       "    .dataframe thead th {\n",
       "        text-align: right;\n",
       "    }\n",
       "</style>\n",
       "<table border=\"1\" class=\"dataframe\">\n",
       "  <thead>\n",
       "    <tr style=\"text-align: right;\">\n",
       "      <th></th>\n",
       "      <th>id</th>\n",
       "      <th>label</th>\n",
       "    </tr>\n",
       "  </thead>\n",
       "  <tbody>\n",
       "    <tr>\n",
       "      <th>0</th>\n",
       "      <td>60001</td>\n",
       "      <td>0</td>\n",
       "    </tr>\n",
       "    <tr>\n",
       "      <th>1</th>\n",
       "      <td>60002</td>\n",
       "      <td>1</td>\n",
       "    </tr>\n",
       "    <tr>\n",
       "      <th>2</th>\n",
       "      <td>60003</td>\n",
       "      <td>2</td>\n",
       "    </tr>\n",
       "    <tr>\n",
       "      <th>3</th>\n",
       "      <td>60004</td>\n",
       "      <td>3</td>\n",
       "    </tr>\n",
       "    <tr>\n",
       "      <th>4</th>\n",
       "      <td>60005</td>\n",
       "      <td>4</td>\n",
       "    </tr>\n",
       "  </tbody>\n",
       "</table>\n",
       "</div>"
      ],
      "text/plain": [
       "      id  label\n",
       "0  60001      0\n",
       "1  60002      1\n",
       "2  60003      2\n",
       "3  60004      3\n",
       "4  60005      4"
      ]
     },
     "execution_count": 85,
     "metadata": {
      "tags": []
     },
     "output_type": "execute_result"
    }
   ],
   "source": [
    "#Creating columns for submission in pandas dataframe\n",
    "\n",
    "ann_sub = pd.DataFrame({\"id\":mnist_test[\"id\"], \"label\":y_pred})\n",
    "ann_sub.head()"
   ]
  },
  {
   "cell_type": "markdown",
   "metadata": {
    "colab_type": "text",
    "id": "ipNPk1xSujYM"
   },
   "source": [
    "# 10.2 CNN"
   ]
  },
  {
   "cell_type": "code",
   "execution_count": 86,
   "metadata": {
    "colab": {
     "base_uri": "https://localhost:8080/",
     "height": 204
    },
    "colab_type": "code",
    "id": "wWb17lWBujxr",
    "outputId": "07f9e3e0-0ed2-43e1-c5a0-208872913894"
   },
   "outputs": [
    {
     "data": {
      "text/html": [
       "<div>\n",
       "<style scoped>\n",
       "    .dataframe tbody tr th:only-of-type {\n",
       "        vertical-align: middle;\n",
       "    }\n",
       "\n",
       "    .dataframe tbody tr th {\n",
       "        vertical-align: top;\n",
       "    }\n",
       "\n",
       "    .dataframe thead th {\n",
       "        text-align: right;\n",
       "    }\n",
       "</style>\n",
       "<table border=\"1\" class=\"dataframe\">\n",
       "  <thead>\n",
       "    <tr style=\"text-align: right;\">\n",
       "      <th></th>\n",
       "      <th>id</th>\n",
       "      <th>label</th>\n",
       "    </tr>\n",
       "  </thead>\n",
       "  <tbody>\n",
       "    <tr>\n",
       "      <th>0</th>\n",
       "      <td>60001</td>\n",
       "      <td>0</td>\n",
       "    </tr>\n",
       "    <tr>\n",
       "      <th>1</th>\n",
       "      <td>60002</td>\n",
       "      <td>1</td>\n",
       "    </tr>\n",
       "    <tr>\n",
       "      <th>2</th>\n",
       "      <td>60003</td>\n",
       "      <td>2</td>\n",
       "    </tr>\n",
       "    <tr>\n",
       "      <th>3</th>\n",
       "      <td>60004</td>\n",
       "      <td>3</td>\n",
       "    </tr>\n",
       "    <tr>\n",
       "      <th>4</th>\n",
       "      <td>60005</td>\n",
       "      <td>4</td>\n",
       "    </tr>\n",
       "  </tbody>\n",
       "</table>\n",
       "</div>"
      ],
      "text/plain": [
       "      id  label\n",
       "0  60001      0\n",
       "1  60002      1\n",
       "2  60003      2\n",
       "3  60004      3\n",
       "4  60005      4"
      ]
     },
     "execution_count": 86,
     "metadata": {
      "tags": []
     },
     "output_type": "execute_result"
    }
   ],
   "source": [
    "#Creating columns for submission in pandas dataframe\n",
    "\n",
    "cnn_sub = pd.DataFrame({\"id\":mnist_test[\"id\"], \"label\":y_pred_cnn})\n",
    "cnn_sub.head()"
   ]
  },
  {
   "cell_type": "markdown",
   "metadata": {
    "colab_type": "text",
    "id": "whpVRfndukH9"
   },
   "source": [
    "# 10.3 CRNN"
   ]
  },
  {
   "cell_type": "code",
   "execution_count": 87,
   "metadata": {
    "colab": {
     "base_uri": "https://localhost:8080/",
     "height": 204
    },
    "colab_type": "code",
    "id": "szohbrUjukcD",
    "outputId": "dc2b1cef-3216-4ac9-8780-3437ba3db928"
   },
   "outputs": [
    {
     "data": {
      "text/html": [
       "<div>\n",
       "<style scoped>\n",
       "    .dataframe tbody tr th:only-of-type {\n",
       "        vertical-align: middle;\n",
       "    }\n",
       "\n",
       "    .dataframe tbody tr th {\n",
       "        vertical-align: top;\n",
       "    }\n",
       "\n",
       "    .dataframe thead th {\n",
       "        text-align: right;\n",
       "    }\n",
       "</style>\n",
       "<table border=\"1\" class=\"dataframe\">\n",
       "  <thead>\n",
       "    <tr style=\"text-align: right;\">\n",
       "      <th></th>\n",
       "      <th>id</th>\n",
       "      <th>label</th>\n",
       "    </tr>\n",
       "  </thead>\n",
       "  <tbody>\n",
       "    <tr>\n",
       "      <th>0</th>\n",
       "      <td>60001</td>\n",
       "      <td>0</td>\n",
       "    </tr>\n",
       "    <tr>\n",
       "      <th>1</th>\n",
       "      <td>60002</td>\n",
       "      <td>1</td>\n",
       "    </tr>\n",
       "    <tr>\n",
       "      <th>2</th>\n",
       "      <td>60003</td>\n",
       "      <td>2</td>\n",
       "    </tr>\n",
       "    <tr>\n",
       "      <th>3</th>\n",
       "      <td>60004</td>\n",
       "      <td>3</td>\n",
       "    </tr>\n",
       "    <tr>\n",
       "      <th>4</th>\n",
       "      <td>60005</td>\n",
       "      <td>4</td>\n",
       "    </tr>\n",
       "  </tbody>\n",
       "</table>\n",
       "</div>"
      ],
      "text/plain": [
       "      id  label\n",
       "0  60001      0\n",
       "1  60002      1\n",
       "2  60003      2\n",
       "3  60004      3\n",
       "4  60005      4"
      ]
     },
     "execution_count": 87,
     "metadata": {
      "tags": []
     },
     "output_type": "execute_result"
    }
   ],
   "source": [
    "#Creating columns for submission in pandas dataframe\n",
    "\n",
    "crnn_sub = pd.DataFrame({\"id\":mnist_test[\"id\"], \"label\":y_pred_crnn})\n",
    "crnn_sub.head()"
   ]
  },
  {
   "cell_type": "markdown",
   "metadata": {
    "colab_type": "text",
    "id": "6ihA004lpEHy"
   },
   "source": [
    "# 11. Converting our Predictions into CSV Format"
   ]
  },
  {
   "cell_type": "markdown",
   "metadata": {
    "colab_type": "text",
    "id": "UxsMH5rnvK8m"
   },
   "source": [
    "# 11.1 Original ANN"
   ]
  },
  {
   "cell_type": "code",
   "execution_count": 0,
   "metadata": {
    "colab": {},
    "colab_type": "code",
    "id": "4t3QEXJhpDbM"
   },
   "outputs": [],
   "source": [
    "#Converting data frame to csv for submission\n",
    "\n",
    "ann_filename = \"MNIST_ANN_Model_Predictions2.csv\"\n",
    "\n",
    "ann_sub.to_csv(ann_filename, index = False, header = 1)"
   ]
  },
  {
   "cell_type": "markdown",
   "metadata": {
    "colab_type": "text",
    "id": "ZcYl25tmvPuh"
   },
   "source": [
    "# 11.2 CNN"
   ]
  },
  {
   "cell_type": "code",
   "execution_count": 0,
   "metadata": {
    "colab": {},
    "colab_type": "code",
    "id": "MCcAnbTVvP4e"
   },
   "outputs": [],
   "source": [
    "#Converting data frame to csv for submission\n",
    "\n",
    "cnn_filename = \"MNIST_CNN_Model_Predictions2.csv\"\n",
    "\n",
    "cnn_sub.to_csv(cnn_filename, index = False, header = 1)"
   ]
  },
  {
   "cell_type": "markdown",
   "metadata": {
    "colab_type": "text",
    "id": "DJCkwbYlvQCC"
   },
   "source": [
    "# 11.3 CRNN"
   ]
  },
  {
   "cell_type": "code",
   "execution_count": 0,
   "metadata": {
    "colab": {},
    "colab_type": "code",
    "id": "Lm82mdl1vS6P"
   },
   "outputs": [],
   "source": [
    "#Converting data frame to csv for submission\n",
    "\n",
    "crnn_filename = \"MNIST_CRNN_Model_Predictions2.csv\"\n",
    "\n",
    "crnn_sub.to_csv(crnn_filename, index = False, header = 1)"
   ]
  },
  {
   "cell_type": "markdown",
   "metadata": {
    "colab_type": "text",
    "id": "GQxIBoqv4zRq"
   },
   "source": [
    "# 12. Summary of the Models Performance"
   ]
  },
  {
   "cell_type": "code",
   "execution_count": 0,
   "metadata": {
    "colab": {},
    "colab_type": "code",
    "id": "fO36sg-o5CCr"
   },
   "outputs": [],
   "source": [
    "# Comparing all of the models accuracy scores for the training and test data\n",
    "\n",
    "model_performance_acc = pd.DataFrame({'Model': ['Original ANN',\n",
    "                                                 'CNN',\n",
    "                                                 'CRNN'],\n",
    "                                       'Accuracy - Train (Normal)' : [model_acc,\n",
    "                                                model_acc_cnn,\n",
    "                                                model_acc_crnn],\n",
    "                                       'Accuracy - Train (Cross-Val)' : [model_acc_cv,\n",
    "                                                model_acc_cnn_cv,\n",
    "                                                model_acc_crnn_cv],\n",
    "                                        'Accuracy - Test': ['0.89900',\n",
    "                                                        '0.98066',\n",
    "                                                        '0.97466']})"
   ]
  },
  {
   "cell_type": "code",
   "execution_count": 92,
   "metadata": {
    "colab": {
     "base_uri": "https://localhost:8080/",
     "height": 142
    },
    "colab_type": "code",
    "id": "hCJv4tuI5Fm3",
    "outputId": "c3dacac0-8bef-477a-8c54-a14467b7b22d"
   },
   "outputs": [
    {
     "data": {
      "text/html": [
       "<div>\n",
       "<style scoped>\n",
       "    .dataframe tbody tr th:only-of-type {\n",
       "        vertical-align: middle;\n",
       "    }\n",
       "\n",
       "    .dataframe tbody tr th {\n",
       "        vertical-align: top;\n",
       "    }\n",
       "\n",
       "    .dataframe thead th {\n",
       "        text-align: right;\n",
       "    }\n",
       "</style>\n",
       "<table border=\"1\" class=\"dataframe\">\n",
       "  <thead>\n",
       "    <tr style=\"text-align: right;\">\n",
       "      <th></th>\n",
       "      <th>Model</th>\n",
       "      <th>Accuracy - Train (Normal)</th>\n",
       "      <th>Accuracy - Train (Cross-Val)</th>\n",
       "      <th>Accuracy - Test</th>\n",
       "    </tr>\n",
       "  </thead>\n",
       "  <tbody>\n",
       "    <tr>\n",
       "      <th>0</th>\n",
       "      <td>Original ANN</td>\n",
       "      <td>0.994111</td>\n",
       "      <td>0.963667</td>\n",
       "      <td>0.89900</td>\n",
       "    </tr>\n",
       "    <tr>\n",
       "      <th>1</th>\n",
       "      <td>CNN</td>\n",
       "      <td>0.994463</td>\n",
       "      <td>0.990500</td>\n",
       "      <td>0.98066</td>\n",
       "    </tr>\n",
       "    <tr>\n",
       "      <th>2</th>\n",
       "      <td>CRNN</td>\n",
       "      <td>0.996222</td>\n",
       "      <td>0.990667</td>\n",
       "      <td>0.97466</td>\n",
       "    </tr>\n",
       "  </tbody>\n",
       "</table>\n",
       "</div>"
      ],
      "text/plain": [
       "          Model  ...  Accuracy - Test\n",
       "0  Original ANN  ...          0.89900\n",
       "1           CNN  ...          0.98066\n",
       "2          CRNN  ...          0.97466\n",
       "\n",
       "[3 rows x 4 columns]"
      ]
     },
     "execution_count": 92,
     "metadata": {
      "tags": []
     },
     "output_type": "execute_result"
    }
   ],
   "source": [
    "model_performance_acc"
   ]
  },
  {
   "cell_type": "markdown",
   "metadata": {
    "colab_type": "text",
    "id": "D6Klt-lrRpDd"
   },
   "source": [
    "**Original ANN** - For the orginal ANN model, the two training accuracy scores of 0.9941 and 0.9637 are from the normal model and the cross-validation model, respectively. This shows that the normal training model was much more accurate than the cross-validation model, which suggests overfitting. Furthermore, with reference to the accuracy of the test model (0.8990), this gives further evidence that the model has been overfitting. Despite this, the original ANN model was primarily used as a baseline for our other two models. Therefore, an accuracy close to 90% is a suitable boundary for this specific dataset.\n",
    "\n",
    "**CNN** - With reference to both of our training accuracy scores for the CNN model, these were both very similar with a difference of only 0.0040. This is a major indication that our model has not been susceptible to overfitting the data and can be ready for testing. In addition, our test model gave us an accuracy score of 0.9807. However, even though this is slightly less accurate than our training models, it is highly expected that a test model will be at least slightly less accurate which is the case here. Despite this, our test accuracy is the highest out of our three models and at the moment is within the top 10 submissions on the Kaggle competition page.\n",
    "\n",
    "**CRNN** - As was the case with the CNN model, the training accuracy scores for the normal model (0.9962) and the cross-validation model (0.9907) imply that overfitting of the data was not encountered here. Moreover, as our CRNN model still encorporates a CNN model, we would expect the results to be relatively similar. This is emphasised due to the fact that the accuracy difference between the training scores was 0.0056; only 0.0014 greater than the CNN model. Taking all of this into account, as the difference in scores was slightly greater for this model, this evidently is the reason behind it falling just short of the CNN model test accuracy.\n",
    "\n",
    "**NB**: The test accuracy scores given above are the most accurate for each individual model tested."
   ]
  },
  {
   "cell_type": "markdown",
   "metadata": {
    "colab_type": "text",
    "id": "f2hfX4PD8VbI"
   },
   "source": [
    "# 13. Conclusion"
   ]
  },
  {
   "cell_type": "markdown",
   "metadata": {
    "colab_type": "text",
    "id": "5Qm7rFElUtVS"
   },
   "source": [
    "In conclusion, we have successfully carried out the predominant aim of the investigation to classify the digits between 0 and 9 of the Kannada MNIST test dataset. This involved taking a training dataset and applying a host of machine learning techniques involving neural networks to achieve a high accuracy for this classification problem. Unlike our first assignment, feature engineering was not necessary for this specific dataset. However, with respect to our CNN and CRNN models, data augmentation was required. This provided the models with more images of each digit and, hence, improved the accuracy of our test scores.\n",
    "\n",
    "The three ML models we chose to use were as follows: An original ANN, a CNN, and a CRNN. The original ANN was crucial as it acted as a starting point to our investigation. This baseline allowed us to compare the test accuracy with more complex models. The CNN gave us the highest test accuracy score of 0.9807. This ended up being much greater than our baseline accuracy of 0.8990. Furthermore, this was also slightly greater than our CRNN model of 0.9747. This shows that convolutional neural networks are essentially needed to achieve high accuracy in tasks such as this. To improve our accuracy, one method we could implement next time could be to add more hidden layers to the CNN model. However, we cannot add too many more otherwise overfitting could occur."
   ]
  }
 ],
 "metadata": {
  "accelerator": "GPU",
  "colab": {
   "collapsed_sections": [],
   "name": "Assignment2 - Kannada MNIST.ipynb",
   "provenance": [],
   "toc_visible": true
  },
  "kernelspec": {
   "display_name": "Python 3",
   "language": "python",
   "name": "python3"
  },
  "language_info": {
   "codemirror_mode": {
    "name": "ipython",
    "version": 3
   },
   "file_extension": ".py",
   "mimetype": "text/x-python",
   "name": "python",
   "nbconvert_exporter": "python",
   "pygments_lexer": "ipython3",
   "version": "3.8.3"
  }
 },
 "nbformat": 4,
 "nbformat_minor": 1
}
